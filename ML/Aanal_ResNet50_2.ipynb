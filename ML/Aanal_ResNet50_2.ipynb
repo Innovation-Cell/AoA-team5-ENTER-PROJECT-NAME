{
  "nbformat": 4,
  "nbformat_minor": 0,
  "metadata": {
    "colab": {
      "name": "Aanal_ResNet50_2",
      "provenance": [],
      "authorship_tag": "ABX9TyNLMjmp0GGrvUX1zARA2VeA",
      "include_colab_link": true
    },
    "kernelspec": {
      "name": "python3",
      "display_name": "Python 3"
    },
    "accelerator": "GPU"
  },
  "cells": [
    {
      "cell_type": "markdown",
      "metadata": {
        "id": "view-in-github",
        "colab_type": "text"
      },
      "source": [
        "<a href=\"https://colab.research.google.com/github/Dikshuy/hail_UMICaana/blob/master/Aanal_ResNet50_2.ipynb\" target=\"_parent\"><img src=\"https://colab.research.google.com/assets/colab-badge.svg\" alt=\"Open In Colab\"/></a>"
      ]
    },
    {
      "cell_type": "code",
      "metadata": {
        "id": "ZsqTdLU-txVh",
        "colab_type": "code",
        "colab": {
          "base_uri": "https://localhost:8080/",
          "height": 50
        },
        "outputId": "a9cae29a-6a6b-48cb-a008-7ee705b44bfb"
      },
      "source": [
        "import numpy as np\n",
        "import cv2\n",
        "import os\n",
        "from google.colab import drive\n",
        "from tensorflow.keras.preprocessing.image import img_to_array\n",
        "from sklearn.preprocessing import LabelEncoder\n",
        "from keras.utils import to_categorical\n",
        "from google.colab.patches import cv2_imshow\n",
        "drive.mount('/content/drive')\n",
        "%cd '/content/drive/My Drive/Letters'"
      ],
      "execution_count": 105,
      "outputs": [
        {
          "output_type": "stream",
          "text": [
            "Drive already mounted at /content/drive; to attempt to forcibly remount, call drive.mount(\"/content/drive\", force_remount=True).\n",
            "/content/drive/My Drive/Letters\n"
          ],
          "name": "stdout"
        }
      ]
    },
    {
      "cell_type": "code",
      "metadata": {
        "id": "hMsblP79uA-k",
        "colab_type": "code",
        "colab": {
          "base_uri": "https://localhost:8080/",
          "height": 169
        },
        "outputId": "b9c17ea6-06cb-4b71-a5a7-e332ac56a327"
      },
      "source": [
        "\n",
        "symbols = []\n",
        "alphabets = []\n",
        "#X_img = []\n",
        "img_path = '/content/drive/My Drive/Letters'\n",
        "for file in os.listdir('/content/drive/My Drive/Letters'):\n",
        "  thresh = cv2.imread(os.path.join(img_path, file), 0)\n",
        "#  thresh = cv2.cvtColor(thresh, cv2.COLOR_BGR2HSV)\n",
        "#  _, thresh = cv2.threshold(img, 155, 255, cv2.THRESH_BINARY)\n",
        "#  canny = cv2.Canny(thresh, 155, 255)\n",
        "#  cv2_imshow(canny)\n",
        "  symbols.append(thresh)\n",
        "\n",
        "  if file == \"C2.jpg\":\n",
        "    alphabets.append(\"C\")\n",
        "  else:\n",
        "    alphabets.append(file[0])\n",
        "\n",
        "#  if file == \"a2.jpg\":\n",
        "#    a_img = thresh \n",
        "cv2_imshow(symbols[7])\n",
        "\n"
      ],
      "execution_count": 108,
      "outputs": [
        {
          "output_type": "display_data",
          "data": {
            "image/png": "[encoded data removed]",
            "text/plain": [
              "<PIL.Image.Image image mode=L size=151x152 at 0x7FA98737DF60>"
            ]
          },
          "metadata": {
            "tags": []
          }
        }
      ]
    },
    {
      "cell_type": "code",
      "metadata": {
        "id": "oVLToNexH1Ry",
        "colab_type": "code",
        "colab": {
          "base_uri": "https://localhost:8080/",
          "height": 35
        },
        "outputId": "bd205bfa-4a08-449c-a96b-a49dc81e9677"
      },
      "source": [
        "\n",
        "encoder = np.array(alphabets)\n",
        "\n",
        "label_encoder = LabelEncoder()\n",
        "integer_encoder = label_encoder.fit_transform(encoder)\n",
        "#print(alphabets)\n",
        "\n",
        "one_hot = to_categorical(integer_encoder)\n",
        "#print(one_hot)\n",
        "data = []\n",
        "label = []\n",
        "\n",
        "#for j in range(len(one_hot)):\n",
        "\"\"\"print(len(one_hot))\n",
        "print(one_hot[:])\n",
        "for i in range(18):\n",
        "  cv2_imshow(symbols[i])\"\"\""
      ],
      "execution_count": 109,
      "outputs": [
        {
          "output_type": "execute_result",
          "data": {
            "application/vnd.google.colaboratory.intrinsic+json": {
              "type": "string"
            },
            "text/plain": [
              "'print(len(one_hot))\\nprint(one_hot[:])\\nfor i in range(18):\\n  cv2_imshow(symbols[i])'"
            ]
          },
          "metadata": {
            "tags": []
          },
          "execution_count": 109
        }
      ]
    },
    {
      "cell_type": "code",
      "metadata": {
        "id": "l55yHwsDH2aW",
        "colab_type": "code",
        "colab": {
          "base_uri": "https://localhost:8080/",
          "height": 34
        },
        "outputId": "44d8eb13-f6c2-4e60-ee44-dc417f7653de"
      },
      "source": [
        "for j in range(len(symbols)):\n",
        "  for i in range(-4, 5):\n",
        "    rows, cols = symbols[j].shape[:2]\n",
        "    M = cv2.getRotationMatrix2D((cols/2, rows/2), 5*i, 1)\n",
        "    res = cv2.warpAffine(symbols[j], M, (rows, cols))\n",
        "    label.append(one_hot[j])\n",
        "    #print(one_hot[0][j])\n",
        "    data.append(res)\n",
        "    \n",
        "#print(label[70])\n",
        "#cv2_imshow(data[70]) \n",
        "print(len(label), len(data))\n",
        "\n",
        "num = len(label)\n"
      ],
      "execution_count": 110,
      "outputs": [
        {
          "output_type": "stream",
          "text": [
            "162 162\n"
          ],
          "name": "stdout"
        }
      ]
    },
    {
      "cell_type": "code",
      "metadata": {
        "id": "tThItVrGuE-O",
        "colab_type": "code",
        "colab": {
          "base_uri": "https://localhost:8080/",
          "height": 50
        },
        "outputId": "53c28c90-5c8b-4077-f3aa-079293661b86"
      },
      "source": [
        "for j in range(num):\n",
        "  for i in range(7, 13, 2):\n",
        "    res_img = cv2.GaussianBlur(data[j], (i, i), 0)\n",
        "    data.append(res_img)\n",
        "    label.append(label[j])\n",
        "    \n",
        "print(len(label), len(data))\n",
        "\n",
        "for j in range(num):\n",
        "  res_img = cv2.medianBlur(data[j], 11)\n",
        "  data.append(res_img)\n",
        "  label.append(label[j])\n",
        "\n",
        "print(len(label), len(data))\n",
        "\n",
        "#print(len(label), len(data))\n",
        "#cv2_imshow(data[650])\n",
        "#print(label[650]) \n",
        "#cv2_imshow(data[15])\n",
        "\n",
        "\n",
        "#print(len(label), len(data))\n",
        "#print(label[1500])\n",
        "#cv2_imshow(data[1500])"
      ],
      "execution_count": 111,
      "outputs": [
        {
          "output_type": "stream",
          "text": [
            "648 648\n",
            "810 810\n"
          ],
          "name": "stdout"
        }
      ]
    },
    {
      "cell_type": "code",
      "metadata": {
        "id": "0i-OQhU4uaxa",
        "colab_type": "code",
        "colab": {
          "base_uri": "https://localhost:8080/",
          "height": 34
        },
        "outputId": "b2d9e558-563c-49eb-d596-7b18c45e876f"
      },
      "source": [
        "for j in range(num):\n",
        "  for i in range(9, 13, 2):\n",
        "    res_img = cv2.bilateralFilter(data[j], i, 200, 200)\n",
        "    data.append(res_img)\n",
        "    label.append(label[j])\n",
        "\n",
        "print(len(label), len(data))"
      ],
      "execution_count": 112,
      "outputs": [
        {
          "output_type": "stream",
          "text": [
            "1134 1134\n"
          ],
          "name": "stdout"
        }
      ]
    },
    {
      "cell_type": "code",
      "metadata": {
        "id": "EIwYlDwXucwx",
        "colab_type": "code",
        "colab": {
          "base_uri": "https://localhost:8080/",
          "height": 34
        },
        "outputId": "e207405e-5798-4685-a4d0-40445d12c504"
      },
      "source": [
        "for j in range(num):\n",
        "  res_img = cv2.erode(data[j], np.ones((3,3)), iterations = 1)\n",
        "  data.append(res_img)\n",
        "  label.append(label[j])\n",
        "  #cv2_imshow(res_img)\n",
        "print(len(label), len(data))"
      ],
      "execution_count": 113,
      "outputs": [
        {
          "output_type": "stream",
          "text": [
            "1296 1296\n"
          ],
          "name": "stdout"
        }
      ]
    },
    {
      "cell_type": "code",
      "metadata": {
        "id": "dEDRDmSyuecn",
        "colab_type": "code",
        "colab": {
          "base_uri": "https://localhost:8080/",
          "height": 34
        },
        "outputId": "f38844f3-55bc-49c4-b1ff-c8f2fb6e779f"
      },
      "source": [
        "for j in range(num):\n",
        "  res_img = cv2.dilate(data[j], np.ones((5, 5), np.uint8), iterations = 1)\n",
        "  data.append(res_img)\n",
        "  label.append(label[j])\n",
        "\n",
        "print(len(label), len(data))"
      ],
      "execution_count": 114,
      "outputs": [
        {
          "output_type": "stream",
          "text": [
            "1458 1458\n"
          ],
          "name": "stdout"
        }
      ]
    },
    {
      "cell_type": "code",
      "metadata": {
        "id": "kTeK_s15rXio",
        "colab_type": "code",
        "colab": {
          "base_uri": "https://localhost:8080/",
          "height": 69
        },
        "outputId": "d6cb7836-0eef-496f-98ab-0fc688526cf3"
      },
      "source": [
        "\"\"\"for j in range(num):\n",
        "  \n",
        "  for i in range(1,7,2):\n",
        "    img7 = cv2.dilate(img7, np.ones((i, i), np.uint8), iterations =1)\n",
        "    img7 = cv2.erode(data[j], np.ones((i, i), np.uint8), iterations =1)\n",
        "    data.append(img7)\n",
        "    cv2_imshow(img7)\n",
        "    label.append(label[j])\n",
        "#  cv2_imshow(data[j])\n",
        "#cv2_imshow(data[4112])\n",
        "#print(label[4112])\n",
        "#print(len(label), len(data))\"\"\""
      ],
      "execution_count": 115,
      "outputs": [
        {
          "output_type": "execute_result",
          "data": {
            "application/vnd.google.colaboratory.intrinsic+json": {
              "type": "string"
            },
            "text/plain": [
              "'for j in range(num):\\n  \\n  for i in range(1,7,2):\\n    img7 = cv2.dilate(img7, np.ones((i, i), np.uint8), iterations =1)\\n    img7 = cv2.erode(data[j], np.ones((i, i), np.uint8), iterations =1)\\n    data.append(img7)\\n    cv2_imshow(img7)\\n    label.append(label[j])\\n#  cv2_imshow(data[j])\\n#cv2_imshow(data[4112])\\n#print(label[4112])\\n#print(len(label), len(data))'"
            ]
          },
          "metadata": {
            "tags": []
          },
          "execution_count": 115
        }
      ]
    },
    {
      "cell_type": "code",
      "metadata": {
        "id": "xmapnE7RraOd",
        "colab_type": "code",
        "colab": {
          "base_uri": "https://localhost:8080/",
          "height": 52
        },
        "outputId": "e38ca10c-34d9-4ed2-cfbd-981b2bc224a2"
      },
      "source": [
        "\"\"\"for j in range(num):\n",
        "  data.append(cv2.pyrDown(data[j]))\n",
        "  label.append(label[j])\n",
        "  data.append(cv2.pyrUp(data[j]))\n",
        "  label.append(label[j])\n",
        "#  cv2_imshow(cv2.pyrDown(data[j]))\n",
        "#print(len(label), len(data))\"\"\"\n"
      ],
      "execution_count": 116,
      "outputs": [
        {
          "output_type": "execute_result",
          "data": {
            "application/vnd.google.colaboratory.intrinsic+json": {
              "type": "string"
            },
            "text/plain": [
              "'for j in range(num):\\n  data.append(cv2.pyrDown(data[j]))\\n  label.append(label[j])\\n  data.append(cv2.pyrUp(data[j]))\\n  label.append(label[j])\\n#  cv2_imshow(cv2.pyrDown(data[j]))\\n#print(len(label), len(data))'"
            ]
          },
          "metadata": {
            "tags": []
          },
          "execution_count": 116
        }
      ]
    },
    {
      "cell_type": "code",
      "metadata": {
        "id": "nkry0eVjDxcU",
        "colab_type": "code",
        "colab": {
          "base_uri": "https://localhost:8080/",
          "height": 52
        },
        "outputId": "95878649-e58c-4876-bbc2-075ce63021b6"
      },
      "source": [
        "\"\"\"for j in range(num):\n",
        "  img  = cv2.pyrDown(data[j])\n",
        "  img = cv2.pyrDown(img)\n",
        "  img = cv2.pyrUp(img)\n",
        "  img = cv2.dilate(img, np.ones((3, 3), np.uint8), iterations = 1 )\n",
        "  data.append(img)\n",
        "  label.append(label[j])\n",
        "\n",
        "data[-5] = cv2.resize(data[-5], (224, 224))\n",
        "\n",
        "cv2_imshow(data[-5])\n",
        "\n",
        "print(label[-5])\"\"\""
      ],
      "execution_count": 117,
      "outputs": [
        {
          "output_type": "execute_result",
          "data": {
            "application/vnd.google.colaboratory.intrinsic+json": {
              "type": "string"
            },
            "text/plain": [
              "'for j in range(num):\\n  img  = cv2.pyrDown(data[j])\\n  img = cv2.pyrDown(img)\\n  img = cv2.pyrUp(img)\\n  img = cv2.dilate(img, np.ones((3, 3), np.uint8), iterations = 1 )\\n  data.append(img)\\n  label.append(label[j])\\n\\ndata[-5] = cv2.resize(data[-5], (224, 224))\\n\\ncv2_imshow(data[-5])\\n\\nprint(label[-5])'"
            ]
          },
          "metadata": {
            "tags": []
          },
          "execution_count": 117
        }
      ]
    },
    {
      "cell_type": "code",
      "metadata": {
        "id": "K1ISG6QouglA",
        "colab_type": "code",
        "colab": {
          "base_uri": "https://localhost:8080/",
          "height": 50
        },
        "outputId": "2a3e9fec-5b2b-47cd-a15a-a1bc6e05dc10"
      },
      "source": [
        "import numpy as np\n",
        "for i in range(len(data)):\n",
        "  data[i] = cv2.resize(data[i], (128, 128))\n",
        "data = np.array(data)\n",
        "data = np.reshape(data, (data.shape[0], 128, 128, 1))\n",
        "label = np.array(label)\n",
        "print(label.shape)\n",
        "print(data.shape)"
      ],
      "execution_count": 118,
      "outputs": [
        {
          "output_type": "stream",
          "text": [
            "(1458, 17)\n",
            "(1458, 128, 128, 1)\n"
          ],
          "name": "stdout"
        }
      ]
    },
    {
      "cell_type": "code",
      "metadata": {
        "id": "rmEx6LNjeJVu",
        "colab_type": "code",
        "colab": {}
      },
      "source": [
        "from tensorflow.keras.layers import AveragePooling2D\n",
        "from tensorflow.keras.layers import Dropout\n",
        "from tensorflow.keras.layers import Flatten\n",
        "from tensorflow.keras.layers import Dense\n",
        "from tensorflow.keras.layers import Input, ZeroPadding2D, BatchNormalization, Add\n",
        "from keras.models import Model\n",
        "from tensorflow.keras.losses import MAE\n",
        "from tensorflow.keras.optimizers import Adam\n",
        "from sklearn.model_selection import train_test_split\n",
        "from tensorflow.keras.layers import Conv2D\n",
        "from tensorflow.keras import Input\n",
        "from tensorflow.keras.utils import plot_model\n",
        "from keras.models import Sequential\n",
        "from keras.layers import Conv2D, MaxPooling2D \n",
        "from keras.layers import Activation, Dropout, Flatten, Dense \n",
        "from keras import backend as K \n",
        "import keras\n",
        "from keras.initializers import glorot_uniform\n"
      ],
      "execution_count": 119,
      "outputs": []
    },
    {
      "cell_type": "code",
      "metadata": {
        "id": "Bo4cDUfyq9xX",
        "colab_type": "code",
        "colab": {}
      },
      "source": [
        "def identity_block(X, f, filters, stage, block):\n",
        "    \n",
        "    conv_name_base = 'res' + str(stage) + block + '_branch'\n",
        "    bn_name_base = 'bn' + str(stage) + block + '_branch'\n",
        "\n",
        "    # Retrieve Filters\n",
        "    F1, F2, F3 = filters\n",
        "\n",
        "    # Save the input value. You'll need this later to add back to the main path. \n",
        "    X_shortcut = X\n",
        "\n",
        "    X = Conv2D(filters=F1, kernel_size=(1, 1), strides=(1, 1), padding='valid', name=conv_name_base + '2a', kernel_initializer=glorot_uniform(seed=0))(X)\n",
        "    X = BatchNormalization(axis=3, name=bn_name_base + '2a')(X)\n",
        "    X = Activation('relu')(X)\n",
        "\n",
        "    \n",
        "    # Second component of main path (≈3 lines)\n",
        "    X = Conv2D(filters=F2, kernel_size=(f, f), strides=(1, 1), padding='same', name=conv_name_base + '2b', kernel_initializer=glorot_uniform(seed=0))(X)\n",
        "    X = BatchNormalization(axis=3, name=bn_name_base + '2b')(X)\n",
        "    X = Activation('relu')(X)\n",
        "\n",
        "    # Third component of main path (≈2 lines)\n",
        "    X = Conv2D(filters=F3, kernel_size=(1, 1), strides=(1, 1), padding='valid', name=conv_name_base + '2c', kernel_initializer=glorot_uniform(seed=0))(X)\n",
        "    X = BatchNormalization(axis=3, name=bn_name_base + '2c')(X)\n",
        "\n",
        "    # Final step: Add shortcut value to main path, and pass it through a RELU activation (≈2 lines)\n",
        "    X = Add()([X, X_shortcut])\n",
        "    X = Activation('relu')(X)\n",
        "\n",
        "    \n",
        "    return X"
      ],
      "execution_count": 120,
      "outputs": []
    },
    {
      "cell_type": "code",
      "metadata": {
        "id": "_9vyXU8brCeY",
        "colab_type": "code",
        "colab": {}
      },
      "source": [
        "\n",
        "# GRADED FUNCTION: convolutional_block\n",
        "\n",
        "def convolutional_block(X, f, filters, stage, block, s = 2):\n",
        "    \n",
        "    # defining name basis\n",
        "    conv_name_base = 'res' + str(stage) + block + '_branch'\n",
        "    bn_name_base = 'bn' + str(stage) + block + '_branch'\n",
        "\n",
        "    # Retrieve Filters\n",
        "    F1, F2, F3 = filters\n",
        "\n",
        "    # Save the input value\n",
        "    X_shortcut = X\n",
        "\n",
        "    # First component of main path \n",
        "    X = Conv2D(filters=F1, kernel_size=(1, 1), strides=(s, s), padding='valid', name=conv_name_base + '2a', kernel_initializer=glorot_uniform(seed=0))(X)\n",
        "    X = BatchNormalization(axis=3, name=bn_name_base + '2a')(X)\n",
        "    X = Activation('relu')(X)\n",
        "\n",
        "    \n",
        "    # Second component of main path (≈3 lines)\n",
        "    X = Conv2D(filters=F2, kernel_size=(f, f), strides=(1, 1), padding='same', name=conv_name_base + '2b', kernel_initializer=glorot_uniform(seed=0))(X)\n",
        "    X = BatchNormalization(axis=3, name=bn_name_base + '2b')(X)\n",
        "    X = Activation('relu')(X)\n",
        "\n",
        "    # Third component of main path (≈2 lines)\n",
        "    X = Conv2D(filters=F3, kernel_size=(1, 1), strides=(1, 1), padding='valid', name=conv_name_base + '2c', kernel_initializer=glorot_uniform(seed=0))(X)\n",
        "    X = BatchNormalization(axis=3, name=bn_name_base + '2c')(X)\n",
        "\n",
        "    ##### SHORTCUT PATH #### (≈2 lines)\n",
        "    X_shortcut = Conv2D(filters=F3, kernel_size=(1, 1), strides=(s, s), padding='valid', name=conv_name_base + '1', kernel_initializer=glorot_uniform(seed=0))(X_shortcut)\n",
        "    X_shortcut = BatchNormalization(axis=3, name=bn_name_base + '1')(X_shortcut)\n",
        "\n",
        "    # Final step: Add shortcut value to main path, and pass it through a RELU activation (≈2 lines)\n",
        "    X = Add()([X, X_shortcut])\n",
        "    X = Activation('relu')(X)\n",
        "\n",
        "    return X\n",
        "    "
      ],
      "execution_count": 121,
      "outputs": []
    },
    {
      "cell_type": "code",
      "metadata": {
        "id": "C7uFA-CzrRBF",
        "colab_type": "code",
        "colab": {}
      },
      "source": [
        "# GRADED FUNCTION: ResNet50\n",
        "\n",
        "def ResNet50(input_shape = (128, 128, 1), classes = 17):\n",
        "    \n",
        "    X_input = Input(input_shape)\n",
        "\n",
        "    # Zero-Padding\n",
        "    X = ZeroPadding2D((3, 3))(X_input)\n",
        "\n",
        "    # Stage 1\n",
        "    X = Conv2D(64, (5, 5), strides=(2, 2), name='conv1', kernel_initializer=glorot_uniform(seed=0))(X)\n",
        "    X = BatchNormalization(axis=3, name='bn_conv1')(X)\n",
        "    X = Activation('relu')(X)\n",
        "    X = MaxPooling2D((3, 3), strides=(2, 2))(X)\n",
        "\n",
        "    # Stage 2\n",
        "    X = convolutional_block(X, f=3, filters=[64, 64, 64], stage=2, block='a', s=1)\n",
        "    X = identity_block(X, 3, [64, 64, 64], stage=2, block='b')\n",
        "    X = identity_block(X, 3, [64, 64, 64], stage=2, block='c')\n",
        "\n",
        "    \n",
        "    # Stage 3 (≈4 lines)\n",
        "    X = convolutional_block(X, f=3, filters=[64, 64, 128], stage=3, block='a', s=2)\n",
        "    X = identity_block(X, 3, [64, 64, 128], stage=3, block='b')\n",
        "    X = identity_block(X, 3, [64, 64, 128], stage=3, block='c')\n",
        "    X = identity_block(X, 3, [64, 64, 128], stage=3, block='d')\n",
        "\n",
        "    # Stage 4 (≈6 lines)\n",
        "    X = convolutional_block(X, f=3, filters=[128, 128, 256], stage=4, block='a', s=2)\n",
        "    X = identity_block(X, 3, [128, 128, 256], stage=4, block='b')\n",
        "    X = identity_block(X, 3, [128, 128, 256], stage=4, block='c')\n",
        "    X = identity_block(X, 3, [128, 128, 256], stage=4, block='d')\n",
        "    X = identity_block(X, 3, [128, 128, 256], stage=4, block='e')\n",
        "    X = identity_block(X, 3, [128, 128, 256], stage=4, block='f')\n",
        "    \n",
        "    # Stage 5 (≈3 lines)\n",
        "    X = X = convolutional_block(X, f=3, filters=[256, 256, 1024], stage=5, block='a', s=2)\n",
        "    X = identity_block(X, 3, [256, 256, 1024], stage=5, block='b')\n",
        "    X = identity_block(X, 3, [256, 256, 1024], stage=5, block='c')\n",
        "\n",
        "    # AVGPOOL (≈1 line). Use \"X = AveragePooling2D(...)(X)\"\n",
        "    X = AveragePooling2D(pool_size=(2, 2), padding='same')(X)\n",
        "\n",
        "    \n",
        "    # output layer\n",
        "    X = Flatten()(X)\n",
        "    X = Dense(100, activation = 'relu')(X)\n",
        "    X = BatchNormalization()(X)\n",
        "    X = Dense(classes, activation='softmax', name='fc' + str(classes), kernel_initializer=glorot_uniform(seed=0))(X)\n",
        "\n",
        "    # Create model\n",
        "    model = Model(inputs=X_input, outputs=X, name='ResNet50')\n",
        "\n",
        "    return model"
      ],
      "execution_count": null,
      "outputs": []
    },
    {
      "cell_type": "code",
      "metadata": {
        "id": "wJGv68ErrYqW",
        "colab_type": "code",
        "colab": {}
      },
      "source": [
        "model = ResNet50(input_shape = (128, 128, 1), classes = 17)"
      ],
      "execution_count": 133,
      "outputs": []
    },
    {
      "cell_type": "code",
      "metadata": {
        "id": "xXif3k8W9QCV",
        "colab_type": "code",
        "colab": {}
      },
      "source": [
        "model.compile(optimizer='adam', loss='categorical_crossentropy', metrics=['accuracy'])"
      ],
      "execution_count": 134,
      "outputs": []
    },
    {
      "cell_type": "code",
      "metadata": {
        "id": "A3oxazvD-bXv",
        "colab_type": "code",
        "colab": {
          "base_uri": "https://localhost:8080/",
          "height": 1000
        },
        "outputId": "e3eb1070-06e6-41aa-df92-3d7183bce218"
      },
      "source": [
        "from sklearn .model_selection import train_test_split\n",
        "from sklearn.utils import shuffle\n",
        "X_train, X_test, Y_train, Y_test = train_test_split(data, label, random_state= 29, test_size = 0.2)\n",
        "#X_train, Y_train = shuffle(data, label)\n",
        "history = model.fit(X_train, Y_train, epochs = 40, batch_size = 100)"
      ],
      "execution_count": 135,
      "outputs": [
        {
          "output_type": "stream",
          "text": [
            "Epoch 1/40\n",
            "12/12 [==============================] - 3s 249ms/step - loss: 2.2871 - accuracy: 0.3302\n",
            "Epoch 2/40\n",
            "12/12 [==============================] - 3s 241ms/step - loss: 0.5236 - accuracy: 0.9365\n",
            "Epoch 3/40\n",
            "12/12 [==============================] - 3s 240ms/step - loss: 0.0552 - accuracy: 1.0000\n",
            "Epoch 4/40\n",
            "12/12 [==============================] - 3s 240ms/step - loss: 0.0155 - accuracy: 1.0000\n",
            "Epoch 5/40\n",
            "12/12 [==============================] - 3s 240ms/step - loss: 0.0084 - accuracy: 1.0000\n",
            "Epoch 6/40\n",
            "12/12 [==============================] - 3s 240ms/step - loss: 0.0057 - accuracy: 1.0000\n",
            "Epoch 7/40\n",
            "12/12 [==============================] - 3s 241ms/step - loss: 0.0049 - accuracy: 1.0000\n",
            "Epoch 8/40\n",
            "12/12 [==============================] - 3s 240ms/step - loss: 0.0042 - accuracy: 1.0000\n",
            "Epoch 9/40\n",
            "12/12 [==============================] - 3s 240ms/step - loss: 0.0040 - accuracy: 1.0000\n",
            "Epoch 10/40\n",
            "12/12 [==============================] - 3s 241ms/step - loss: 0.0034 - accuracy: 1.0000\n",
            "Epoch 11/40\n",
            "12/12 [==============================] - 3s 241ms/step - loss: 0.0031 - accuracy: 1.0000\n",
            "Epoch 12/40\n",
            "12/12 [==============================] - 3s 241ms/step - loss: 0.0029 - accuracy: 1.0000\n",
            "Epoch 13/40\n",
            "12/12 [==============================] - 3s 242ms/step - loss: 0.0026 - accuracy: 1.0000\n",
            "Epoch 14/40\n",
            "12/12 [==============================] - 3s 240ms/step - loss: 0.0025 - accuracy: 1.0000\n",
            "Epoch 15/40\n",
            "12/12 [==============================] - 3s 240ms/step - loss: 0.0024 - accuracy: 1.0000\n",
            "Epoch 16/40\n",
            "12/12 [==============================] - 3s 240ms/step - loss: 0.0023 - accuracy: 1.0000\n",
            "Epoch 17/40\n",
            "12/12 [==============================] - 3s 240ms/step - loss: 0.0022 - accuracy: 1.0000\n",
            "Epoch 18/40\n",
            "12/12 [==============================] - 3s 241ms/step - loss: 0.0021 - accuracy: 1.0000\n",
            "Epoch 19/40\n",
            "12/12 [==============================] - 3s 241ms/step - loss: 0.0020 - accuracy: 1.0000\n",
            "Epoch 20/40\n",
            "12/12 [==============================] - 3s 241ms/step - loss: 0.0019 - accuracy: 1.0000\n",
            "Epoch 21/40\n",
            "12/12 [==============================] - 3s 240ms/step - loss: 0.0019 - accuracy: 1.0000\n",
            "Epoch 22/40\n",
            "12/12 [==============================] - 3s 241ms/step - loss: 0.0017 - accuracy: 1.0000\n",
            "Epoch 23/40\n",
            "12/12 [==============================] - 3s 241ms/step - loss: 0.0017 - accuracy: 1.0000\n",
            "Epoch 24/40\n",
            "12/12 [==============================] - 3s 240ms/step - loss: 0.0016 - accuracy: 1.0000\n",
            "Epoch 25/40\n",
            "12/12 [==============================] - 3s 241ms/step - loss: 0.0016 - accuracy: 1.0000\n",
            "Epoch 26/40\n",
            "12/12 [==============================] - 3s 241ms/step - loss: 0.0016 - accuracy: 1.0000\n",
            "Epoch 27/40\n",
            "12/12 [==============================] - 3s 240ms/step - loss: 0.0015 - accuracy: 1.0000\n",
            "Epoch 28/40\n",
            "12/12 [==============================] - 3s 240ms/step - loss: 0.0014 - accuracy: 1.0000\n",
            "Epoch 29/40\n",
            "12/12 [==============================] - 3s 240ms/step - loss: 0.0014 - accuracy: 1.0000\n",
            "Epoch 30/40\n",
            "12/12 [==============================] - 3s 241ms/step - loss: 0.0014 - accuracy: 1.0000\n",
            "Epoch 31/40\n",
            "12/12 [==============================] - 3s 240ms/step - loss: 0.0013 - accuracy: 1.0000\n",
            "Epoch 32/40\n",
            "12/12 [==============================] - 3s 240ms/step - loss: 0.0013 - accuracy: 1.0000\n",
            "Epoch 33/40\n",
            "12/12 [==============================] - 3s 242ms/step - loss: 0.0012 - accuracy: 1.0000\n",
            "Epoch 34/40\n",
            "12/12 [==============================] - 3s 242ms/step - loss: 0.0012 - accuracy: 1.0000\n",
            "Epoch 35/40\n",
            "12/12 [==============================] - 3s 241ms/step - loss: 0.0013 - accuracy: 1.0000\n",
            "Epoch 36/40\n",
            "12/12 [==============================] - 3s 241ms/step - loss: 0.0012 - accuracy: 1.0000\n",
            "Epoch 37/40\n",
            "12/12 [==============================] - 3s 241ms/step - loss: 0.0012 - accuracy: 1.0000\n",
            "Epoch 38/40\n",
            "12/12 [==============================] - 3s 240ms/step - loss: 0.0011 - accuracy: 1.0000\n",
            "Epoch 39/40\n",
            "12/12 [==============================] - 3s 241ms/step - loss: 0.0011 - accuracy: 1.0000\n",
            "Epoch 40/40\n",
            "12/12 [==============================] - 3s 240ms/step - loss: 0.0011 - accuracy: 1.0000\n"
          ],
          "name": "stdout"
        }
      ]
    },
    {
      "cell_type": "code",
      "metadata": {
        "id": "PyY_H6ox1GXG",
        "colab_type": "code",
        "colab": {
          "base_uri": "https://localhost:8080/",
          "height": 295
        },
        "outputId": "df032946-2150-4e99-ac70-9cf6c5a6aad9"
      },
      "source": [
        "import matplotlib.pyplot as plt\n",
        "plt.plot(history.history['accuracy'])\n",
        "#plt.plot(history.history['val_accuracy'])\n",
        "plt.title('model accuracy')\n",
        "plt.ylabel('accuracy')\n",
        "plt.xlabel('epoch')\n",
        "plt.legend(['train', 'test'], loc='upper left')\n",
        "plt.show()\n"
      ],
      "execution_count": 136,
      "outputs": [
        {
          "output_type": "display_data",
          "data": {
            "image/png": "[encoded data removed]",
            "text/plain": [
              "<Figure size 432x288 with 1 Axes>"
            ]
          },
          "metadata": {
            "tags": [],
            "needs_background": "light"
          }
        }
      ]
    },
    {
      "cell_type": "code",
      "metadata": {
        "id": "CuQy48B1CH-a",
        "colab_type": "code",
        "colab": {
          "base_uri": "https://localhost:8080/",
          "height": 50
        },
        "outputId": "7c41401a-505b-402f-c396-2257c61e1d5e"
      },
      "source": [
        "\n",
        "\n",
        "#img = cv2.imread('/content/drive/My Drive/a2.png', 0)\n",
        "#X_test = preprocess(img)\n",
        "preds = model.evaluate(X_test, Y_test)\n",
        "print(preds)\n"
      ],
      "execution_count": 137,
      "outputs": [
        {
          "output_type": "stream",
          "text": [
            "10/10 [==============================] - 0s 37ms/step - loss: 0.0034 - accuracy: 1.0000\n",
            "[0.003386907745152712, 1.0]\n"
          ],
          "name": "stdout"
        }
      ]
    },
    {
      "cell_type": "code",
      "metadata": {
        "id": "1d6cKdo_khX0",
        "colab_type": "code",
        "colab": {}
      },
      "source": [
        "def preprocess(img, alpha, beta):\n",
        "  img = cv2.resize(img, (128, 128))\n",
        "  new_img = np.zeros(img.shape, img.dtype)\n",
        "#  alpha = 0.8\n",
        "#  beta = 20\n",
        "  print(img.shape)\n",
        "  for i in range(img.shape[0]):\n",
        "    for j in range(img.shape[1]):\n",
        "      new_img[i, j] = np.clip(img[i, j]*alpha+ beta, 0,255)\n",
        "#  thresh = np.array(img)\n",
        "  cv2_imshow(new_img)\n",
        "  thresh = np.reshape(new_img, (1, 128, 128, 1))\n",
        "  print(thresh.shape)\n",
        "#  X_test = np.reshape(thresh, (1, 128, 128, 1))\n",
        "  return thresh\n",
        "\n"
      ],
      "execution_count": 138,
      "outputs": []
    },
    {
      "cell_type": "code",
      "metadata": {
        "id": "TX8nmABbPOw0",
        "colab_type": "code",
        "colab": {
          "base_uri": "https://localhost:8080/",
          "height": 229
        },
        "outputId": "625123fe-a766-4852-db5e-3576eb1b4e1b"
      },
      "source": [
        "\n",
        "img1 = cv2.imread('/content/drive/My Drive/Y.png', 0)\n",
        "#cv2_imshow(img1)\n",
        "X_test = preprocess(img1, 1.5, 40)\n",
        "preds = model.predict(X_test)\n",
        "print(preds)\n"
      ],
      "execution_count": 139,
      "outputs": [
        {
          "output_type": "stream",
          "text": [
            "(128, 128)\n"
          ],
          "name": "stdout"
        },
        {
          "output_type": "display_data",
          "data": {
            "image/png": "[encoded data removed]",
            "text/plain": [
              "<PIL.Image.Image image mode=L size=128x128 at 0x7FA99287EDA0>"
            ]
          },
          "metadata": {
            "tags": []
          }
        },
        {
          "output_type": "stream",
          "text": [
            "(1, 128, 128, 1)\n",
            "[[0.33936596 0.0280905  0.00183657 0.06534605 0.0076054  0.12899703\n",
            "  0.00599609 0.01987156 0.00579557 0.04166435 0.03681534 0.0029708\n",
            "  0.01000403 0.00978955 0.00673323 0.07268476 0.21643324]]\n"
          ],
          "name": "stdout"
        }
      ]
    },
    {
      "cell_type": "code",
      "metadata": {
        "id": "H9ms9iDB55aC",
        "colab_type": "code",
        "colab": {}
      },
      "source": [
        ""
      ],
      "execution_count": null,
      "outputs": []
    },
    {
      "cell_type": "code",
      "metadata": {
        "id": "9qwIM4Kqu9Yr",
        "colab_type": "code",
        "colab": {}
      },
      "source": [
        ""
      ],
      "execution_count": null,
      "outputs": []
    },
    {
      "cell_type": "code",
      "metadata": {
        "id": "ggcp9-cbz_ny",
        "colab_type": "code",
        "colab": {}
      },
      "source": [
        ""
      ],
      "execution_count": null,
      "outputs": []
    }
  ]
}