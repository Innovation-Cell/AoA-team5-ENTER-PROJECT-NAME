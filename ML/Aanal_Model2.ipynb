{
  "nbformat": 4,
  "nbformat_minor": 0,
  "metadata": {
    "colab": {
      "name": "Aanal_Model",
      "provenance": [],
      "authorship_tag": "ABX9TyPR/t1jd0An/3Is8QVukO0n",
      "include_colab_link": true
    },
    "kernelspec": {
      "name": "python3",
      "display_name": "Python 3"
    }
  },
  "cells": [
    {
      "cell_type": "markdown",
      "metadata": {
        "id": "view-in-github",
        "colab_type": "text"
      },
      "source": [
        "<a href=\"https://colab.research.google.com/github/Dikshuy/hail_UMICaana/blob/master/Aanal_Model2.ipynb\" target=\"_parent\"><img src=\"https://colab.research.google.com/assets/colab-badge.svg\" alt=\"Open In Colab\"/></a>"
      ]
    },
    {
      "cell_type": "code",
      "metadata": {
        "id": "ZsqTdLU-txVh",
        "colab_type": "code",
        "colab": {
          "base_uri": "https://localhost:8080/",
          "height": 50
        },
        "outputId": "d15480ca-801e-4d3b-bcdb-d180ab05b016"
      },
      "source": [
        "import numpy as np\n",
        "import cv2\n",
        "import os\n",
        "from google.colab import drive\n",
        "from tensorflow.keras.preprocessing.image import img_to_array\n",
        "from sklearn.preprocessing import LabelEncoder\n",
        "from keras.utils import to_categorical\n",
        "from google.colab.patches import cv2_imshow\n",
        "drive.mount('/content/drive')\n",
        "%cd '/content/drive/My Drive/Letters'"
      ],
      "execution_count": null,
      "outputs": [
        {
          "output_type": "stream",
          "text": [
            "Drive already mounted at /content/drive; to attempt to forcibly remount, call drive.mount(\"/content/drive\", force_remount=True).\n",
            "/content/drive/My Drive/Letters\n"
          ],
          "name": "stdout"
        }
      ]
    },
    {
      "cell_type": "code",
      "metadata": {
        "id": "hMsblP79uA-k",
        "colab_type": "code",
        "colab": {}
      },
      "source": [
        "\n",
        "symbols = []\n",
        "alphabets = []\n",
        "\n",
        "img_path = '/content/drive/My Drive/Letters'\n",
        "for file in os.listdir('/content/drive/My Drive/Letters'):\n",
        "  img = cv2.imread(os.path.join(img_path, file), 0)\n",
        "  _, thresh = cv2.threshold(img, 155, 255, cv2.THRESH_BINARY)\n",
        "#  canny = cv2.Canny(thresh, 155, 255)\n",
        "#  cv2_imshow(canny)\n",
        "  symbols.append(thresh)\n",
        "\n",
        "  if file == \"C2.jpg\":\n",
        "    alphabets.append(\"C\")\n",
        "  else:\n",
        "    alphabets.append(file[0])\n",
        "\n",
        "#cv2_imshow(symbols[7])\n",
        "\n"
      ],
      "execution_count": null,
      "outputs": []
    },
    {
      "cell_type": "code",
      "metadata": {
        "id": "oVLToNexH1Ry",
        "colab_type": "code",
        "colab": {
          "base_uri": "https://localhost:8080/",
          "height": 35
        },
        "outputId": "ae2d3312-cd1b-4cae-e47a-054067f409e2"
      },
      "source": [
        "\n",
        "encoder = np.array(alphabets)\n",
        "\n",
        "label_encoder = LabelEncoder()\n",
        "integer_encoder = label_encoder.fit_transform(encoder)\n",
        "#print(alphabets)\n",
        "\n",
        "one_hot = to_categorical(integer_encoder)\n",
        "#print(one_hot)\n",
        "data = []\n",
        "label = []\n",
        "\n",
        "#for j in range(len(one_hot)):\n",
        "\"\"\"print(len(one_hot))\n",
        "print(one_hot[:])\n",
        "for i in range(18):\n",
        "  cv2_imshow(symbols[i])\"\"\""
      ],
      "execution_count": 125,
      "outputs": [
        {
          "output_type": "execute_result",
          "data": {
            "application/vnd.google.colaboratory.intrinsic+json": {
              "type": "string"
            },
            "text/plain": [
              "'print(len(one_hot))\\nprint(one_hot[:])\\nfor i in range(18):\\n  cv2_imshow(symbols[i])'"
            ]
          },
          "metadata": {
            "tags": []
          },
          "execution_count": 125
        }
      ]
    },
    {
      "cell_type": "code",
      "metadata": {
        "id": "l55yHwsDH2aW",
        "colab_type": "code",
        "colab": {
          "base_uri": "https://localhost:8080/",
          "height": 50
        },
        "outputId": "5e746898-b838-4552-f695-85c6b656f806"
      },
      "source": [
        "for j in range(len(symbols)):\n",
        "  for i in range(-5, 6):\n",
        "    rows, cols = symbols[j].shape[:2]\n",
        "    M = cv2.getRotationMatrix2D((cols/2, rows/2), 5*i, 1)\n",
        "    res = cv2.warpAffine(symbols[j], M, (rows, cols))\n",
        "    label.append(one_hot[j])\n",
        "    #print(one_hot[0][j])\n",
        "    data.append(res)\n",
        "    \n",
        "print(label[70])\n",
        "#cv2_imshow(data[70]) \n",
        "print(len(label), len(data))\n",
        "\n",
        "num = len(label)\n"
      ],
      "execution_count": null,
      "outputs": [
        {
          "output_type": "stream",
          "text": [
            "[0. 0. 0. 0. 0. 0. 0. 0. 0. 0. 0. 0. 0. 0. 1. 0. 0.]\n",
            "198 198\n"
          ],
          "name": "stdout"
        }
      ]
    },
    {
      "cell_type": "code",
      "metadata": {
        "id": "tThItVrGuE-O",
        "colab_type": "code",
        "colab": {
          "base_uri": "https://localhost:8080/",
          "height": 50
        },
        "outputId": "beb85aa9-1bdc-482a-9ece-c225e9045427"
      },
      "source": [
        "for j in range(num):\n",
        "  for i in range(7, 13, 2):\n",
        "    res_img = cv2.GaussianBlur(data[j], (i, i), 0)\n",
        "    data.append(res_img)\n",
        "    label.append(label[j])\n",
        "    \n",
        "print(len(label), len(data))\n",
        "\n",
        "for j in range(num):\n",
        "  res_img = cv2.medianBlur(data[j], 11)\n",
        "  data.append(res_img)\n",
        "  label.append(label[j])\n",
        "\n",
        "print(len(label), len(data))\n",
        "\n",
        "#print(len(label), len(data))\n",
        "#cv2_imshow(data[650])\n",
        "#print(label[650]) \n",
        "#cv2_imshow(data[15])\n",
        "\n",
        "\n",
        "#print(len(label), len(data))\n",
        "#print(label[1500])\n",
        "#cv2_imshow(data[1500])"
      ],
      "execution_count": null,
      "outputs": [
        {
          "output_type": "stream",
          "text": [
            "792 792\n",
            "990 990\n"
          ],
          "name": "stdout"
        }
      ]
    },
    {
      "cell_type": "code",
      "metadata": {
        "id": "0i-OQhU4uaxa",
        "colab_type": "code",
        "colab": {
          "base_uri": "https://localhost:8080/",
          "height": 34
        },
        "outputId": "cf1915a7-be90-4d46-9fad-895a07ff9ec8"
      },
      "source": [
        "for j in range(num):\n",
        "  for i in range(9, 13, 2):\n",
        "    res_img = cv2.bilateralFilter(data[j], i, 200, 200)\n",
        "    data.append(res_img)\n",
        "    label.append(label[j])\n",
        "\n",
        "print(len(label), len(data))"
      ],
      "execution_count": null,
      "outputs": [
        {
          "output_type": "stream",
          "text": [
            "1386 1386\n"
          ],
          "name": "stdout"
        }
      ]
    },
    {
      "cell_type": "code",
      "metadata": {
        "id": "EIwYlDwXucwx",
        "colab_type": "code",
        "colab": {
          "base_uri": "https://localhost:8080/",
          "height": 34
        },
        "outputId": "b4049480-756c-461d-b685-91f007ae2f8e"
      },
      "source": [
        "for j in range(num):\n",
        "  res_img = cv2.erode(data[j], np.ones((5,5)), iterations = 1)\n",
        "  data.append(res_img)\n",
        "  label.append(label[j])\n",
        "  #cv2_imshow(res_img)\n",
        "print(len(label), len(data))"
      ],
      "execution_count": null,
      "outputs": [
        {
          "output_type": "stream",
          "text": [
            "1584 1584\n"
          ],
          "name": "stdout"
        }
      ]
    },
    {
      "cell_type": "code",
      "metadata": {
        "id": "dEDRDmSyuecn",
        "colab_type": "code",
        "colab": {
          "base_uri": "https://localhost:8080/",
          "height": 34
        },
        "outputId": "7b023b43-3f55-45be-8d8d-83619a166c29"
      },
      "source": [
        "for j in range(num):\n",
        "  res_img = cv2.dilate(data[j], np.ones((5, 5), np.uint8), iterations = 1)\n",
        "  data.append(res_img)\n",
        "  label.append(label[j])\n",
        "\n",
        "print(len(label), len(data))"
      ],
      "execution_count": null,
      "outputs": [
        {
          "output_type": "stream",
          "text": [
            "1782 1782\n"
          ],
          "name": "stdout"
        }
      ]
    },
    {
      "cell_type": "code",
      "metadata": {
        "id": "kTeK_s15rXio",
        "colab_type": "code",
        "colab": {
          "base_uri": "https://localhost:8080/",
          "height": 69
        },
        "outputId": "f03de7ef-e04a-483a-85c5-3cc3545e1a6f"
      },
      "source": [
        "\"\"\"for j in range(num):\n",
        "  \n",
        "  for i in range(1,7,2):\n",
        "    img7 = cv2.dilate(img7, np.ones((i, i), np.uint8), iterations =1)\n",
        "    img7 = cv2.erode(data[j], np.ones((i, i), np.uint8), iterations =1)\n",
        "    data.append(img7)\n",
        "    cv2_imshow(img7)\n",
        "    label.append(label[j])\n",
        "#  cv2_imshow(data[j])\n",
        "#cv2_imshow(data[4112])\n",
        "#print(label[4112])\n",
        "#print(len(label), len(data))\"\"\""
      ],
      "execution_count": null,
      "outputs": [
        {
          "output_type": "execute_result",
          "data": {
            "application/vnd.google.colaboratory.intrinsic+json": {
              "type": "string"
            },
            "text/plain": [
              "'for j in range(num):\\n  \\n  for i in range(1,7,2):\\n    img7 = cv2.dilate(img7, np.ones((i, i), np.uint8), iterations =1)\\n    img7 = cv2.erode(data[j], np.ones((i, i), np.uint8), iterations =1)\\n    data.append(img7)\\n    cv2_imshow(img7)\\n    label.append(label[j])\\n#  cv2_imshow(data[j])\\n#cv2_imshow(data[4112])\\n#print(label[4112])\\n#print(len(label), len(data))'"
            ]
          },
          "metadata": {
            "tags": []
          },
          "execution_count": 87
        }
      ]
    },
    {
      "cell_type": "code",
      "metadata": {
        "id": "xmapnE7RraOd",
        "colab_type": "code",
        "colab": {}
      },
      "source": [
        "for j in range(num):\n",
        "  data.append(cv2.pyrDown(data[j]))\n",
        "  label.append(label[j])\n",
        "  data.append(cv2.pyrUp(data[j]))\n",
        "  label.append(label[j])\n",
        "#  cv2_imshow(cv2.pyrDown(data[j]))\n",
        "#print(len(label), len(data))\n"
      ],
      "execution_count": null,
      "outputs": []
    },
    {
      "cell_type": "code",
      "metadata": {
        "id": "nkry0eVjDxcU",
        "colab_type": "code",
        "colab": {
          "base_uri": "https://localhost:8080/",
          "height": 95
        },
        "outputId": "026d7a39-c848-4da9-bb3d-ab9f0d4b77d1"
      },
      "source": [
        "for j in range(num):\n",
        "  img  = cv2.pyrDown(data[j])\n",
        "  img = cv2.pyrDown(img)\n",
        "  img = cv2.pyrUp(img)\n",
        "  img = cv2.dilate(img, np.ones((3, 3), np.uint8), iterations = 1 )\n",
        "  data.append(img)\n",
        "  label.append(label[j])\n",
        "\n",
        "cv2_imshow(data[-5])\n",
        "#print(label[-5])"
      ],
      "execution_count": null,
      "outputs": [
        {
          "output_type": "display_data",
          "data": {
            "image/png": "[encoded data removed]",
            "text/plain": [
              "<PIL.Image.Image image mode=L size=78x78 at 0x7FC269B37898>"
            ]
          },
          "metadata": {
            "tags": []
          }
        }
      ]
    },
    {
      "cell_type": "code",
      "metadata": {
        "id": "K1ISG6QouglA",
        "colab_type": "code",
        "colab": {}
      },
      "source": [
        "for i in range(len(data)):\n",
        "  data[i] = cv2.resize(data[i], (400, 400))\n",
        "  \n",
        "#print(data[4000].shape)  "
      ],
      "execution_count": null,
      "outputs": []
    },
    {
      "cell_type": "code",
      "metadata": {
        "id": "wxtqFc9auiln",
        "colab_type": "code",
        "colab": {
          "base_uri": "https://localhost:8080/",
          "height": 50
        },
        "outputId": "533ebd1c-58bc-423a-e44a-24e60f96abd4"
      },
      "source": [
        "from tensorflow.keras.layers import AveragePooling2D\n",
        "from tensorflow.keras.layers import Dropout\n",
        "from tensorflow.keras.layers import Flatten\n",
        "from tensorflow.keras.layers import Dense\n",
        "from tensorflow.keras.layers import Input, ZeroPadding2D\n",
        "from keras.models import Model\n",
        "from tensorflow.keras.losses import MAE\n",
        "from tensorflow.keras.optimizers import Adam\n",
        "from sklearn.model_selection import train_test_split\n",
        "from tensorflow.keras.layers import Conv2D\n",
        "from tensorflow.keras import Input\n",
        "from tensorflow.keras.utils import plot_model\n",
        "data = np.array(data)\n",
        "data = np.reshape(data, (data.shape[0], 400, 400, 1))\n",
        "label = np.array(label)\n",
        "print(label.shape)\n",
        "#print(data[1200].shape)\n",
        "\n",
        "#X_train, X_test, Y_train, Y_test = train_test_split(data, label, test_size = 0.2, stratify=label, random_state = 1)\n",
        "#for j in range(1000, 1010):\n",
        "#  cv2_imshow(X_train[j])\n",
        "X_train = data\n",
        "Y_train = label\n",
        "print(X_train.shape, Y_train.shape)\n",
        "#print(X_test.shape)"
      ],
      "execution_count": null,
      "outputs": [
        {
          "output_type": "stream",
          "text": [
            "(2376, 17)\n",
            "(2376, 400, 400, 1) (2376, 17)\n"
          ],
          "name": "stdout"
        }
      ]
    },
    {
      "cell_type": "code",
      "metadata": {
        "id": "Y3-N7AjEun9o",
        "colab_type": "code",
        "colab": {
          "base_uri": "https://localhost:8080/",
          "height": 981
        },
        "outputId": "c879de89-095f-4e2c-a0bc-9baf4c516aa6"
      },
      "source": [
        "from keras.models import Sequential\n",
        "from keras.layers import Conv2D, MaxPooling2D \n",
        "from keras.layers import Activation, Dropout, Flatten, Dense \n",
        "from keras import backend as K \n",
        "import keras\n",
        "model = Sequential() \n",
        "model.add(Conv2D(32, (5, 5), strides = (4, 4), padding = 'valid',   input_shape = (400, 400, 1))) \n",
        "model.add(Activation('relu')) \n",
        "model.add(MaxPooling2D(pool_size=(3, 3))) \n",
        "  \n",
        "model.add(Conv2D(64, (5, 5), padding = 'valid')) \n",
        "model.add(Activation('relu')) \n",
        "model.add(MaxPooling2D(pool_size=(2, 2), strides = (2, 2))) \n",
        "  \n",
        "model.add(Conv2D(96, (3, 3),  padding = 'same', activation = 'relu')) \n",
        "model.add(Conv2D(64, (3, 3),  padding = 'same', activation = 'relu')) \n",
        "model.add(Conv2D(96, (2, 2),  padding = 'same', activation = 'relu')) \n",
        "model.add(Activation('relu')) \n",
        "model.add(MaxPooling2D(pool_size=(3, 3), strides = (2, 2))) \n",
        "\n",
        "model.add(Conv2D(128, (5, 5), padding = 'valid')) \n",
        "model.add(Activation('relu')) \n",
        "model.add(MaxPooling2D(pool_size=(2, 2), strides = (2, 2))) \n",
        "\n",
        "model.add(Flatten()) \n",
        "model.add(Dense(96))\n",
        "model.add(Activation('relu')) \n",
        "\n",
        "model.add(Dense(48))\n",
        "model.add(Activation('relu'))\n",
        "\n",
        "model.add(Dense(32)) \n",
        "model.add(Activation('relu')) \n",
        "model.add(Dropout(0.5)) \n",
        "\"\"\"\n",
        "model.add(Dense(100)) \n",
        "model.add(Activation('relu')) \n",
        "\"\"\"\n",
        "model.add(Dense(17)) \n",
        "model.add(Activation('softmax')) \n",
        "\n",
        "model.compile(loss = keras.losses.categorical_crossentropy, optimizer = 'Adam', metrics = ['accuracy'])\n",
        "X_test = np.array(cv2.imread('/content/drive/My Drive/B.jpg'))\n",
        "\n",
        "history = model.fit(X_train, Y_train, epochs = 15 )\n",
        "\n",
        "import matplotlib.pyplot as plt\n",
        "#print(history.history.keys())\n",
        "# summarize history for accuracy\n",
        "plt.plot(history.history['accuracy'])\n",
        "#plt.plot(history.history['val_accuracy'])\n",
        "plt.title('model accuracy')\n",
        "plt.ylabel('accuracy')\n",
        "plt.xlabel('epoch')\n",
        "plt.legend(['train', 'test'], loc='upper left')\n",
        "plt.show()\n",
        "\n"
      ],
      "execution_count": null,
      "outputs": [
        {
          "output_type": "stream",
          "text": [
            "Epoch 1/15\n",
            "75/75 [==============================] - 40s 538ms/step - loss: 2.8268 - accuracy: 0.1094\n",
            "Epoch 2/15\n",
            "75/75 [==============================] - 38s 509ms/step - loss: 1.4581 - accuracy: 0.5004\n",
            "Epoch 3/15\n",
            "75/75 [==============================] - 38s 508ms/step - loss: 0.6291 - accuracy: 0.7614\n",
            "Epoch 4/15\n",
            "75/75 [==============================] - 38s 510ms/step - loss: 0.4508 - accuracy: 0.8287\n",
            "Epoch 5/15\n",
            "75/75 [==============================] - 38s 510ms/step - loss: 0.4103 - accuracy: 0.8392\n",
            "Epoch 6/15\n",
            "75/75 [==============================] - 38s 513ms/step - loss: 0.3541 - accuracy: 0.8649\n",
            "Epoch 7/15\n",
            "75/75 [==============================] - 38s 511ms/step - loss: 0.2990 - accuracy: 0.8847\n",
            "Epoch 8/15\n",
            "75/75 [==============================] - 38s 510ms/step - loss: 0.2954 - accuracy: 0.8771\n",
            "Epoch 9/15\n",
            "75/75 [==============================] - 38s 510ms/step - loss: 0.2757 - accuracy: 0.8897\n",
            "Epoch 10/15\n",
            "75/75 [==============================] - 38s 509ms/step - loss: 0.2656 - accuracy: 0.8948\n",
            "Epoch 11/15\n",
            "75/75 [==============================] - 38s 509ms/step - loss: 0.2698 - accuracy: 0.8872\n",
            "Epoch 12/15\n",
            "75/75 [==============================] - 38s 508ms/step - loss: 0.2696 - accuracy: 0.8931\n",
            "Epoch 13/15\n",
            "75/75 [==============================] - 38s 509ms/step - loss: 0.2859 - accuracy: 0.8897\n",
            "Epoch 14/15\n",
            "75/75 [==============================] - 38s 509ms/step - loss: 0.2239 - accuracy: 0.9108\n",
            "Epoch 15/15\n",
            "75/75 [==============================] - 38s 507ms/step - loss: 0.2561 - accuracy: 0.8990\n"
          ],
          "name": "stdout"
        },
        {
          "output_type": "error",
          "ename": "KeyError",
          "evalue": "ignored",
          "traceback": [
            "\u001b[0;31m---------------------------------------------------------------------------\u001b[0m",
            "\u001b[0;31mKeyError\u001b[0m                                  Traceback (most recent call last)",
            "\u001b[0;32m<ipython-input-108-9f7568bc7f40>\u001b[0m in \u001b[0;36m<module>\u001b[0;34m()\u001b[0m\n\u001b[1;32m     49\u001b[0m \u001b[0;31m# summarize history for accuracy\u001b[0m\u001b[0;34m\u001b[0m\u001b[0;34m\u001b[0m\u001b[0;34m\u001b[0m\u001b[0m\n\u001b[1;32m     50\u001b[0m \u001b[0mplt\u001b[0m\u001b[0;34m.\u001b[0m\u001b[0mplot\u001b[0m\u001b[0;34m(\u001b[0m\u001b[0mhistory\u001b[0m\u001b[0;34m.\u001b[0m\u001b[0mhistory\u001b[0m\u001b[0;34m[\u001b[0m\u001b[0;34m'accuracy'\u001b[0m\u001b[0;34m]\u001b[0m\u001b[0;34m)\u001b[0m\u001b[0;34m\u001b[0m\u001b[0;34m\u001b[0m\u001b[0m\n\u001b[0;32m---> 51\u001b[0;31m \u001b[0mplt\u001b[0m\u001b[0;34m.\u001b[0m\u001b[0mplot\u001b[0m\u001b[0;34m(\u001b[0m\u001b[0mhistory\u001b[0m\u001b[0;34m.\u001b[0m\u001b[0mhistory\u001b[0m\u001b[0;34m[\u001b[0m\u001b[0;34m'val_accuracy'\u001b[0m\u001b[0;34m]\u001b[0m\u001b[0;34m)\u001b[0m\u001b[0;34m\u001b[0m\u001b[0;34m\u001b[0m\u001b[0m\n\u001b[0m\u001b[1;32m     52\u001b[0m \u001b[0mplt\u001b[0m\u001b[0;34m.\u001b[0m\u001b[0mtitle\u001b[0m\u001b[0;34m(\u001b[0m\u001b[0;34m'model accuracy'\u001b[0m\u001b[0;34m)\u001b[0m\u001b[0;34m\u001b[0m\u001b[0;34m\u001b[0m\u001b[0m\n\u001b[1;32m     53\u001b[0m \u001b[0mplt\u001b[0m\u001b[0;34m.\u001b[0m\u001b[0mylabel\u001b[0m\u001b[0;34m(\u001b[0m\u001b[0;34m'accuracy'\u001b[0m\u001b[0;34m)\u001b[0m\u001b[0;34m\u001b[0m\u001b[0;34m\u001b[0m\u001b[0m\n",
            "\u001b[0;31mKeyError\u001b[0m: 'val_accuracy'"
          ]
        },
        {
          "output_type": "display_data",
          "data": {
            "image/png": "[encoded data removed]",
            "text/plain": [
              "<Figure size 432x288 with 1 Axes>"
            ]
          },
          "metadata": {
            "tags": [],
            "needs_background": "light"
          }
        }
      ]
    },
    {
      "cell_type": "code",
      "metadata": {
        "id": "rmEx6LNjeJVu",
        "colab_type": "code",
        "colab": {}
      },
      "source": [
        ""
      ],
      "execution_count": 132,
      "outputs": []
    },
    {
      "cell_type": "code",
      "metadata": {
        "id": "TX8nmABbPOw0",
        "colab_type": "code",
        "colab": {
          "base_uri": "https://localhost:8080/",
          "height": 229
        },
        "outputId": "14e16051-2d3f-4ad2-a2d8-dac010bca3a1"
      },
      "source": [
        "\n",
        "img1 = cv2.imread('/content/drive/My Drive/Files/Y.png', 0)\n",
        "#cv2_imshow(img1)\n",
        "img1 = cv2.resize(img1, (400, 400))\n",
        "img1 = rows, cols = img1.shape[:2]\n",
        "M = cv2.getRotationMatrix2D((cols/2, rows/2), 90, 1)\n",
        "img1 = cv2.warpAffine(img1, M, (rows, cols))\n",
        "cv2_imshow(img1)\n",
        "#cv2_imshow(img1)\n",
        "_, thresh = cv2.threshold(img1, 155, 255, cv2.THRESH_BINARY_INV)\n",
        "#data = np.array(thresh)\n",
        "#cv2_imshow(thresh)\n",
        "canny = cv2.Canny(thresh, 155, 255)\n",
        "data = []\n",
        "data.append(thresh)\n",
        "data = np.reshape(data, (1, 400, 400, 1))\n",
        "X_test = data\n",
        "\n",
        "\n",
        "Y_test = np.array([0, 0, 0, 0, 0, 0, 1, 0, 0, 0, 0, 0, 0, 0, 0, 0, 0], dtype = 'float64')\n",
        "\n",
        "\n",
        "\n",
        "score = model.predict((X_test)>0.5).astype(\"int32\")\n",
        "print(X_test.shape, Y_test.shape)\n",
        "\n",
        "#score = model.predict(X_test)\n",
        "#cv2_imshow(canny)\n",
        "print(score)\n",
        "#print(X_test.shape)\n",
        "#for i in range( 300, 400):\n",
        "#  cv2_imshow(X_test[i])"
      ],
      "execution_count": null,
      "outputs": [
        {
          "output_type": "error",
          "ename": "error",
          "evalue": "ignored",
          "traceback": [
            "\u001b[0;31m---------------------------------------------------------------------------\u001b[0m",
            "\u001b[0;31merror\u001b[0m                                     Traceback (most recent call last)",
            "\u001b[0;32m<ipython-input-112-33b4ad624a01>\u001b[0m in \u001b[0;36m<module>\u001b[0;34m()\u001b[0m\n\u001b[1;32m      2\u001b[0m \u001b[0mimg1\u001b[0m \u001b[0;34m=\u001b[0m \u001b[0mcv2\u001b[0m\u001b[0;34m.\u001b[0m\u001b[0mimread\u001b[0m\u001b[0;34m(\u001b[0m\u001b[0;34m'/content/drive/My Drive/Files/Y.png'\u001b[0m\u001b[0;34m,\u001b[0m \u001b[0;36m0\u001b[0m\u001b[0;34m)\u001b[0m\u001b[0;34m\u001b[0m\u001b[0;34m\u001b[0m\u001b[0m\n\u001b[1;32m      3\u001b[0m \u001b[0;31m#cv2_imshow(img1)\u001b[0m\u001b[0;34m\u001b[0m\u001b[0;34m\u001b[0m\u001b[0;34m\u001b[0m\u001b[0m\n\u001b[0;32m----> 4\u001b[0;31m \u001b[0mimg1\u001b[0m \u001b[0;34m=\u001b[0m \u001b[0mcv2\u001b[0m\u001b[0;34m.\u001b[0m\u001b[0mresize\u001b[0m\u001b[0;34m(\u001b[0m\u001b[0mimg1\u001b[0m\u001b[0;34m,\u001b[0m \u001b[0;34m(\u001b[0m\u001b[0;36m400\u001b[0m\u001b[0;34m,\u001b[0m \u001b[0;36m400\u001b[0m\u001b[0;34m)\u001b[0m\u001b[0;34m)\u001b[0m\u001b[0;34m\u001b[0m\u001b[0;34m\u001b[0m\u001b[0m\n\u001b[0m\u001b[1;32m      5\u001b[0m \u001b[0mimg1\u001b[0m \u001b[0;34m=\u001b[0m \u001b[0mrows\u001b[0m\u001b[0;34m,\u001b[0m \u001b[0mcols\u001b[0m \u001b[0;34m=\u001b[0m \u001b[0mimg1\u001b[0m\u001b[0;34m.\u001b[0m\u001b[0mshape\u001b[0m\u001b[0;34m[\u001b[0m\u001b[0;34m:\u001b[0m\u001b[0;36m2\u001b[0m\u001b[0;34m]\u001b[0m\u001b[0;34m\u001b[0m\u001b[0;34m\u001b[0m\u001b[0m\n\u001b[1;32m      6\u001b[0m \u001b[0mM\u001b[0m \u001b[0;34m=\u001b[0m \u001b[0mcv2\u001b[0m\u001b[0;34m.\u001b[0m\u001b[0mgetRotationMatrix2D\u001b[0m\u001b[0;34m(\u001b[0m\u001b[0;34m(\u001b[0m\u001b[0mcols\u001b[0m\u001b[0;34m/\u001b[0m\u001b[0;36m2\u001b[0m\u001b[0;34m,\u001b[0m \u001b[0mrows\u001b[0m\u001b[0;34m/\u001b[0m\u001b[0;36m2\u001b[0m\u001b[0;34m)\u001b[0m\u001b[0;34m,\u001b[0m \u001b[0;36m90\u001b[0m\u001b[0;34m,\u001b[0m \u001b[0;36m1\u001b[0m\u001b[0;34m)\u001b[0m\u001b[0;34m\u001b[0m\u001b[0;34m\u001b[0m\u001b[0m\n",
            "\u001b[0;31merror\u001b[0m: OpenCV(4.1.2) /io/opencv/modules/imgproc/src/resize.cpp:3720: error: (-215:Assertion failed) !ssize.empty() in function 'resize'\n"
          ]
        }
      ]
    },
    {
      "cell_type": "code",
      "metadata": {
        "id": "H9ms9iDB55aC",
        "colab_type": "code",
        "colab": {}
      },
      "source": [
        ""
      ],
      "execution_count": null,
      "outputs": []
    },
    {
      "cell_type": "code",
      "metadata": {
        "id": "9qwIM4Kqu9Yr",
        "colab_type": "code",
        "colab": {}
      },
      "source": [
        ""
      ],
      "execution_count": null,
      "outputs": []
    },
    {
      "cell_type": "code",
      "metadata": {
        "id": "ggcp9-cbz_ny",
        "colab_type": "code",
        "colab": {}
      },
      "source": [
        ""
      ],
      "execution_count": null,
      "outputs": []
    }
  ]
}