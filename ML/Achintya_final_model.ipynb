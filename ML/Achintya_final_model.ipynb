{
  "nbformat": 4,
  "nbformat_minor": 0,
  "metadata": {
    "colab": {
      "name": "Achintya-dataset(no additions).ipynb",
      "provenance": [],
      "collapsed_sections": [],
      "include_colab_link": true
    },
    "kernelspec": {
      "name": "python3",
      "display_name": "Python 3"
    },
    "accelerator": "GPU"
  },
  "cells": [
    {
      "cell_type": "markdown",
      "metadata": {
        "id": "view-in-github",
        "colab_type": "text"
      },
      "source": [
        "<a href=\"https://colab.research.google.com/github/Dikshuy/hail_UMICaana/blob/master/Achintya_final_model.ipynb\" target=\"_parent\"><img src=\"https://colab.research.google.com/assets/colab-badge.svg\" alt=\"Open In Colab\"/></a>"
      ]
    },
    {
      "cell_type": "code",
      "metadata": {
        "id": "ZsqTdLU-txVh",
        "colab_type": "code",
        "colab": {
          "base_uri": "https://localhost:8080/",
          "height": 50
        },
        "outputId": "39d83cf8-70a0-4ecd-b684-4ee0cc0bb45c"
      },
      "source": [
        "import numpy as np\n",
        "import cv2\n",
        "import os\n",
        "from google.colab import drive\n",
        "from google.colab.patches import cv2_imshow\n",
        "import tensorflow as tf\n",
        "import keras\n",
        "from tensorflow.keras.preprocessing.image import img_to_array\n",
        "from sklearn.preprocessing import LabelEncoder\n",
        "from tensorflow.keras.layers import AveragePooling2D\n",
        "from tensorflow.keras.layers import Dropout\n",
        "from tensorflow.keras.layers import Flatten\n",
        "from tensorflow.keras.layers import Dense\n",
        "from tensorflow.keras.layers import Input, ZeroPadding2D, BatchNormalization, Add\n",
        "from keras.models import Model\n",
        "from tensorflow.keras.losses import MAE\n",
        "from tensorflow.keras.optimizers import Adam\n",
        "from sklearn.model_selection import train_test_split\n",
        "from tensorflow.keras.utils import plot_model\n",
        "from keras.models import Sequential\n",
        "from keras.layers import Conv2D, MaxPooling2D \n",
        "from keras.layers import Activation\n",
        "from keras import backend as K \n",
        "from keras import regularizers\n",
        "from keras.initializers import glorot_uniform\n",
        "from sklearn.utils import shuffle\n",
        "drive.mount('/content/drive')\n",
        "%cd '/content/drive/My Drive/Letters'\n"
      ],
      "execution_count": null,
      "outputs": [
        {
          "output_type": "stream",
          "text": [
            "Drive already mounted at /content/drive; to attempt to forcibly remount, call drive.mount(\"/content/drive\", force_remount=True).\n",
            "/content/drive/My Drive/Letters\n"
          ],
          "name": "stdout"
        }
      ]
    },
    {
      "cell_type": "code",
      "metadata": {
        "id": "hMsblP79uA-k",
        "colab_type": "code",
        "colab": {
          "base_uri": "https://localhost:8080/",
          "height": 50
        },
        "outputId": "09098476-d934-4a22-d000-e36eed30250b"
      },
      "source": [
        "pixel = 64\n",
        "symbols = []\n",
        "alphabets = []\n",
        "\n",
        "\n",
        "img_path = '/content/drive/My Drive/Letters'\n",
        "for file in os.listdir('/content/drive/My Drive/Letters'):\n",
        "  img = cv2.imread(os.path.join(img_path, file))\n",
        "  img = cv2.resize(img, (pixel, pixel))\n",
        "  alpha = 1\n",
        "  beta = 50\n",
        "  for i in range(-3, 2):\n",
        "    new_img = np.zeros(img.shape, img.dtype)\n",
        "    for y in range(img.shape[0]):\n",
        "        for x in range(img.shape[1]):\n",
        "            for c in range(img.shape[2]):\n",
        "                new_img[y,x,c] = np.clip(alpha*img[y,x,c] + beta*i, 0, 255)\n",
        "    symbols.append(new_img)\n",
        "  alphabets.append(file[0])\n",
        "\n",
        "print(alphabets)\n",
        "print(len(symbols))\n"
      ],
      "execution_count": null,
      "outputs": [
        {
          "output_type": "stream",
          "text": [
            "['P', 'S', 'L', 'U', 'B', 'O', 'G', 'N', 'C', 'Y', 'K', 'C', 'M', 'F', 'I', 'H', 'A', 'T']\n",
            "90\n"
          ],
          "name": "stdout"
        }
      ]
    },
    {
      "cell_type": "code",
      "metadata": {
        "id": "V1HvkXSQNx_K",
        "colab_type": "code",
        "colab": {
          "base_uri": "https://localhost:8080/",
          "height": 119
        },
        "outputId": "5a27c819-4cfd-46d6-c525-ea2546dd9f91"
      },
      "source": [
        "one_hot = [[1, 0, 0, 0, 0, 0, 0, 0, 0, 0, 0, 0, 0, 0, 0, 0, 0, 0],\n",
        "           [0, 1, 0, 0, 0, 0, 0, 0, 0, 0, 0, 0, 0, 0, 0, 0, 0, 0],\n",
        "           [0, 0, 1, 0, 0, 0, 0, 0, 0, 0, 0, 0, 0, 0, 0, 0, 0, 0],\n",
        "           [0, 0, 0, 1, 0, 0, 0, 0, 0, 0, 0, 0, 0, 0, 0, 0, 0, 0],\n",
        "           [0, 0, 0, 0, 1, 0, 0, 0, 0, 0, 0, 0, 0, 0, 0, 0, 0, 0],\n",
        "           [0, 0, 0, 0, 0, 1, 0, 0, 0, 0, 0, 0, 0, 0, 0, 0, 0, 0],\n",
        "           [0, 0, 0, 0, 0, 0, 1, 0, 0, 0, 0, 0, 0, 0, 0, 0, 0, 0],\n",
        "           [0, 0, 0, 0, 0, 0, 0, 1, 0, 0, 0, 0, 0, 0, 0, 0, 0, 0],\n",
        "           [0, 0, 0, 0, 0, 0, 0, 0, 1, 0, 0, 0, 0, 0, 0, 0, 0, 0],\n",
        "           [0, 0, 0, 0, 0, 0, 0, 0, 0, 1, 0, 0, 0, 0, 0, 0, 0, 0],\n",
        "           [0, 0, 0, 0, 0, 0, 0, 0, 0, 0, 1, 0, 0, 0, 0, 0, 0, 0],\n",
        "           [0, 0, 0, 0, 0, 0, 0, 0, 0, 0, 0, 1, 0, 0, 0, 0, 0, 0],\n",
        "           [0, 0, 0, 0, 0, 0, 0, 0, 0, 0, 0, 0, 1, 0, 0, 0, 0, 0],\n",
        "           [0, 0, 0, 0, 0, 0, 0, 0, 0, 0, 0, 0, 0, 1, 0, 0, 0, 0],\n",
        "           [0, 0, 0, 0, 0, 0, 0, 0, 0, 0, 0, 0, 0, 0, 1, 0, 0, 0],\n",
        "           [0, 0, 0, 0, 0, 0, 0, 0, 0, 0, 0, 0, 0, 0, 0, 1, 0, 0],\n",
        "           [0, 0, 0, 0, 0, 0, 0, 0, 0, 0, 0, 0, 0, 0, 0, 0, 1, 0],\n",
        "           [0, 0, 0, 0, 0, 0, 0, 0, 0, 0, 0, 0, 0, 0, 0, 0, 0, 1]]\n",
        "\n",
        "data = []\n",
        "label = []\n",
        "\n",
        "for j in range(len(symbols)):\n",
        "    symbols[j] = cv2.cvtColor(symbols[j], cv2.COLOR_BGR2GRAY)\n",
        "    data.append(symbols[j])\n",
        "\n",
        "for j in range(len(alphabets)):\n",
        "  for i in range(-3, 2):\n",
        "    label.append(one_hot[j])\n",
        "\n",
        "print(len(label), len(data), len(symbols))\n",
        "\n",
        "for j in range(len(symbols)):\n",
        "  for i in range(-3, 4):\n",
        "    rows, cols = data[j].shape[:2]\n",
        "    M = cv2.getRotationMatrix2D((cols/2, rows/2), 5*i, 1)\n",
        "    res = cv2.warpAffine(data[j], M, (rows, cols))\n",
        "    label.append(label[j])\n",
        "    data.append(res)\n",
        "\n",
        "for i in range(len(data)):\n",
        "  data[i] = cv2.resize(data[i], (pixel, pixel))\n",
        " \n",
        "print(len(label), len(data))\n",
        "num = len(label)\n",
        "\n",
        "\"\"\"for j in range(num):\n",
        "  height, width = data[j].shape[:2]\n",
        "\n",
        "  dis_y, dis_x = height//10, width//10\n",
        "  T = np.float32([[1, 0, dis_x], [0, 1, dis_y]])\n",
        "\n",
        "  img_trans = cv2.warpAffine(data[j], T, ( width, height))\n",
        "  data.append(img_trans)\n",
        "  label.append(label[j])\n",
        "\n",
        "  T = np.float32([[1, 0, -dis_x], [0, 1, -dis_y]])\n",
        "\n",
        "  img_trans = cv2.warpAffine(data[j], T, ( width, height))\n",
        "  data.append(img_trans)\n",
        "  label.append(label[j])\"\"\"\n"
      ],
      "execution_count": null,
      "outputs": [
        {
          "output_type": "stream",
          "text": [
            "90 90 90\n",
            "720 720\n"
          ],
          "name": "stdout"
        },
        {
          "output_type": "execute_result",
          "data": {
            "application/vnd.google.colaboratory.intrinsic+json": {
              "type": "string"
            },
            "text/plain": [
              "'for j in range(num):\\n  height, width = data[j].shape[:2]\\n\\n  dis_y, dis_x = height//10, width//10\\n  T = np.float32([[1, 0, dis_x], [0, 1, dis_y]])\\n\\n  img_trans = cv2.warpAffine(data[j], T, ( width, height))\\n  data.append(img_trans)\\n  label.append(label[j])\\n\\n  T = np.float32([[1, 0, -dis_x], [0, 1, -dis_y]])\\n\\n  img_trans = cv2.warpAffine(data[j], T, ( width, height))\\n  data.append(img_trans)\\n  label.append(label[j])'"
            ]
          },
          "metadata": {
            "tags": []
          },
          "execution_count": 3
        }
      ]
    },
    {
      "cell_type": "code",
      "metadata": {
        "id": "OnBuFAidjyGS",
        "colab_type": "code",
        "colab": {
          "base_uri": "https://localhost:8080/",
          "height": 50
        },
        "outputId": "4c156415-5181-474c-9731-7959fd51c8aa"
      },
      "source": [
        "for j in range(num):\n",
        "  res_img = cv2.GaussianBlur(data[j], (3, 3), 0)\n",
        "  data.append(res_img)\n",
        "  label.append(label[j])\n",
        "\n",
        "\n",
        "for j in range(num):\n",
        "  res_img = cv2.medianBlur(data[j], 5)\n",
        "  data.append(res_img)\n",
        "  label.append(label[j])\n",
        "\n",
        "\n",
        "for j in range(num):\n",
        "  res_img = cv2.bilateralFilter(data[j], 11, 200, 200)\n",
        "  data.append(res_img)\n",
        "  label.append(label[j])\n",
        "\n",
        "\"\"\"for j in range(num):\n",
        "  res_img = cv2.erode(data[j], np.ones((3,3)), iterations = 1)\n",
        "  data.append(res_img)\n",
        "  label.append(label[j])\n",
        "\n",
        "for j in range(num):\n",
        "  res_img = cv2.dilate(data[j], np.ones((1, 1), np.uint8), iterations = 1)\n",
        "  data.append(res_img)\n",
        "  label.append(label[j])\n",
        "\"\"\"\n",
        "\n",
        "images = np.array(data).reshape(-1, pixel, pixel, 1)\n",
        "print(images.shape)\n",
        "y = np.array(label)\n",
        "print(y.shape)\n"
      ],
      "execution_count": null,
      "outputs": [
        {
          "output_type": "stream",
          "text": [
            "(2880, 64, 64, 1)\n",
            "(2880, 18)\n"
          ],
          "name": "stdout"
        }
      ]
    },
    {
      "cell_type": "code",
      "metadata": {
        "id": "kjrzeHmTpUAM",
        "colab_type": "code",
        "colab": {
          "base_uri": "https://localhost:8080/",
          "height": 131
        },
        "outputId": "260fffc2-8c40-499a-be14-efe613dfb8fd"
      },
      "source": [
        "no = 789\n",
        "print(y[no])\n",
        "print(alphabets)\n",
        "cv2_imshow(images[no].reshape(64, 64, 1))\n",
        "print(alphabets[np.argmax(label[no])])"
      ],
      "execution_count": null,
      "outputs": [
        {
          "output_type": "stream",
          "text": [
            "[0 0 0 0 0 0 0 0 0 0 0 0 0 1 0 0 0 0]\n",
            "['P', 'S', 'L', 'U', 'B', 'O', 'G', 'N', 'C', 'Y', 'K', 'C', 'M', 'F', 'I', 'H', 'A', 'T']\n"
          ],
          "name": "stdout"
        },
        {
          "output_type": "display_data",
          "data": {
            "image/png": "[encoded data removed]",
            "text/plain": [
              "<PIL.Image.Image image mode=RGB size=64x64 at 0x7FA8CFE28F98>"
            ]
          },
          "metadata": {
            "tags": []
          }
        },
        {
          "output_type": "stream",
          "text": [
            "F\n"
          ],
          "name": "stdout"
        }
      ]
    },
    {
      "cell_type": "code",
      "metadata": {
        "id": "zt702m9OB1Mu",
        "colab_type": "code",
        "colab": {}
      },
      "source": [
        "def res_identity(x, filters, gamma = 0.0001):\n",
        "  x_skip = x\n",
        "  f1, f2 = filters\n",
        "  \n",
        "  #first block \n",
        "  x = Conv2D(f1, kernel_size=(1, 1), strides=(1, 1), padding='valid', kernel_regularizer=regularizers.l2(gamma))(x)\n",
        "  x = BatchNormalization()(x)\n",
        "  x = Activation('tanh')(x)\n",
        "\n",
        "  #second block # bottleneck (but size kept same with padding)\n",
        "  x = Conv2D(f1, kernel_size=(3, 3), strides=(1, 1), padding='same', kernel_regularizer=regularizers.l2(gamma))(x)\n",
        "  x = BatchNormalization()(x)\n",
        "  x = Activation('tanh')(x)\n",
        "\n",
        "  # third block activation used after adding the input\n",
        "  x = Conv2D(f2, kernel_size=(1, 1), strides=(1, 1), padding='valid', kernel_regularizer=regularizers.l2(gamma))(x)\n",
        "  x = BatchNormalization()(x)\n",
        "  #x = Activation('tanh')(x)\n",
        "\n",
        "  # add the input \n",
        "  x = Add()([x, x_skip])\n",
        "  x = Activation('tanh')(x)\n",
        "\n",
        "  return x"
      ],
      "execution_count": null,
      "outputs": []
    },
    {
      "cell_type": "code",
      "metadata": {
        "id": "s3brIcO5CXpB",
        "colab_type": "code",
        "colab": {}
      },
      "source": [
        "def res_conv(x, s, filters, gamma = 0.0001):\n",
        "  '''\n",
        "  here the input size changes''' \n",
        "  x_skip = x\n",
        "  f1, f2 = filters\n",
        "\n",
        "  # first block\n",
        "  x = Conv2D(f1, kernel_size=(1, 1), strides=(s, s), padding='valid', kernel_regularizer=regularizers.l2(gamma))(x)\n",
        "  # when s = 2 then it is like downsizing the feature map\n",
        "  x = BatchNormalization()(x)\n",
        "  x = Activation('tanh')(x)\n",
        "\n",
        "  # second block\n",
        "  x = Conv2D(f1, kernel_size=(3, 3), strides=(1, 1), padding='same', kernel_regularizer=regularizers.l2(gamma))(x)\n",
        "  x = BatchNormalization()(x)\n",
        "  x = Activation('tanh')(x)\n",
        "\n",
        "  #third block\n",
        "  x = Conv2D(f2, kernel_size=(1, 1), strides=(1, 1), padding='valid', kernel_regularizer=regularizers.l2(gamma))(x)\n",
        "  x = BatchNormalization()(x)\n",
        "\n",
        "  # shortcut \n",
        "  x_skip = Conv2D(f2, kernel_size=(1, 1), strides=(s, s), padding='valid', kernel_regularizer=regularizers.l2(gamma))(x_skip)\n",
        "  x_skip = BatchNormalization()(x_skip)\n",
        "\n",
        "  # add \n",
        "  x = Add()([x, x_skip])\n",
        "  x = Activation('tanh')(x)\n",
        "\n",
        "  return x"
      ],
      "execution_count": null,
      "outputs": []
    },
    {
      "cell_type": "code",
      "metadata": {
        "id": "wzkTIFkVCh9O",
        "colab_type": "code",
        "colab": {}
      },
      "source": [
        "def resnet50(input_shape = (pixel, pixel, 1), classes = len(alphabets)):\n",
        "\n",
        "  input_im = Input(input_shape) \n",
        "  x = ZeroPadding2D(padding=(3, 3))(input_im)\n",
        "\n",
        "  # 1st stage\n",
        "  # here we perform maxpooling, see the figure above\n",
        "\n",
        "  x = Conv2D(64, kernel_size=(5, 5), strides=(2, 2))(x)\n",
        "  x = BatchNormalization()(x)\n",
        "  x = Activation('relu')(x)\n",
        "  x = MaxPooling2D((3, 3), strides=(2, 2))(x)\n",
        "\n",
        "  #2nd stage \n",
        "  # frm here on only conv block and identity block, no pooling\n",
        "\n",
        "  x = res_conv(x, s=1, filters=(64, 256))\n",
        "  x = res_identity(x, filters=(64, 256))\n",
        "  x = res_identity(x, filters=(64, 256))\n",
        "\n",
        "  # 3rd stage\n",
        "\n",
        "  x = res_conv(x, s=2, filters=(128, 512))\n",
        "  x = res_identity(x, filters=(128, 512))\n",
        "  x = res_identity(x, filters=(128, 512))\n",
        "  x = res_identity(x, filters=(128, 512))\n",
        "\n",
        "  # 4th stage\n",
        "\n",
        "  x = res_conv(x, s=2, filters=(256, 1024))\n",
        "  x = res_identity(x, filters=(256, 1024))\n",
        "  x = res_identity(x, filters=(256, 1024))\n",
        "  x = res_identity(x, filters=(256, 1024))\n",
        "  x = res_identity(x, filters=(256, 1024))\n",
        "  x = res_identity(x, filters=(256, 1024))\n",
        "\n",
        "  # 5th stage\n",
        "\n",
        "  x = res_conv(x, s=2, filters=(512, 2048))\n",
        "  x = res_identity(x, filters=(512, 2048))\n",
        "  x = res_identity(x, filters=(512, 2048))\n",
        "\n",
        "  # ends with average pooling and dense connection\n",
        "\n",
        "  x = AveragePooling2D((2, 2), padding='same')(x)\n",
        "\n",
        "  x = Flatten()(x)\n",
        "  x = Dense(len(alphabets), activation='softmax', kernel_initializer='he_normal')(x)\n",
        "\n",
        "  # define the model \n",
        "\n",
        "  model = Model(inputs=input_im, outputs=x, name='Resnet50')\n",
        "\n",
        "  return model"
      ],
      "execution_count": null,
      "outputs": []
    },
    {
      "cell_type": "code",
      "metadata": {
        "id": "Ll1shnW7rfBY",
        "colab_type": "code",
        "colab": {
          "base_uri": "https://localhost:8080/",
          "height": 1000
        },
        "outputId": "c2dbc4df-52b7-4cb6-ab1b-eb0ba1c1681e"
      },
      "source": [
        "model = resnet50()\n",
        "batch_size = 100\n",
        "\n",
        "opt = tf.keras.optimizers.SGD(learning_rate=0.5)\n",
        "opt1 = tf.keras.optimizers.Adam(learning_rate=0.00005)\n",
        "model.compile(optimizer=opt1, loss='categorical_crossentropy', metrics=['accuracy'])\n",
        "\n",
        "#images, y = shuffle(images, y, random_state=0)\n",
        "\n",
        "X_train, X_test, y_train, y_test = train_test_split(images, y, test_size=0.2)\n",
        "\n",
        "#X_train = X_train/255.0\n",
        "#X_test = X_test/255.0\n",
        "\n",
        "history = model.fit(X_train, y_train, epochs= 200, batch_size=batch_size, validation_data=(X_test, y_test))"
      ],
      "execution_count": null,
      "outputs": [
        {
          "output_type": "stream",
          "text": [
            "Epoch 1/200\n",
            "24/24 [==============================] - 9s 381ms/step - loss: 3.9987 - accuracy: 0.4180 - val_loss: 4.2595 - val_accuracy: 0.3368\n",
            "Epoch 2/200\n",
            "24/24 [==============================] - 6s 266ms/step - loss: 2.5582 - accuracy: 0.8720 - val_loss: 3.3708 - val_accuracy: 0.6806\n",
            "Epoch 3/200\n",
            "24/24 [==============================] - 6s 265ms/step - loss: 2.0638 - accuracy: 0.9614 - val_loss: 2.7073 - val_accuracy: 0.8368\n",
            "Epoch 4/200\n",
            "24/24 [==============================] - 6s 264ms/step - loss: 1.9085 - accuracy: 0.9896 - val_loss: 2.2819 - val_accuracy: 0.9323\n",
            "Epoch 5/200\n",
            "24/24 [==============================] - 6s 262ms/step - loss: 1.8957 - accuracy: 0.9865 - val_loss: 2.1198 - val_accuracy: 0.9392\n",
            "Epoch 6/200\n",
            "24/24 [==============================] - 6s 263ms/step - loss: 1.8734 - accuracy: 0.9931 - val_loss: 2.0136 - val_accuracy: 0.9566\n",
            "Epoch 7/200\n",
            "24/24 [==============================] - 6s 263ms/step - loss: 1.8503 - accuracy: 0.9948 - val_loss: 1.9325 - val_accuracy: 0.9705\n",
            "Epoch 8/200\n",
            "24/24 [==============================] - 6s 262ms/step - loss: 1.8463 - accuracy: 0.9952 - val_loss: 1.9123 - val_accuracy: 0.9722\n",
            "Epoch 9/200\n",
            "24/24 [==============================] - 6s 264ms/step - loss: 1.8409 - accuracy: 0.9952 - val_loss: 1.8807 - val_accuracy: 0.9809\n",
            "Epoch 10/200\n",
            "24/24 [==============================] - 6s 263ms/step - loss: 1.8410 - accuracy: 0.9935 - val_loss: 1.8572 - val_accuracy: 0.9878\n",
            "Epoch 11/200\n",
            "24/24 [==============================] - 6s 261ms/step - loss: 1.8582 - accuracy: 0.9900 - val_loss: 1.8573 - val_accuracy: 0.9931\n",
            "Epoch 12/200\n",
            "24/24 [==============================] - 6s 263ms/step - loss: 1.8406 - accuracy: 0.9931 - val_loss: 1.8394 - val_accuracy: 0.9948\n",
            "Epoch 13/200\n",
            "24/24 [==============================] - 6s 263ms/step - loss: 1.8711 - accuracy: 0.9870 - val_loss: 1.9354 - val_accuracy: 0.9601\n",
            "Epoch 14/200\n",
            "24/24 [==============================] - 6s 263ms/step - loss: 1.8398 - accuracy: 0.9944 - val_loss: 1.8515 - val_accuracy: 0.9913\n",
            "Epoch 15/200\n",
            "24/24 [==============================] - 6s 263ms/step - loss: 1.8267 - accuracy: 0.9961 - val_loss: 1.8275 - val_accuracy: 0.9948\n",
            "Epoch 16/200\n",
            "24/24 [==============================] - 6s 263ms/step - loss: 1.8170 - accuracy: 0.9991 - val_loss: 1.8262 - val_accuracy: 0.9965\n",
            "Epoch 17/200\n",
            "24/24 [==============================] - 6s 262ms/step - loss: 1.8321 - accuracy: 0.9944 - val_loss: 1.8343 - val_accuracy: 0.9948\n",
            "Epoch 18/200\n",
            "24/24 [==============================] - 6s 262ms/step - loss: 1.8449 - accuracy: 0.9909 - val_loss: 1.8734 - val_accuracy: 0.9774\n",
            "Epoch 19/200\n",
            "24/24 [==============================] - 6s 262ms/step - loss: 1.8233 - accuracy: 0.9965 - val_loss: 1.8437 - val_accuracy: 0.9878\n",
            "Epoch 20/200\n",
            "24/24 [==============================] - 6s 262ms/step - loss: 1.8283 - accuracy: 0.9952 - val_loss: 1.8581 - val_accuracy: 0.9861\n",
            "Epoch 21/200\n",
            "24/24 [==============================] - 6s 261ms/step - loss: 1.8175 - accuracy: 0.9983 - val_loss: 1.8203 - val_accuracy: 0.9965\n",
            "Epoch 22/200\n",
            "24/24 [==============================] - 6s 262ms/step - loss: 1.8084 - accuracy: 1.0000 - val_loss: 1.8155 - val_accuracy: 0.9983\n",
            "Epoch 23/200\n",
            "24/24 [==============================] - 6s 262ms/step - loss: 1.8076 - accuracy: 0.9996 - val_loss: 1.8117 - val_accuracy: 0.9983\n",
            "Epoch 24/200\n",
            "24/24 [==============================] - 6s 262ms/step - loss: 1.8134 - accuracy: 0.9974 - val_loss: 1.8385 - val_accuracy: 0.9878\n",
            "Epoch 25/200\n",
            "24/24 [==============================] - 6s 263ms/step - loss: 1.8535 - accuracy: 0.9852 - val_loss: 1.8601 - val_accuracy: 0.9826\n",
            "Epoch 26/200\n",
            "24/24 [==============================] - 6s 262ms/step - loss: 1.8274 - accuracy: 0.9935 - val_loss: 1.8549 - val_accuracy: 0.9861\n",
            "Epoch 27/200\n",
            "24/24 [==============================] - 6s 263ms/step - loss: 1.8131 - accuracy: 0.9974 - val_loss: 1.8320 - val_accuracy: 0.9948\n",
            "Epoch 28/200\n",
            "24/24 [==============================] - 6s 263ms/step - loss: 1.8081 - accuracy: 0.9987 - val_loss: 1.8152 - val_accuracy: 0.9965\n",
            "Epoch 29/200\n",
            "24/24 [==============================] - 6s 263ms/step - loss: 1.8088 - accuracy: 0.9983 - val_loss: 1.8151 - val_accuracy: 0.9983\n",
            "Epoch 30/200\n",
            "24/24 [==============================] - 6s 262ms/step - loss: 1.8055 - accuracy: 1.0000 - val_loss: 1.8068 - val_accuracy: 1.0000\n",
            "Epoch 31/200\n",
            "24/24 [==============================] - 6s 261ms/step - loss: 1.8206 - accuracy: 0.9944 - val_loss: 1.8275 - val_accuracy: 0.9931\n",
            "Epoch 32/200\n",
            "24/24 [==============================] - 6s 262ms/step - loss: 1.8194 - accuracy: 0.9948 - val_loss: 1.8335 - val_accuracy: 0.9913\n",
            "Epoch 33/200\n",
            "24/24 [==============================] - 6s 263ms/step - loss: 1.8048 - accuracy: 1.0000 - val_loss: 1.8141 - val_accuracy: 0.9965\n",
            "Epoch 34/200\n",
            "24/24 [==============================] - 6s 262ms/step - loss: 1.8048 - accuracy: 0.9983 - val_loss: 1.8179 - val_accuracy: 0.9913\n",
            "Epoch 35/200\n",
            "24/24 [==============================] - 6s 263ms/step - loss: 1.8035 - accuracy: 0.9996 - val_loss: 1.8178 - val_accuracy: 0.9965\n",
            "Epoch 36/200\n",
            "24/24 [==============================] - 6s 263ms/step - loss: 1.8015 - accuracy: 0.9996 - val_loss: 1.8132 - val_accuracy: 0.9948\n",
            "Epoch 37/200\n",
            "24/24 [==============================] - 6s 262ms/step - loss: 1.8498 - accuracy: 0.9870 - val_loss: 1.8308 - val_accuracy: 0.9878\n",
            "Epoch 38/200\n",
            "24/24 [==============================] - 6s 261ms/step - loss: 1.8298 - accuracy: 0.9878 - val_loss: 1.8396 - val_accuracy: 0.9861\n",
            "Epoch 39/200\n",
            "24/24 [==============================] - 6s 262ms/step - loss: 1.8051 - accuracy: 0.9974 - val_loss: 1.8164 - val_accuracy: 0.9948\n",
            "Epoch 40/200\n",
            "24/24 [==============================] - 6s 263ms/step - loss: 1.8022 - accuracy: 0.9996 - val_loss: 1.8112 - val_accuracy: 0.9983\n",
            "Epoch 41/200\n",
            "24/24 [==============================] - 6s 263ms/step - loss: 1.8014 - accuracy: 0.9987 - val_loss: 1.8073 - val_accuracy: 0.9983\n",
            "Epoch 42/200\n",
            "24/24 [==============================] - 6s 263ms/step - loss: 1.8320 - accuracy: 0.9891 - val_loss: 1.9490 - val_accuracy: 0.9549\n",
            "Epoch 43/200\n",
            "24/24 [==============================] - 6s 263ms/step - loss: 1.8185 - accuracy: 0.9935 - val_loss: 1.8211 - val_accuracy: 0.9896\n",
            "Epoch 44/200\n",
            "24/24 [==============================] - 7s 271ms/step - loss: 1.8012 - accuracy: 0.9983 - val_loss: 1.8056 - val_accuracy: 0.9948\n",
            "Epoch 45/200\n",
            "24/24 [==============================] - 6s 264ms/step - loss: 1.7978 - accuracy: 0.9996 - val_loss: 1.8048 - val_accuracy: 0.9983\n",
            "Epoch 46/200\n",
            "24/24 [==============================] - 6s 264ms/step - loss: 1.7964 - accuracy: 0.9996 - val_loss: 1.8011 - val_accuracy: 1.0000\n",
            "Epoch 47/200\n",
            "24/24 [==============================] - 6s 262ms/step - loss: 1.8458 - accuracy: 0.9865 - val_loss: 1.8696 - val_accuracy: 0.9792\n",
            "Epoch 48/200\n",
            "24/24 [==============================] - 6s 262ms/step - loss: 1.8000 - accuracy: 0.9991 - val_loss: 1.8299 - val_accuracy: 0.9878\n",
            "Epoch 49/200\n",
            "24/24 [==============================] - 6s 261ms/step - loss: 1.7951 - accuracy: 1.0000 - val_loss: 1.8098 - val_accuracy: 0.9931\n",
            "Epoch 50/200\n",
            "24/24 [==============================] - 6s 261ms/step - loss: 1.7946 - accuracy: 1.0000 - val_loss: 1.8024 - val_accuracy: 0.9983\n",
            "Epoch 51/200\n",
            "24/24 [==============================] - 6s 261ms/step - loss: 1.7935 - accuracy: 1.0000 - val_loss: 1.7965 - val_accuracy: 1.0000\n",
            "Epoch 52/200\n",
            "24/24 [==============================] - 6s 262ms/step - loss: 1.7982 - accuracy: 0.9983 - val_loss: 1.7969 - val_accuracy: 0.9983\n",
            "Epoch 53/200\n",
            "24/24 [==============================] - 6s 263ms/step - loss: 1.7989 - accuracy: 0.9974 - val_loss: 1.7960 - val_accuracy: 1.0000\n",
            "Epoch 54/200\n",
            "24/24 [==============================] - 6s 261ms/step - loss: 1.7922 - accuracy: 1.0000 - val_loss: 1.7931 - val_accuracy: 1.0000\n",
            "Epoch 55/200\n",
            "24/24 [==============================] - 6s 262ms/step - loss: 1.7912 - accuracy: 0.9996 - val_loss: 1.7921 - val_accuracy: 1.0000\n",
            "Epoch 56/200\n",
            "24/24 [==============================] - 6s 262ms/step - loss: 1.7999 - accuracy: 0.9970 - val_loss: 1.8087 - val_accuracy: 0.9948\n",
            "Epoch 57/200\n",
            "24/24 [==============================] - 6s 263ms/step - loss: 1.8342 - accuracy: 0.9874 - val_loss: 1.8070 - val_accuracy: 0.9931\n",
            "Epoch 58/200\n",
            "24/24 [==============================] - 6s 263ms/step - loss: 1.7958 - accuracy: 0.9974 - val_loss: 1.8063 - val_accuracy: 0.9965\n",
            "Epoch 59/200\n",
            "24/24 [==============================] - 6s 262ms/step - loss: 1.7910 - accuracy: 0.9996 - val_loss: 1.7977 - val_accuracy: 0.9983\n",
            "Epoch 60/200\n",
            "24/24 [==============================] - 6s 262ms/step - loss: 1.7949 - accuracy: 0.9987 - val_loss: 1.7912 - val_accuracy: 1.0000\n",
            "Epoch 61/200\n",
            "24/24 [==============================] - 6s 263ms/step - loss: 1.7892 - accuracy: 1.0000 - val_loss: 1.7892 - val_accuracy: 1.0000\n",
            "Epoch 62/200\n",
            "24/24 [==============================] - 6s 262ms/step - loss: 1.7932 - accuracy: 0.9978 - val_loss: 1.7926 - val_accuracy: 0.9983\n",
            "Epoch 63/200\n",
            "24/24 [==============================] - 6s 262ms/step - loss: 1.7896 - accuracy: 0.9991 - val_loss: 1.7971 - val_accuracy: 0.9965\n",
            "Epoch 64/200\n",
            "24/24 [==============================] - 6s 261ms/step - loss: 1.7867 - accuracy: 1.0000 - val_loss: 1.7897 - val_accuracy: 1.0000\n",
            "Epoch 65/200\n",
            "24/24 [==============================] - 6s 262ms/step - loss: 1.7856 - accuracy: 1.0000 - val_loss: 1.7871 - val_accuracy: 1.0000\n",
            "Epoch 66/200\n",
            "24/24 [==============================] - 6s 261ms/step - loss: 1.7877 - accuracy: 0.9996 - val_loss: 1.7984 - val_accuracy: 0.9948\n",
            "Epoch 67/200\n",
            "24/24 [==============================] - 6s 260ms/step - loss: 1.8564 - accuracy: 0.9870 - val_loss: 1.8220 - val_accuracy: 0.9878\n",
            "Epoch 68/200\n",
            "24/24 [==============================] - 6s 262ms/step - loss: 1.7906 - accuracy: 0.9983 - val_loss: 1.7976 - val_accuracy: 0.9965\n",
            "Epoch 69/200\n",
            "24/24 [==============================] - 6s 262ms/step - loss: 1.7890 - accuracy: 0.9983 - val_loss: 1.7994 - val_accuracy: 0.9948\n",
            "Epoch 70/200\n",
            "24/24 [==============================] - 6s 261ms/step - loss: 1.7844 - accuracy: 1.0000 - val_loss: 1.7907 - val_accuracy: 0.9965\n",
            "Epoch 71/200\n",
            "24/24 [==============================] - 6s 263ms/step - loss: 1.7996 - accuracy: 0.9965 - val_loss: 1.8197 - val_accuracy: 0.9844\n",
            "Epoch 72/200\n",
            "24/24 [==============================] - 6s 263ms/step - loss: 1.7897 - accuracy: 0.9974 - val_loss: 1.7909 - val_accuracy: 0.9965\n",
            "Epoch 73/200\n",
            "24/24 [==============================] - 6s 262ms/step - loss: 1.7887 - accuracy: 0.9978 - val_loss: 1.7894 - val_accuracy: 0.9965\n",
            "Epoch 74/200\n",
            "24/24 [==============================] - 6s 263ms/step - loss: 1.7839 - accuracy: 1.0000 - val_loss: 1.7858 - val_accuracy: 1.0000\n",
            "Epoch 75/200\n",
            "24/24 [==============================] - 6s 263ms/step - loss: 1.7825 - accuracy: 0.9996 - val_loss: 1.7882 - val_accuracy: 0.9983\n",
            "Epoch 76/200\n",
            "24/24 [==============================] - 6s 262ms/step - loss: 1.8017 - accuracy: 0.9922 - val_loss: 1.8014 - val_accuracy: 0.9948\n",
            "Epoch 77/200\n",
            "24/24 [==============================] - 6s 262ms/step - loss: 1.8021 - accuracy: 0.9926 - val_loss: 1.8851 - val_accuracy: 0.9722\n",
            "Epoch 78/200\n",
            "24/24 [==============================] - 6s 263ms/step - loss: 1.8048 - accuracy: 0.9909 - val_loss: 1.7983 - val_accuracy: 0.9948\n",
            "Epoch 79/200\n",
            "24/24 [==============================] - 6s 261ms/step - loss: 1.7831 - accuracy: 0.9987 - val_loss: 1.7857 - val_accuracy: 0.9983\n",
            "Epoch 80/200\n",
            "24/24 [==============================] - 6s 262ms/step - loss: 1.7803 - accuracy: 0.9996 - val_loss: 1.7904 - val_accuracy: 0.9965\n",
            "Epoch 81/200\n",
            "24/24 [==============================] - 6s 263ms/step - loss: 1.7827 - accuracy: 0.9987 - val_loss: 1.7930 - val_accuracy: 0.9948\n",
            "Epoch 82/200\n",
            "24/24 [==============================] - 6s 262ms/step - loss: 1.7857 - accuracy: 0.9970 - val_loss: 1.7842 - val_accuracy: 0.9965\n",
            "Epoch 83/200\n",
            "24/24 [==============================] - 6s 263ms/step - loss: 1.7863 - accuracy: 0.9970 - val_loss: 1.7821 - val_accuracy: 1.0000\n",
            "Epoch 84/200\n",
            "24/24 [==============================] - 6s 263ms/step - loss: 1.7776 - accuracy: 0.9996 - val_loss: 1.7825 - val_accuracy: 0.9965\n",
            "Epoch 85/200\n",
            "24/24 [==============================] - 6s 263ms/step - loss: 1.7990 - accuracy: 0.9931 - val_loss: 1.8098 - val_accuracy: 0.9896\n",
            "Epoch 86/200\n",
            "24/24 [==============================] - 6s 263ms/step - loss: 1.8354 - accuracy: 0.9844 - val_loss: 1.7948 - val_accuracy: 0.9948\n",
            "Epoch 87/200\n",
            "24/24 [==============================] - 6s 262ms/step - loss: 1.7805 - accuracy: 0.9991 - val_loss: 1.7790 - val_accuracy: 0.9983\n",
            "Epoch 88/200\n",
            "24/24 [==============================] - 6s 262ms/step - loss: 1.7756 - accuracy: 1.0000 - val_loss: 1.7769 - val_accuracy: 0.9983\n",
            "Epoch 89/200\n",
            "24/24 [==============================] - 6s 263ms/step - loss: 1.7750 - accuracy: 0.9996 - val_loss: 1.7755 - val_accuracy: 1.0000\n",
            "Epoch 90/200\n",
            "24/24 [==============================] - 6s 263ms/step - loss: 1.7770 - accuracy: 0.9991 - val_loss: 1.7759 - val_accuracy: 1.0000\n",
            "Epoch 91/200\n",
            "24/24 [==============================] - 6s 262ms/step - loss: 1.7758 - accuracy: 0.9991 - val_loss: 1.7746 - val_accuracy: 1.0000\n",
            "Epoch 92/200\n",
            "24/24 [==============================] - 6s 263ms/step - loss: 1.7852 - accuracy: 0.9965 - val_loss: 1.7786 - val_accuracy: 0.9983\n",
            "Epoch 93/200\n",
            "24/24 [==============================] - 6s 262ms/step - loss: 1.7741 - accuracy: 0.9996 - val_loss: 1.7742 - val_accuracy: 1.0000\n",
            "Epoch 94/200\n",
            "24/24 [==============================] - 6s 263ms/step - loss: 1.8048 - accuracy: 0.9900 - val_loss: 1.7877 - val_accuracy: 0.9965\n",
            "Epoch 95/200\n",
            "24/24 [==============================] - 6s 263ms/step - loss: 1.7854 - accuracy: 0.9970 - val_loss: 1.7750 - val_accuracy: 1.0000\n",
            "Epoch 96/200\n",
            "24/24 [==============================] - 6s 262ms/step - loss: 1.7721 - accuracy: 1.0000 - val_loss: 1.7726 - val_accuracy: 1.0000\n",
            "Epoch 97/200\n",
            "24/24 [==============================] - 6s 263ms/step - loss: 1.7707 - accuracy: 1.0000 - val_loss: 1.7711 - val_accuracy: 1.0000\n",
            "Epoch 98/200\n",
            "24/24 [==============================] - 6s 262ms/step - loss: 1.7698 - accuracy: 1.0000 - val_loss: 1.7702 - val_accuracy: 1.0000\n",
            "Epoch 99/200\n",
            "24/24 [==============================] - 6s 264ms/step - loss: 1.7724 - accuracy: 0.9991 - val_loss: 1.7693 - val_accuracy: 1.0000\n",
            "Epoch 100/200\n",
            "24/24 [==============================] - 6s 263ms/step - loss: 1.7833 - accuracy: 0.9944 - val_loss: 1.7948 - val_accuracy: 0.9931\n",
            "Epoch 101/200\n",
            "24/24 [==============================] - 6s 262ms/step - loss: 1.7716 - accuracy: 0.9983 - val_loss: 1.7795 - val_accuracy: 0.9983\n",
            "Epoch 102/200\n",
            "24/24 [==============================] - 6s 263ms/step - loss: 1.8052 - accuracy: 0.9905 - val_loss: 1.7828 - val_accuracy: 0.9965\n",
            "Epoch 103/200\n",
            "24/24 [==============================] - 6s 263ms/step - loss: 1.7718 - accuracy: 0.9987 - val_loss: 1.7869 - val_accuracy: 0.9931\n",
            "Epoch 104/200\n",
            "24/24 [==============================] - 6s 263ms/step - loss: 1.7677 - accuracy: 1.0000 - val_loss: 1.7777 - val_accuracy: 0.9983\n",
            "Epoch 105/200\n",
            "24/24 [==============================] - 6s 263ms/step - loss: 1.7668 - accuracy: 1.0000 - val_loss: 1.7699 - val_accuracy: 1.0000\n",
            "Epoch 106/200\n",
            "24/24 [==============================] - 6s 263ms/step - loss: 1.7662 - accuracy: 1.0000 - val_loss: 1.7675 - val_accuracy: 1.0000\n",
            "Epoch 107/200\n",
            "24/24 [==============================] - 6s 262ms/step - loss: 1.7726 - accuracy: 0.9987 - val_loss: 1.7705 - val_accuracy: 0.9983\n",
            "Epoch 108/200\n",
            "24/24 [==============================] - 6s 262ms/step - loss: 1.7998 - accuracy: 0.9874 - val_loss: 1.7961 - val_accuracy: 0.9896\n",
            "Epoch 109/200\n",
            "24/24 [==============================] - 6s 263ms/step - loss: 1.7673 - accuracy: 0.9991 - val_loss: 1.7694 - val_accuracy: 0.9983\n",
            "Epoch 110/200\n",
            "24/24 [==============================] - 6s 262ms/step - loss: 1.7653 - accuracy: 1.0000 - val_loss: 1.7653 - val_accuracy: 1.0000\n",
            "Epoch 111/200\n",
            "24/24 [==============================] - 6s 263ms/step - loss: 1.7653 - accuracy: 0.9991 - val_loss: 1.7711 - val_accuracy: 0.9983\n",
            "Epoch 112/200\n",
            "24/24 [==============================] - 6s 263ms/step - loss: 1.7652 - accuracy: 0.9996 - val_loss: 1.7678 - val_accuracy: 0.9983\n",
            "Epoch 113/200\n",
            "24/24 [==============================] - 6s 262ms/step - loss: 1.7629 - accuracy: 1.0000 - val_loss: 1.7652 - val_accuracy: 0.9983\n",
            "Epoch 114/200\n",
            "24/24 [==============================] - 6s 262ms/step - loss: 1.7678 - accuracy: 0.9978 - val_loss: 1.7637 - val_accuracy: 1.0000\n",
            "Epoch 115/200\n",
            "24/24 [==============================] - 6s 262ms/step - loss: 1.7614 - accuracy: 1.0000 - val_loss: 1.7636 - val_accuracy: 1.0000\n",
            "Epoch 116/200\n",
            "24/24 [==============================] - 6s 262ms/step - loss: 1.7611 - accuracy: 1.0000 - val_loss: 1.7628 - val_accuracy: 1.0000\n",
            "Epoch 117/200\n",
            "24/24 [==============================] - 6s 263ms/step - loss: 1.7663 - accuracy: 0.9978 - val_loss: 1.7679 - val_accuracy: 0.9965\n",
            "Epoch 118/200\n",
            "24/24 [==============================] - 6s 262ms/step - loss: 1.7601 - accuracy: 1.0000 - val_loss: 1.7630 - val_accuracy: 1.0000\n",
            "Epoch 119/200\n",
            "24/24 [==============================] - 6s 263ms/step - loss: 1.7588 - accuracy: 1.0000 - val_loss: 1.7610 - val_accuracy: 1.0000\n",
            "Epoch 120/200\n",
            "24/24 [==============================] - 6s 265ms/step - loss: 1.7588 - accuracy: 0.9996 - val_loss: 1.7631 - val_accuracy: 0.9983\n",
            "Epoch 121/200\n",
            "24/24 [==============================] - 6s 263ms/step - loss: 1.7747 - accuracy: 0.9948 - val_loss: 1.7589 - val_accuracy: 1.0000\n",
            "Epoch 122/200\n",
            "24/24 [==============================] - 6s 265ms/step - loss: 1.7582 - accuracy: 1.0000 - val_loss: 1.7577 - val_accuracy: 1.0000\n",
            "Epoch 123/200\n",
            "24/24 [==============================] - 6s 262ms/step - loss: 1.7568 - accuracy: 1.0000 - val_loss: 1.7562 - val_accuracy: 1.0000\n",
            "Epoch 124/200\n",
            "24/24 [==============================] - 6s 262ms/step - loss: 1.7559 - accuracy: 1.0000 - val_loss: 1.7555 - val_accuracy: 1.0000\n",
            "Epoch 125/200\n",
            "24/24 [==============================] - 6s 262ms/step - loss: 1.7561 - accuracy: 0.9996 - val_loss: 1.7551 - val_accuracy: 1.0000\n",
            "Epoch 126/200\n",
            "24/24 [==============================] - 6s 262ms/step - loss: 1.7545 - accuracy: 1.0000 - val_loss: 1.7545 - val_accuracy: 1.0000\n",
            "Epoch 127/200\n",
            "24/24 [==============================] - 6s 261ms/step - loss: 1.7550 - accuracy: 0.9996 - val_loss: 1.7551 - val_accuracy: 0.9983\n",
            "Epoch 128/200\n",
            "24/24 [==============================] - 6s 263ms/step - loss: 1.7841 - accuracy: 0.9905 - val_loss: 1.7646 - val_accuracy: 0.9983\n",
            "Epoch 129/200\n",
            "24/24 [==============================] - 6s 262ms/step - loss: 1.7564 - accuracy: 0.9996 - val_loss: 1.7540 - val_accuracy: 1.0000\n",
            "Epoch 130/200\n",
            "24/24 [==============================] - 6s 261ms/step - loss: 1.7532 - accuracy: 0.9996 - val_loss: 1.7524 - val_accuracy: 1.0000\n",
            "Epoch 131/200\n",
            "24/24 [==============================] - 6s 263ms/step - loss: 1.7515 - accuracy: 1.0000 - val_loss: 1.7513 - val_accuracy: 1.0000\n",
            "Epoch 132/200\n",
            "24/24 [==============================] - 6s 264ms/step - loss: 1.7510 - accuracy: 1.0000 - val_loss: 1.7505 - val_accuracy: 1.0000\n",
            "Epoch 133/200\n",
            "24/24 [==============================] - 6s 264ms/step - loss: 1.7521 - accuracy: 0.9996 - val_loss: 1.7509 - val_accuracy: 1.0000\n",
            "Epoch 134/200\n",
            "24/24 [==============================] - 6s 263ms/step - loss: 1.7846 - accuracy: 0.9896 - val_loss: 1.7707 - val_accuracy: 0.9931\n",
            "Epoch 135/200\n",
            "24/24 [==============================] - 6s 262ms/step - loss: 1.7519 - accuracy: 1.0000 - val_loss: 1.7527 - val_accuracy: 1.0000\n",
            "Epoch 136/200\n",
            "24/24 [==============================] - 6s 262ms/step - loss: 1.7488 - accuracy: 1.0000 - val_loss: 1.7499 - val_accuracy: 1.0000\n",
            "Epoch 137/200\n",
            "24/24 [==============================] - 6s 262ms/step - loss: 1.7482 - accuracy: 1.0000 - val_loss: 1.7483 - val_accuracy: 1.0000\n",
            "Epoch 138/200\n",
            "24/24 [==============================] - 6s 263ms/step - loss: 1.7591 - accuracy: 0.9983 - val_loss: 1.7473 - val_accuracy: 1.0000\n",
            "Epoch 139/200\n",
            "24/24 [==============================] - 6s 262ms/step - loss: 1.7809 - accuracy: 0.9900 - val_loss: 1.7839 - val_accuracy: 0.9931\n",
            "Epoch 140/200\n",
            "24/24 [==============================] - 6s 262ms/step - loss: 1.7494 - accuracy: 1.0000 - val_loss: 1.7548 - val_accuracy: 0.9983\n",
            "Epoch 141/200\n",
            "24/24 [==============================] - 6s 263ms/step - loss: 1.7465 - accuracy: 1.0000 - val_loss: 1.7482 - val_accuracy: 1.0000\n",
            "Epoch 142/200\n",
            "24/24 [==============================] - 6s 264ms/step - loss: 1.7456 - accuracy: 1.0000 - val_loss: 1.7461 - val_accuracy: 1.0000\n",
            "Epoch 143/200\n",
            "24/24 [==============================] - 6s 263ms/step - loss: 1.7445 - accuracy: 1.0000 - val_loss: 1.7449 - val_accuracy: 1.0000\n",
            "Epoch 144/200\n",
            "24/24 [==============================] - 6s 260ms/step - loss: 1.7438 - accuracy: 1.0000 - val_loss: 1.7441 - val_accuracy: 1.0000\n",
            "Epoch 145/200\n",
            "24/24 [==============================] - 6s 261ms/step - loss: 1.7431 - accuracy: 1.0000 - val_loss: 1.7432 - val_accuracy: 1.0000\n",
            "Epoch 146/200\n",
            "24/24 [==============================] - 6s 263ms/step - loss: 1.7423 - accuracy: 1.0000 - val_loss: 1.7425 - val_accuracy: 1.0000\n",
            "Epoch 147/200\n",
            "24/24 [==============================] - 6s 262ms/step - loss: 1.7419 - accuracy: 1.0000 - val_loss: 1.7421 - val_accuracy: 1.0000\n",
            "Epoch 148/200\n",
            "24/24 [==============================] - 6s 262ms/step - loss: 1.7422 - accuracy: 0.9996 - val_loss: 1.7423 - val_accuracy: 1.0000\n",
            "Epoch 149/200\n",
            "24/24 [==============================] - 6s 263ms/step - loss: 1.7771 - accuracy: 0.9905 - val_loss: 1.7438 - val_accuracy: 1.0000\n",
            "Epoch 150/200\n",
            "24/24 [==============================] - 6s 263ms/step - loss: 1.7410 - accuracy: 1.0000 - val_loss: 1.7412 - val_accuracy: 1.0000\n",
            "Epoch 151/200\n",
            "24/24 [==============================] - 6s 263ms/step - loss: 1.7400 - accuracy: 0.9996 - val_loss: 1.7399 - val_accuracy: 1.0000\n",
            "Epoch 152/200\n",
            "24/24 [==============================] - 6s 260ms/step - loss: 1.7539 - accuracy: 0.9939 - val_loss: 1.7516 - val_accuracy: 0.9948\n",
            "Epoch 153/200\n",
            "24/24 [==============================] - 6s 261ms/step - loss: 1.7392 - accuracy: 0.9996 - val_loss: 1.7450 - val_accuracy: 0.9983\n",
            "Epoch 154/200\n",
            "24/24 [==============================] - 6s 263ms/step - loss: 1.7514 - accuracy: 0.9974 - val_loss: 1.7468 - val_accuracy: 0.9948\n",
            "Epoch 155/200\n",
            "24/24 [==============================] - 6s 262ms/step - loss: 1.7376 - accuracy: 1.0000 - val_loss: 1.7404 - val_accuracy: 0.9983\n",
            "Epoch 156/200\n",
            "24/24 [==============================] - 6s 262ms/step - loss: 1.7355 - accuracy: 1.0000 - val_loss: 1.7376 - val_accuracy: 0.9983\n",
            "Epoch 157/200\n",
            "24/24 [==============================] - 6s 262ms/step - loss: 1.7348 - accuracy: 1.0000 - val_loss: 1.7357 - val_accuracy: 1.0000\n",
            "Epoch 158/200\n",
            "24/24 [==============================] - 6s 261ms/step - loss: 1.7339 - accuracy: 1.0000 - val_loss: 1.7345 - val_accuracy: 1.0000\n",
            "Epoch 159/200\n",
            "24/24 [==============================] - 6s 262ms/step - loss: 1.7332 - accuracy: 1.0000 - val_loss: 1.7332 - val_accuracy: 1.0000\n",
            "Epoch 160/200\n",
            "24/24 [==============================] - 6s 261ms/step - loss: 1.7324 - accuracy: 1.0000 - val_loss: 1.7328 - val_accuracy: 1.0000\n",
            "Epoch 161/200\n",
            "24/24 [==============================] - 6s 261ms/step - loss: 1.7352 - accuracy: 0.9987 - val_loss: 1.7364 - val_accuracy: 0.9983\n",
            "Epoch 162/200\n",
            "24/24 [==============================] - 6s 262ms/step - loss: 1.7310 - accuracy: 1.0000 - val_loss: 1.7307 - val_accuracy: 1.0000\n",
            "Epoch 163/200\n",
            "24/24 [==============================] - 6s 260ms/step - loss: 1.7301 - accuracy: 1.0000 - val_loss: 1.7296 - val_accuracy: 1.0000\n",
            "Epoch 164/200\n",
            "24/24 [==============================] - 6s 263ms/step - loss: 1.7313 - accuracy: 0.9996 - val_loss: 1.7309 - val_accuracy: 0.9983\n",
            "Epoch 165/200\n",
            "24/24 [==============================] - 6s 262ms/step - loss: 1.7316 - accuracy: 0.9987 - val_loss: 1.7295 - val_accuracy: 1.0000\n",
            "Epoch 166/200\n",
            "24/24 [==============================] - 6s 262ms/step - loss: 1.7298 - accuracy: 0.9991 - val_loss: 1.7284 - val_accuracy: 1.0000\n",
            "Epoch 167/200\n",
            "24/24 [==============================] - 6s 261ms/step - loss: 1.7273 - accuracy: 1.0000 - val_loss: 1.7267 - val_accuracy: 1.0000\n",
            "Epoch 168/200\n",
            "24/24 [==============================] - 6s 261ms/step - loss: 1.7267 - accuracy: 0.9996 - val_loss: 1.7257 - val_accuracy: 1.0000\n",
            "Epoch 169/200\n",
            "24/24 [==============================] - 6s 260ms/step - loss: 1.7483 - accuracy: 0.9918 - val_loss: 1.7327 - val_accuracy: 0.9983\n",
            "Epoch 170/200\n",
            "24/24 [==============================] - 6s 262ms/step - loss: 1.7394 - accuracy: 0.9957 - val_loss: 1.7318 - val_accuracy: 0.9983\n",
            "Epoch 171/200\n",
            "24/24 [==============================] - 6s 262ms/step - loss: 1.7276 - accuracy: 0.9991 - val_loss: 1.7262 - val_accuracy: 1.0000\n",
            "Epoch 172/200\n",
            "24/24 [==============================] - 6s 261ms/step - loss: 1.7250 - accuracy: 1.0000 - val_loss: 1.7249 - val_accuracy: 1.0000\n",
            "Epoch 173/200\n",
            "24/24 [==============================] - 6s 263ms/step - loss: 1.7355 - accuracy: 0.9965 - val_loss: 1.7261 - val_accuracy: 1.0000\n",
            "Epoch 174/200\n",
            "24/24 [==============================] - 6s 262ms/step - loss: 1.7311 - accuracy: 0.9974 - val_loss: 1.7249 - val_accuracy: 0.9983\n",
            "Epoch 175/200\n",
            "24/24 [==============================] - 6s 262ms/step - loss: 1.7229 - accuracy: 0.9996 - val_loss: 1.7238 - val_accuracy: 0.9983\n",
            "Epoch 176/200\n",
            "24/24 [==============================] - 6s 263ms/step - loss: 1.7208 - accuracy: 1.0000 - val_loss: 1.7231 - val_accuracy: 0.9983\n",
            "Epoch 177/200\n",
            "24/24 [==============================] - 6s 263ms/step - loss: 1.7199 - accuracy: 1.0000 - val_loss: 1.7225 - val_accuracy: 0.9983\n",
            "Epoch 178/200\n",
            "24/24 [==============================] - 6s 263ms/step - loss: 1.7197 - accuracy: 0.9996 - val_loss: 1.7209 - val_accuracy: 0.9983\n",
            "Epoch 179/200\n",
            "24/24 [==============================] - 6s 263ms/step - loss: 1.7290 - accuracy: 0.9965 - val_loss: 1.7201 - val_accuracy: 1.0000\n",
            "Epoch 180/200\n",
            "24/24 [==============================] - 6s 263ms/step - loss: 1.7184 - accuracy: 1.0000 - val_loss: 1.7178 - val_accuracy: 1.0000\n",
            "Epoch 181/200\n",
            "24/24 [==============================] - 6s 262ms/step - loss: 1.7176 - accuracy: 1.0000 - val_loss: 1.7170 - val_accuracy: 1.0000\n",
            "Epoch 182/200\n",
            "24/24 [==============================] - 6s 263ms/step - loss: 1.7168 - accuracy: 1.0000 - val_loss: 1.7162 - val_accuracy: 1.0000\n",
            "Epoch 183/200\n",
            "24/24 [==============================] - 6s 262ms/step - loss: 1.7155 - accuracy: 1.0000 - val_loss: 1.7163 - val_accuracy: 1.0000\n",
            "Epoch 184/200\n",
            "24/24 [==============================] - 6s 263ms/step - loss: 1.7156 - accuracy: 1.0000 - val_loss: 1.7236 - val_accuracy: 0.9965\n",
            "Epoch 185/200\n",
            "24/24 [==============================] - 6s 263ms/step - loss: 1.7136 - accuracy: 1.0000 - val_loss: 1.7167 - val_accuracy: 0.9983\n",
            "Epoch 186/200\n",
            "24/24 [==============================] - 6s 262ms/step - loss: 1.7128 - accuracy: 1.0000 - val_loss: 1.7131 - val_accuracy: 1.0000\n",
            "Epoch 187/200\n",
            "24/24 [==============================] - 6s 263ms/step - loss: 1.7116 - accuracy: 1.0000 - val_loss: 1.7119 - val_accuracy: 1.0000\n",
            "Epoch 188/200\n",
            "24/24 [==============================] - 6s 263ms/step - loss: 1.7108 - accuracy: 1.0000 - val_loss: 1.7108 - val_accuracy: 1.0000\n",
            "Epoch 189/200\n",
            "24/24 [==============================] - 6s 262ms/step - loss: 1.7114 - accuracy: 0.9991 - val_loss: 1.7111 - val_accuracy: 0.9983\n",
            "Epoch 190/200\n",
            "24/24 [==============================] - 6s 262ms/step - loss: 1.7089 - accuracy: 1.0000 - val_loss: 1.7098 - val_accuracy: 0.9983\n",
            "Epoch 191/200\n",
            "24/24 [==============================] - 6s 263ms/step - loss: 1.7080 - accuracy: 1.0000 - val_loss: 1.7085 - val_accuracy: 1.0000\n",
            "Epoch 192/200\n",
            "24/24 [==============================] - 6s 262ms/step - loss: 1.7070 - accuracy: 1.0000 - val_loss: 1.7073 - val_accuracy: 1.0000\n",
            "Epoch 193/200\n",
            "24/24 [==============================] - 6s 262ms/step - loss: 1.7061 - accuracy: 1.0000 - val_loss: 1.7062 - val_accuracy: 1.0000\n",
            "Epoch 194/200\n",
            "24/24 [==============================] - 6s 263ms/step - loss: 1.7051 - accuracy: 1.0000 - val_loss: 1.7051 - val_accuracy: 1.0000\n",
            "Epoch 195/200\n",
            "24/24 [==============================] - 6s 263ms/step - loss: 1.7041 - accuracy: 1.0000 - val_loss: 1.7040 - val_accuracy: 1.0000\n",
            "Epoch 196/200\n",
            "24/24 [==============================] - 6s 261ms/step - loss: 1.7032 - accuracy: 1.0000 - val_loss: 1.7030 - val_accuracy: 1.0000\n",
            "Epoch 197/200\n",
            "24/24 [==============================] - 6s 262ms/step - loss: 1.7022 - accuracy: 1.0000 - val_loss: 1.7019 - val_accuracy: 1.0000\n",
            "Epoch 198/200\n",
            "24/24 [==============================] - 6s 262ms/step - loss: 1.7015 - accuracy: 1.0000 - val_loss: 1.7007 - val_accuracy: 1.0000\n",
            "Epoch 199/200\n",
            "24/24 [==============================] - 6s 261ms/step - loss: 1.7016 - accuracy: 0.9996 - val_loss: 1.7001 - val_accuracy: 1.0000\n",
            "Epoch 200/200\n",
            "24/24 [==============================] - 6s 262ms/step - loss: 1.7010 - accuracy: 0.9996 - val_loss: 1.6989 - val_accuracy: 1.0000\n"
          ],
          "name": "stdout"
        }
      ]
    },
    {
      "cell_type": "code",
      "metadata": {
        "id": "CFDVlfpPMCtK",
        "colab_type": "code",
        "colab": {
          "base_uri": "https://localhost:8080/",
          "height": 295
        },
        "outputId": "d856a0e3-2621-41ba-c4ef-4f6b6e9561cc"
      },
      "source": [
        "import matplotlib.pyplot as plt\n",
        "plt.plot(history.history['accuracy'])\n",
        "plt.plot(history.history['val_accuracy'])\n",
        "plt.title('model accuracy')\n",
        "plt.ylabel('accuracy')\n",
        "plt.xlabel('epoch')\n",
        "plt.legend(['train', 'validation'], loc='bottom right')\n",
        "plt.show()"
      ],
      "execution_count": null,
      "outputs": [
        {
          "output_type": "display_data",
          "data": {
            "image/png": "[encoded data removed]",
            "text/plain": [
              "<Figure size 432x288 with 1 Axes>"
            ]
          },
          "metadata": {
            "tags": [],
            "needs_background": "light"
          }
        }
      ]
    },
    {
      "cell_type": "code",
      "metadata": {
        "id": "Q2aE3s_Fpb5n",
        "colab_type": "code",
        "colab": {
          "base_uri": "https://localhost:8080/",
          "height": 924
        },
        "outputId": "421dbac4-765c-4562-d4c2-edb304ee8ad8"
      },
      "source": [
        "test = []\n",
        "n = 0\n",
        "t = 0\n",
        "img_path = '/content/drive/My Drive/A'\n",
        "for file in os.listdir(img_path):\n",
        "  img = cv2.imread(os.path.join(img_path, file))\n",
        "  img = cv2.cvtColor(img, cv2.COLOR_BGR2GRAY)\n",
        "  img = cv2.resize(img, (pixel, pixel))\n",
        "  alpha = 1.3\n",
        "  beta = 25\n",
        "  new_img = np.zeros(img.shape, img.dtype)\n",
        "  for y in range(img.shape[0]):\n",
        "      for x in range(img.shape[1]):\n",
        "        new_img[y,x] = np.clip(alpha*img[y,x] + beta, 0, 255)\n",
        "  img = np.array(new_img).reshape(1, pixel, pixel, 1)\n",
        "  predictions = model.predict(img)\n",
        "  t+=1\n",
        "  x = alphabets[np.argmax(predictions[0])]\n",
        "  print(max(predictions[0]))\n",
        "  if max(predictions[0]) < 0.5:\n",
        "    cv2_imshow(img.reshape(pixel, pixel, 1))\n",
        "  if x != 'A':\n",
        "    print(alphabets[np.argmax(predictions)])\n",
        "    print(\"2\", max(predictions[0]))\n",
        "    cv2_imshow(img.reshape(pixel, pixel, 1))\n",
        "    n+=1\n",
        "\n",
        "print(n)\n",
        "print(t)"
      ],
      "execution_count": null,
      "outputs": [
        {
          "output_type": "stream",
          "text": [
            "0.99999654\n",
            "0.9999988\n",
            "0.9999958\n",
            "0.99999905\n",
            "0.999992\n",
            "0.99999714\n",
            "0.99999523\n",
            "0.9999982\n",
            "0.99999905\n",
            "0.9999949\n",
            "0.99999917\n",
            "0.9999918\n",
            "0.9999956\n",
            "0.9999937\n",
            "0.99997103\n",
            "0.999998\n",
            "0.9999963\n",
            "0.999998\n",
            "0.9999981\n",
            "0.99998045\n",
            "0.99999666\n",
            "0.99999166\n",
            "0.99999535\n",
            "0.99999845\n",
            "0.99999344\n",
            "0.9988115\n",
            "0.99994946\n",
            "0.99996006\n",
            "0.9999211\n",
            "0.99998724\n",
            "0.9999945\n",
            "0.99999905\n",
            "0.9999833\n",
            "0.99999833\n",
            "0.9999976\n",
            "0.9999968\n",
            "0.9997944\n",
            "0.999995\n",
            "0.99999666\n",
            "0.999992\n",
            "0.9999968\n",
            "0.99996376\n",
            "0.9999958\n",
            "0.9999982\n",
            "0.99999785\n",
            "0.99999297\n",
            "0.9999995\n",
            "0.9999962\n",
            "0.9999784\n",
            "0.9999968\n",
            "0.9999982\n",
            "0.999998\n",
            "0\n",
            "52\n"
          ],
          "name": "stdout"
        }
      ]
    },
    {
      "cell_type": "code",
      "metadata": {
        "id": "FU0MFccE8adj",
        "colab_type": "code",
        "colab": {
          "base_uri": "https://localhost:8080/",
          "height": 1000
        },
        "outputId": "9bd69228-1016-460f-c3a1-a916da1a3e85"
      },
      "source": [
        "n = 0\n",
        "t = 0\n",
        "img_path = '/content/drive/My Drive/B'\n",
        "for file in os.listdir(img_path):\n",
        "  img = cv2.imread(os.path.join(img_path, file))\n",
        "  img = cv2.cvtColor(img, cv2.COLOR_BGR2GRAY)\n",
        "  img = cv2.resize(img, (pixel, pixel))\n",
        "  alpha = 1.3\n",
        "  beta = 25\n",
        "  new_img = np.zeros(img.shape, img.dtype)\n",
        "  for y in range(img.shape[0]):\n",
        "      for x in range(img.shape[1]):\n",
        "        new_img[y,x] = np.clip(alpha*img[y,x] + beta, 0, 255)\n",
        "  img = np.array(new_img).reshape(1, pixel, pixel, 1)\n",
        "  predictions = model.predict(img)\n",
        "  t+=1\n",
        "  x = alphabets[np.argmax(predictions[0])]\n",
        "  print(max(predictions[0]))\n",
        "  if x != 'B':\n",
        "    print(alphabets[np.argmax(predictions)])\n",
        "    print(\"2\", max(predictions[0]))\n",
        "    cv2_imshow(img.reshape(pixel, pixel, 1))\n",
        "    n+=1\n",
        "\n",
        "print(n)\n",
        "print(t)"
      ],
      "execution_count": null,
      "outputs": [
        {
          "output_type": "stream",
          "text": [
            "0.44443357\n",
            "I\n",
            "2 0.44443357\n"
          ],
          "name": "stdout"
        },
        {
          "output_type": "display_data",
          "data": {
            "image/png": "[encoded data removed]",
            "text/plain": [
              "<PIL.Image.Image image mode=RGB size=64x64 at 0x7FA872D102E8>"
            ]
          },
          "metadata": {
            "tags": []
          }
        },
        {
          "output_type": "stream",
          "text": [
            "0.9996613\n",
            "0.9986083\n",
            "0.9996408\n",
            "0.99991643\n",
            "0.99240583\n",
            "0.9995932\n",
            "0.9991159\n",
            "0.9999851\n",
            "0.99966776\n",
            "0.9999963\n",
            "0.99404484\n",
            "0.9992519\n",
            "0.99961543\n",
            "0.8474421\n",
            "0.95198023\n",
            "0.9998739\n",
            "0.99965584\n",
            "0.9963966\n",
            "0.9999893\n",
            "0.9686363\n",
            "0.9885598\n",
            "0.9998646\n",
            "0.999967\n",
            "0.99998486\n",
            "0.99998105\n",
            "0.9999225\n",
            "0.9999864\n",
            "0.99996006\n",
            "0.99985874\n",
            "0.99993694\n",
            "0.99893564\n",
            "0.9957283\n",
            "0.99783474\n",
            "0.99968636\n",
            "0.998216\n",
            "0.9699238\n",
            "0.9999496\n",
            "0.96813536\n",
            "0.85309035\n",
            "0.7816358\n",
            "0.6590177\n",
            "C\n",
            "2 0.6590177\n"
          ],
          "name": "stdout"
        },
        {
          "output_type": "display_data",
          "data": {
            "image/png": "[encoded data removed]",
            "text/plain": [
              "<PIL.Image.Image image mode=RGB size=64x64 at 0x7FA872A7EFD0>"
            ]
          },
          "metadata": {
            "tags": []
          }
        },
        {
          "output_type": "stream",
          "text": [
            "0.9832388\n",
            "0.9971916\n",
            "0.864115\n",
            "0.96658874\n",
            "0.9635704\n",
            "0.7152421\n",
            "0.50094205\n",
            "0.75531906\n",
            "C\n",
            "2 0.75531906\n"
          ],
          "name": "stdout"
        },
        {
          "output_type": "display_data",
          "data": {
            "image/png": "[encoded data removed]",
            "text/plain": [
              "<PIL.Image.Image image mode=RGB size=64x64 at 0x7FA872AFFA90>"
            ]
          },
          "metadata": {
            "tags": []
          }
        },
        {
          "output_type": "stream",
          "text": [
            "0.9935034\n",
            "0.9608263\n",
            "P\n",
            "2 0.9608263\n"
          ],
          "name": "stdout"
        },
        {
          "output_type": "display_data",
          "data": {
            "image/png": "[encoded data removed]",
            "text/plain": [
              "<PIL.Image.Image image mode=RGB size=64x64 at 0x7FA87288CA90>"
            ]
          },
          "metadata": {
            "tags": []
          }
        },
        {
          "output_type": "stream",
          "text": [
            "0.98401225\n",
            "0.90362006\n",
            "0.576834\n",
            "P\n",
            "2 0.576834\n"
          ],
          "name": "stdout"
        },
        {
          "output_type": "display_data",
          "data": {
            "image/png": "[encoded data removed]",
            "text/plain": [
              "<PIL.Image.Image image mode=RGB size=64x64 at 0x7FA872AFFA90>"
            ]
          },
          "metadata": {
            "tags": []
          }
        },
        {
          "output_type": "stream",
          "text": [
            "0.9987184\n",
            "P\n",
            "2 0.9987184\n"
          ],
          "name": "stdout"
        },
        {
          "output_type": "display_data",
          "data": {
            "image/png": "[encoded data removed]",
            "text/plain": [
              "<PIL.Image.Image image mode=RGB size=64x64 at 0x7FA872AC7E80>"
            ]
          },
          "metadata": {
            "tags": []
          }
        },
        {
          "output_type": "stream",
          "text": [
            "0.69524395\n",
            "P\n",
            "2 0.69524395\n"
          ],
          "name": "stdout"
        },
        {
          "output_type": "display_data",
          "data": {
            "image/png": "[encoded data removed]",
            "text/plain": [
              "<PIL.Image.Image image mode=RGB size=64x64 at 0x7FA8728860F0>"
            ]
          },
          "metadata": {
            "tags": []
          }
        },
        {
          "output_type": "stream",
          "text": [
            "0.93055964\n",
            "P\n",
            "2 0.93055964\n"
          ],
          "name": "stdout"
        },
        {
          "output_type": "display_data",
          "data": {
            "image/png": "[encoded data removed]",
            "text/plain": [
              "<PIL.Image.Image image mode=RGB size=64x64 at 0x7FA872A02518>"
            ]
          },
          "metadata": {
            "tags": []
          }
        },
        {
          "output_type": "stream",
          "text": [
            "0.98862094\n",
            "0.95904136\n",
            "0.99209964\n",
            "P\n",
            "2 0.99209964\n"
          ],
          "name": "stdout"
        },
        {
          "output_type": "display_data",
          "data": {
            "image/png": "[encoded data removed]",
            "text/plain": [
              "<PIL.Image.Image image mode=RGB size=64x64 at 0x7FA872834F98>"
            ]
          },
          "metadata": {
            "tags": []
          }
        },
        {
          "output_type": "stream",
          "text": [
            "0.9917768\n",
            "0.99000883\n",
            "P\n",
            "2 0.99000883\n"
          ],
          "name": "stdout"
        },
        {
          "output_type": "display_data",
          "data": {
            "image/png": "[encoded data removed]",
            "text/plain": [
              "<PIL.Image.Image image mode=RGB size=64x64 at 0x7FA872834860>"
            ]
          },
          "metadata": {
            "tags": []
          }
        },
        {
          "output_type": "stream",
          "text": [
            "0.8767497\n",
            "0.9244119\n",
            "P\n",
            "2 0.9244119\n"
          ],
          "name": "stdout"
        },
        {
          "output_type": "display_data",
          "data": {
            "image/png": "[encoded data removed]",
            "text/plain": [
              "<PIL.Image.Image image mode=RGB size=64x64 at 0x7FA872A5E208>"
            ]
          },
          "metadata": {
            "tags": []
          }
        },
        {
          "output_type": "stream",
          "text": [
            "0.96145785\n",
            "P\n",
            "2 0.96145785\n"
          ],
          "name": "stdout"
        },
        {
          "output_type": "display_data",
          "data": {
            "image/png": "[encoded data removed]",
            "text/plain": [
              "<PIL.Image.Image image mode=RGB size=64x64 at 0x7FA872A5E0F0>"
            ]
          },
          "metadata": {
            "tags": []
          }
        },
        {
          "output_type": "stream",
          "text": [
            "0.42069116\n",
            "P\n",
            "2 0.42069116\n"
          ],
          "name": "stdout"
        },
        {
          "output_type": "display_data",
          "data": {
            "image/png": "[encoded data removed]",
            "text/plain": [
              "<PIL.Image.Image image mode=RGB size=64x64 at 0x7FA872A5E0F0>"
            ]
          },
          "metadata": {
            "tags": []
          }
        },
        {
          "output_type": "stream",
          "text": [
            "0.47146356\n",
            "0.996912\n",
            "0.9995788\n",
            "0.98092973\n",
            "0.9997029\n",
            "0.99836975\n",
            "0.99989665\n",
            "0.997717\n",
            "0.9989942\n",
            "0.99968433\n",
            "0.9991105\n",
            "0.9995586\n",
            "0.96266204\n",
            "0.9996201\n",
            "0.99954224\n",
            "0.9998388\n",
            "0.99967015\n",
            "0.99651307\n",
            "0.99827385\n",
            "0.9999535\n",
            "0.99994075\n",
            "0.999423\n",
            "0.9995271\n",
            "0.9999794\n",
            "13\n",
            "91\n"
          ],
          "name": "stdout"
        }
      ]
    },
    {
      "cell_type": "code",
      "metadata": {
        "id": "YPozMx8sTiHs",
        "colab_type": "code",
        "colab": {
          "base_uri": "https://localhost:8080/",
          "height": 666
        },
        "outputId": "c85a2a8e-42e0-4d82-b6e0-c4a7f0fc529c"
      },
      "source": [
        "\n",
        "n = 0\n",
        "t = 0\n",
        "img_path = '/content/drive/My Drive/Y'\n",
        "for file in os.listdir(img_path):\n",
        "  img = cv2.imread(os.path.join(img_path, file))\n",
        "  img = cv2.cvtColor(img, cv2.COLOR_BGR2GRAY)\n",
        "  img = cv2.resize(img, (pixel, pixel))\n",
        "  alpha = 1.3\n",
        "  beta = 25\n",
        "  new_img = np.zeros(img.shape, img.dtype)\n",
        "  for y in range(img.shape[0]):\n",
        "      for x in range(img.shape[1]):\n",
        "        new_img[y,x] = np.clip(alpha*img[y,x] + beta, 0, 255)\n",
        "  img = np.array(new_img).reshape(1, pixel, pixel, 1)\n",
        "  predictions = model.predict(img)\n",
        "  t+=1\n",
        "  x = alphabets[np.argmax(predictions[0])]\n",
        "  print(max(predictions[0]))\n",
        "  if x != 'Y':\n",
        "    print(alphabets[np.argmax(predictions)])\n",
        "    print(\"2\", max(predictions[0]))\n",
        "    cv2_imshow(img.reshape(pixel, pixel, 1))\n",
        "    n+=1\n",
        "\n",
        "print(n)\n",
        "print(t)"
      ],
      "execution_count": null,
      "outputs": [
        {
          "output_type": "stream",
          "text": [
            "0.99969244\n",
            "0.9997613\n",
            "0.9970739\n",
            "0.99841833\n",
            "0.90676516\n",
            "0.9738264\n",
            "0.91563237\n",
            "C\n",
            "2 0.91563237\n"
          ],
          "name": "stdout"
        },
        {
          "output_type": "display_data",
          "data": {
            "image/png": "[encoded data removed]",
            "text/plain": [
              "<PIL.Image.Image image mode=RGB size=64x64 at 0x7FA8729F5E48>"
            ]
          },
          "metadata": {
            "tags": []
          }
        },
        {
          "output_type": "stream",
          "text": [
            "0.5762894\n",
            "B\n",
            "2 0.5762894\n"
          ],
          "name": "stdout"
        },
        {
          "output_type": "display_data",
          "data": {
            "image/png": "[encoded data removed]",
            "text/plain": [
              "<PIL.Image.Image image mode=RGB size=64x64 at 0x7FA872A5E0B8>"
            ]
          },
          "metadata": {
            "tags": []
          }
        },
        {
          "output_type": "stream",
          "text": [
            "0.99990773\n",
            "0.99996483\n",
            "0.99977356\n",
            "0.9992848\n",
            "0.9993674\n",
            "0.9991399\n",
            "0.9996043\n",
            "0.9986279\n",
            "0.999316\n",
            "0.9999542\n",
            "0.9993832\n",
            "0.9995572\n",
            "0.9999701\n",
            "0.99963784\n",
            "0.99913967\n",
            "0.998447\n",
            "0.99995446\n",
            "2\n",
            "25\n"
          ],
          "name": "stdout"
        }
      ]
    },
    {
      "cell_type": "code",
      "metadata": {
        "id": "g7Pgoifc11m3",
        "colab_type": "code",
        "colab": {
          "base_uri": "https://localhost:8080/",
          "height": 1000
        },
        "outputId": "be5165d6-e34b-41d1-c2be-1717dfb76d84"
      },
      "source": [
        "\n",
        "n = 0\n",
        "t = 0\n",
        "img_path = '/content/drive/My Drive/C'\n",
        "for file in os.listdir(img_path):\n",
        "  img = cv2.imread(os.path.join(img_path, file))\n",
        "  img = cv2.cvtColor(img, cv2.COLOR_BGR2GRAY)\n",
        "  img = cv2.resize(img, (pixel, pixel))\n",
        "  alpha = 1.3\n",
        "  beta = 25\n",
        "  new_img = np.zeros(img.shape, img.dtype)\n",
        "  for y in range(img.shape[0]):\n",
        "      for x in range(img.shape[1]):\n",
        "        new_img[y,x] = np.clip(alpha*img[y,x] + beta, 0, 255)\n",
        "  img = np.array(new_img).reshape(1, pixel, pixel, 1)\n",
        "  predictions = model.predict(img)\n",
        "  t+=1\n",
        "  x = alphabets[np.argmax(predictions[0])]\n",
        "  print(max(predictions[0]))\n",
        "  if x != 'C':\n",
        "    print(alphabets[np.argmax(predictions)])\n",
        "    print(\"2\", max(predictions[0]))\n",
        "    cv2_imshow(img.reshape(pixel, pixel, 1))\n",
        "    n+=1\n",
        "\n",
        "print(n)\n",
        "print(t)"
      ],
      "execution_count": null,
      "outputs": [
        {
          "output_type": "stream",
          "text": [
            "0.9999931\n",
            "0.9735141\n",
            "0.99979514\n",
            "0.9546506\n",
            "0.8624647\n",
            "0.999987\n",
            "0.9999943\n",
            "0.9985934\n",
            "0.99645954\n",
            "0.999969\n",
            "0.99935144\n",
            "0.99941134\n",
            "0.9999653\n",
            "0.9999826\n",
            "0.9636444\n",
            "U\n",
            "2 0.9636444\n"
          ],
          "name": "stdout"
        },
        {
          "output_type": "display_data",
          "data": {
            "image/png": "[encoded data removed]",
            "text/plain": [
              "<PIL.Image.Image image mode=RGB size=64x64 at 0x7FA8729AE898>"
            ]
          },
          "metadata": {
            "tags": []
          }
        },
        {
          "output_type": "stream",
          "text": [
            "0.7930684\n",
            "0.9998634\n",
            "0.99976784\n",
            "0.9662052\n",
            "0.5267323\n",
            "P\n",
            "2 0.5267323\n"
          ],
          "name": "stdout"
        },
        {
          "output_type": "display_data",
          "data": {
            "image/png": "[encoded data removed]",
            "text/plain": [
              "<PIL.Image.Image image mode=RGB size=64x64 at 0x7FA8727EACC0>"
            ]
          },
          "metadata": {
            "tags": []
          }
        },
        {
          "output_type": "stream",
          "text": [
            "0.98553365\n",
            "0.7482927\n",
            "P\n",
            "2 0.7482927\n"
          ],
          "name": "stdout"
        },
        {
          "output_type": "display_data",
          "data": {
            "image/png": "[encoded data removed]",
            "text/plain": [
              "<PIL.Image.Image image mode=RGB size=64x64 at 0x7FA8727EACC0>"
            ]
          },
          "metadata": {
            "tags": []
          }
        },
        {
          "output_type": "stream",
          "text": [
            "0.99659866\n",
            "0.8955009\n",
            "U\n",
            "2 0.8955009\n"
          ],
          "name": "stdout"
        },
        {
          "output_type": "display_data",
          "data": {
            "image/png": "[encoded data removed]",
            "text/plain": [
              "<PIL.Image.Image image mode=RGB size=64x64 at 0x7FA8727EACC0>"
            ]
          },
          "metadata": {
            "tags": []
          }
        },
        {
          "output_type": "stream",
          "text": [
            "0.9999739\n",
            "0.99994326\n",
            "0.85084075\n",
            "0.6519628\n",
            "0.93603444\n",
            "U\n",
            "2 0.93603444\n"
          ],
          "name": "stdout"
        },
        {
          "output_type": "display_data",
          "data": {
            "image/png": "[encoded data removed]",
            "text/plain": [
              "<PIL.Image.Image image mode=RGB size=64x64 at 0x7FA872A83F28>"
            ]
          },
          "metadata": {
            "tags": []
          }
        },
        {
          "output_type": "stream",
          "text": [
            "0.99894506\n",
            "0.88128036\n",
            "0.28742534\n",
            "0.72387725\n",
            "Y\n",
            "2 0.72387725\n"
          ],
          "name": "stdout"
        },
        {
          "output_type": "display_data",
          "data": {
            "image/png": "[encoded data removed]",
            "text/plain": [
              "<PIL.Image.Image image mode=RGB size=64x64 at 0x7FA8728D9C18>"
            ]
          },
          "metadata": {
            "tags": []
          }
        },
        {
          "output_type": "stream",
          "text": [
            "0.9750543\n",
            "0.6010299\n",
            "Y\n",
            "2 0.6010299\n"
          ],
          "name": "stdout"
        },
        {
          "output_type": "display_data",
          "data": {
            "image/png": "[encoded data removed]",
            "text/plain": [
              "<PIL.Image.Image image mode=RGB size=64x64 at 0x7FA872922160>"
            ]
          },
          "metadata": {
            "tags": []
          }
        },
        {
          "output_type": "stream",
          "text": [
            "0.5433387\n",
            "0.9999255\n",
            "0.95630753\n",
            "I\n",
            "2 0.95630753\n"
          ],
          "name": "stdout"
        },
        {
          "output_type": "display_data",
          "data": {
            "image/png": "[encoded data removed]",
            "text/plain": [
              "<PIL.Image.Image image mode=RGB size=64x64 at 0x7FA872989AC8>"
            ]
          },
          "metadata": {
            "tags": []
          }
        },
        {
          "output_type": "stream",
          "text": [
            "0.63653326\n",
            "Y\n",
            "2 0.63653326\n"
          ],
          "name": "stdout"
        },
        {
          "output_type": "display_data",
          "data": {
            "image/png": "[encoded data removed]",
            "text/plain": [
              "<PIL.Image.Image image mode=RGB size=64x64 at 0x7FA872ABE128>"
            ]
          },
          "metadata": {
            "tags": []
          }
        },
        {
          "output_type": "stream",
          "text": [
            "0.43152386\n",
            "I\n",
            "2 0.43152386\n"
          ],
          "name": "stdout"
        },
        {
          "output_type": "display_data",
          "data": {
            "image/png": "[encoded data removed]",
            "text/plain": [
              "<PIL.Image.Image image mode=RGB size=64x64 at 0x7FA872ABE6A0>"
            ]
          },
          "metadata": {
            "tags": []
          }
        },
        {
          "output_type": "stream",
          "text": [
            "0.9068977\n",
            "0.6760069\n",
            "U\n",
            "2 0.6760069\n"
          ],
          "name": "stdout"
        },
        {
          "output_type": "display_data",
          "data": {
            "image/png": "[encoded data removed]",
            "text/plain": [
              "<PIL.Image.Image image mode=RGB size=64x64 at 0x7FA872ABE128>"
            ]
          },
          "metadata": {
            "tags": []
          }
        },
        {
          "output_type": "stream",
          "text": [
            "0.999785\n",
            "0.9738144\n",
            "0.9997068\n",
            "0.9761796\n",
            "I\n",
            "2 0.9761796\n"
          ],
          "name": "stdout"
        },
        {
          "output_type": "display_data",
          "data": {
            "image/png": "[encoded data removed]",
            "text/plain": [
              "<PIL.Image.Image image mode=RGB size=64x64 at 0x7FA8729C8358>"
            ]
          },
          "metadata": {
            "tags": []
          }
        },
        {
          "output_type": "stream",
          "text": [
            "0.7371884\n",
            "0.99893385\n",
            "0.9995141\n",
            "12\n",
            "49\n"
          ],
          "name": "stdout"
        }
      ]
    },
    {
      "cell_type": "code",
      "metadata": {
        "id": "gDsZqAMH9TAs",
        "colab_type": "code",
        "colab": {
          "base_uri": "https://localhost:8080/",
          "height": 67
        },
        "outputId": "5daa8791-7ed5-4fca-a93c-d69857fd4f13"
      },
      "source": [
        "n = 0\n",
        "t = 0\n",
        "img_path = '/content/drive/My Drive/Letters/F.jpg'\n",
        "img = cv2.imread(img_path)\n",
        "img = cv2.cvtColor(img, cv2.COLOR_BGR2GRAY)\n",
        "img = cv2.resize(img, (pixel, pixel))\n",
        "img = np.array(img).reshape(1, pixel, pixel, 1)\n",
        "predictions = model.predict(img)\n",
        "print(alphabets[np.argmax(predictions[0])])\n",
        "print(max(predictions[0]))\n",
        "print(alphabets)"
      ],
      "execution_count": null,
      "outputs": [
        {
          "output_type": "stream",
          "text": [
            "F\n",
            "0.9999217\n",
            "['P', 'S', 'L', 'U', 'B', 'O', 'G', 'N', 'C', 'Y', 'K', 'C', 'M', 'F', 'I', 'H', 'A', 'T']\n"
          ],
          "name": "stdout"
        }
      ]
    },
    {
      "cell_type": "code",
      "metadata": {
        "id": "VS40HkD2Bww7",
        "colab_type": "code",
        "colab": {
          "base_uri": "https://localhost:8080/",
          "height": 50
        },
        "outputId": "ae4471c3-4eb5-4ad9-95c6-7ca1a1778c8f"
      },
      "source": [
        "alphabets = ['P', 'S', 'L', 'U', 'B', 'O', 'G', 'N', 'C', 'Y', 'K', 'C', 'M', 'F', 'I', 'H', 'A', 'T']\n",
        "img_path = '/content/drive/My Drive/Mixed/w8.png'\n",
        "img = cv2.imread(img_path)\n",
        "im2 = img.copy()\n",
        "alpha = 1.4\n",
        "beta = 50\n",
        "new_img = np.zeros(img.shape, img.dtype)\n",
        "for y in range(img.shape[0]):\n",
        "    for x in range(img.shape[1]):\n",
        "      new_img[y,x] = np.clip(alpha*img[y,x] + beta, 0, 255)\n",
        "\n",
        "gray = cv2.cvtColor(new_img, cv2.COLOR_BGR2GRAY)\n",
        "\n",
        "ret, thresh = cv2.threshold(gray, 0, 255, cv2.THRESH_OTSU | cv2.THRESH_BINARY_INV)\n",
        "rect_kernel = cv2.getStructuringElement(cv2.MORPH_RECT, (1, 1))\n",
        "dilation = cv2.dilate(thresh, rect_kernel, iterations = 5)\n",
        "contours, hierarchy = cv2.findContours(dilation, cv2.RETR_EXTERNAL, cv2.CHAIN_APPROX_NONE)\n",
        "\n",
        "for cnt in contours:\n",
        "  x, y, w, h = cv2.boundingRect(cnt)\n",
        "  if h<100 and w<100:\n",
        "    continue\n",
        "  rect = cv2.rectangle(im2, x, y, x+w, y+h)\n",
        "  cropped = im2[y:y+h, x:x+w]\n",
        "  cropped = cv2.cvtColor(cropped, cv2.COLOR_BGR2GRAY)\n",
        "  #cv2_imshow(cropped)\n",
        "  cropped = cv2.resize(cropped, (128, 64))\n",
        "  imgs = np.array(cropped).reshape(64, 128)\n",
        "  img1 = imgs[:, :64]\n",
        "  img2 = imgs[:, 64:]\n",
        "\n",
        "  img1 = img1.reshape(1, 64, 64, 1)\n",
        "  img2 = img2.reshape(1, 64, 64, 1)\n",
        "\n",
        "  #cv2_imshow(img1.reshape(64, 64))\n",
        "  #cv2_imshow(img2.reshape(64, 64))\n",
        "\n",
        "  pred1 = model.predict(img1)\n",
        "  pred2 = model.predict(img2)\n",
        "\n",
        "  print(alphabets[np.argmax(pred1[0])])\n",
        "  print(alphabets[np.argmax(pred2[0])])\n"
      ],
      "execution_count": null,
      "outputs": [
        {
          "output_type": "stream",
          "text": [
            "T\n",
            "L\n"
          ],
          "name": "stdout"
        }
      ]
    },
    {
      "cell_type": "code",
      "metadata": {
        "id": "VeNbp4FNNu3-",
        "colab_type": "code",
        "colab": {}
      },
      "source": [
        ""
      ],
      "execution_count": null,
      "outputs": []
    }
  ]
}