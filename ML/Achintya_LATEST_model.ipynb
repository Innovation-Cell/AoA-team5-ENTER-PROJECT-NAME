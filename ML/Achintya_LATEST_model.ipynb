{
  "nbformat": 4,
  "nbformat_minor": 0,
  "metadata": {
    "colab": {
      "name": "Achintya-dataset(no additions).ipynb",
      "provenance": [],
      "collapsed_sections": [],
      "include_colab_link": true
    },
    "kernelspec": {
      "name": "python3",
      "display_name": "Python 3"
    },
    "accelerator": "GPU"
  },
  "cells": [
    {
      "cell_type": "markdown",
      "metadata": {
        "id": "view-in-github",
        "colab_type": "text"
      },
      "source": [
        "<a href=\"https://colab.research.google.com/github/Dikshuy/hail_UMICaana/blob/master/Achintya_LATEST_model.ipynb\" target=\"_parent\"><img src=\"https://colab.research.google.com/assets/colab-badge.svg\" alt=\"Open In Colab\"/></a>"
      ]
    },
    {
      "cell_type": "code",
      "metadata": {
        "id": "ZsqTdLU-txVh",
        "colab_type": "code",
        "colab": {
          "base_uri": "https://localhost:8080/",
          "height": 50
        },
        "outputId": "11c82da1-e63f-45cb-bd52-cd6786d140bc"
      },
      "source": [
        "import numpy as np\n",
        "import cv2\n",
        "import os\n",
        "from google.colab import drive\n",
        "import tensorflow as tf\n",
        "from tensorflow.keras.preprocessing.image import img_to_array\n",
        "from sklearn.preprocessing import LabelEncoder\n",
        "from keras.utils import to_categorical\n",
        "from google.colab.patches import cv2_imshow\n",
        "from keras.models import Sequential\n",
        "from keras.layers import Dense, Dropout, Flatten, BatchNormalization, Activation, Input, ZeroPadding2D\n",
        "from keras.layers.convolutional import Conv2D, MaxPooling2D\n",
        "from keras.constraints import maxnorm\n",
        "from keras.utils import np_utils\n",
        "\n",
        "from tensorflow.keras.layers import AveragePooling2D\n",
        "from tensorflow.keras.layers import Dropout\n",
        "from tensorflow.keras.layers import Flatten\n",
        "from tensorflow.keras.layers import Dense\n",
        "from tensorflow.keras.layers import Input, ZeroPadding2D, BatchNormalization, Add\n",
        "from keras.models import Model\n",
        "from tensorflow.keras.losses import MAE\n",
        "from tensorflow.keras.optimizers import Adam\n",
        "from sklearn.model_selection import train_test_split\n",
        "from tensorflow.keras.layers import Conv2D\n",
        "from tensorflow.keras import Input\n",
        "from tensorflow.keras.utils import plot_model\n",
        "from keras.models import Sequential\n",
        "from keras.layers import Conv2D, MaxPooling2D \n",
        "from keras.layers import Activation, Dropout, Flatten, Dense \n",
        "from keras import backend as K \n",
        "import keras\n",
        "from keras import regularizers\n",
        "from keras.initializers import glorot_uniform\n",
        "drive.mount('/content/drive')\n",
        "%cd '/content/drive/My Drive/Letters'\n"
      ],
      "execution_count": 37,
      "outputs": [
        {
          "output_type": "stream",
          "text": [
            "Drive already mounted at /content/drive; to attempt to forcibly remount, call drive.mount(\"/content/drive\", force_remount=True).\n",
            "/content/drive/My Drive/Letters\n"
          ],
          "name": "stdout"
        }
      ]
    },
    {
      "cell_type": "code",
      "metadata": {
        "id": "hMsblP79uA-k",
        "colab_type": "code",
        "colab": {
          "base_uri": "https://localhost:8080/",
          "height": 50
        },
        "outputId": "5784f69c-4a57-474c-dc0b-e53c7b4840ce"
      },
      "source": [
        "pixel = 64\n",
        "symbols = []\n",
        "alphabets = []\n",
        "\n",
        "img_path = '/content/drive/My Drive/Letters'\n",
        "for file in os.listdir('/content/drive/My Drive/Letters'):\n",
        "  img = cv2.imread(os.path.join(img_path, file))\n",
        "  img = cv2.resize(img, (pixel, pixel))\n",
        "  alpha = 1\n",
        "  beta = 50\n",
        "  for i in range(-3, 2):\n",
        "    new_img = np.zeros(img.shape, img.dtype)\n",
        "    for y in range(img.shape[0]):\n",
        "        for x in range(img.shape[1]):\n",
        "            for c in range(img.shape[2]):\n",
        "                new_img[y,x,c] = np.clip(alpha*img[y,x,c] + beta*i, 0, 255)\n",
        "    symbols.append(new_img)\n",
        "  alphabets.append(file[0])\n",
        "\n",
        "print(len(alphabets))\n",
        "print(len(symbols))\n"
      ],
      "execution_count": 38,
      "outputs": [
        {
          "output_type": "stream",
          "text": [
            "18\n",
            "90\n"
          ],
          "name": "stdout"
        }
      ]
    },
    {
      "cell_type": "code",
      "metadata": {
        "id": "V1HvkXSQNx_K",
        "colab_type": "code",
        "colab": {
          "base_uri": "https://localhost:8080/",
          "height": 50
        },
        "outputId": "2be9033b-2bb4-444b-bf54-d8664b53bc74"
      },
      "source": [
        "one_hot = [[1, 0, 0, 0, 0, 0, 0, 0, 0, 0, 0, 0, 0, 0, 0, 0, 0, 0],\n",
        "           [0, 1, 0, 0, 0, 0, 0, 0, 0, 0, 0, 0, 0, 0, 0, 0, 0, 0],\n",
        "           [0, 0, 1, 0, 0, 0, 0, 0, 0, 0, 0, 0, 0, 0, 0, 0, 0, 0],\n",
        "           [0, 0, 0, 1, 0, 0, 0, 0, 0, 0, 0, 0, 0, 0, 0, 0, 0, 0],\n",
        "           [0, 0, 0, 0, 1, 0, 0, 0, 0, 0, 0, 0, 0, 0, 0, 0, 0, 0],\n",
        "           [0, 0, 0, 0, 0, 1, 0, 0, 0, 0, 0, 0, 0, 0, 0, 0, 0, 0],\n",
        "           [0, 0, 0, 0, 0, 0, 1, 0, 0, 0, 0, 0, 0, 0, 0, 0, 0, 0],\n",
        "           [0, 0, 0, 0, 0, 0, 0, 1, 0, 0, 0, 0, 0, 0, 0, 0, 0, 0],\n",
        "           [0, 0, 0, 0, 0, 0, 0, 0, 1, 0, 0, 0, 0, 0, 0, 0, 0, 0],\n",
        "           [0, 0, 0, 0, 0, 0, 0, 0, 0, 1, 0, 0, 0, 0, 0, 0, 0, 0],\n",
        "           [0, 0, 0, 0, 0, 0, 0, 0, 0, 0, 1, 0, 0, 0, 0, 0, 0, 0],\n",
        "           [0, 0, 0, 0, 0, 0, 0, 0, 0, 0, 0, 1, 0, 0, 0, 0, 0, 0],\n",
        "           [0, 0, 0, 0, 0, 0, 0, 0, 0, 0, 0, 0, 1, 0, 0, 0, 0, 0],\n",
        "           [0, 0, 0, 0, 0, 0, 0, 0, 0, 0, 0, 0, 0, 1, 0, 0, 0, 0],\n",
        "           [0, 0, 0, 0, 0, 0, 0, 0, 0, 0, 0, 0, 0, 0, 1, 0, 0, 0],\n",
        "           [0, 0, 0, 0, 0, 0, 0, 0, 0, 0, 0, 0, 0, 0, 0, 1, 0, 0],\n",
        "           [0, 0, 0, 0, 0, 0, 0, 0, 0, 0, 0, 0, 0, 0, 0, 0, 1, 0],\n",
        "           [0, 0, 0, 0, 0, 0, 0, 0, 0, 0, 0, 0, 0, 0, 0, 0, 0, 1]]\n",
        "\n",
        "data = []\n",
        "label = []\n",
        "\n",
        "\n",
        "for j in range(len(symbols)):\n",
        "    data.append(symbols[j])\n",
        "\n",
        "for j in range(len(alphabets)):\n",
        "  for i in range(5):\n",
        "    label.append(one_hot[j])\n",
        "\n",
        "print(len(label), len(data), len(symbols))\n",
        "\n",
        "for j in range(len(symbols)):\n",
        "  for i in range(-5, 6):\n",
        "    rows, cols = data[j].shape[:2]\n",
        "    M = cv2.getRotationMatrix2D((cols/2, rows/2), 5*i, 1)\n",
        "    res = cv2.warpAffine(data[j], M, (rows, cols))\n",
        "    label.append(label[j])\n",
        "    data.append(res)\n",
        "\n",
        "for i in range(len(data)):\n",
        "  data[i] = cv2.resize(data[i], (pixel, pixel))\n",
        " \n",
        "print(len(label), len(data))\n",
        "num = len(label)\n",
        "#cv2_imshow(data[100])\n"
      ],
      "execution_count": 39,
      "outputs": [
        {
          "output_type": "stream",
          "text": [
            "90 90 90\n",
            "1080 1080\n"
          ],
          "name": "stdout"
        }
      ]
    },
    {
      "cell_type": "code",
      "metadata": {
        "id": "7Rhmv2-lOI1C",
        "colab_type": "code",
        "colab": {
          "base_uri": "https://localhost:8080/",
          "height": 81
        },
        "outputId": "09fa594c-64db-431d-f456-47b40f65f5fe"
      },
      "source": [
        "cv2_imshow(data[900])"
      ],
      "execution_count": 43,
      "outputs": [
        {
          "output_type": "display_data",
          "data": {
            "image/png": "[encoded data removed]",
            "text/plain": [
              "<PIL.Image.Image image mode=RGB size=64x64 at 0x7FA52C475F28>"
            ]
          },
          "metadata": {
            "tags": []
          }
        }
      ]
    },
    {
      "cell_type": "code",
      "metadata": {
        "id": "OnBuFAidjyGS",
        "colab_type": "code",
        "colab": {
          "base_uri": "https://localhost:8080/",
          "height": 50
        },
        "outputId": "06305267-f1d3-4dd2-8619-66a3047bda94"
      },
      "source": [
        "for j in range(num):\n",
        "  res_img = cv2.GaussianBlur(data[j], (3, 3), 0)\n",
        "  data.append(res_img)\n",
        "  label.append(label[j])\n",
        "#cv2_imshow(data[150])\n",
        "#print(len(label), len(data))\n",
        "\n",
        "#for j in range(num):\n",
        "  res_img = cv2.medianBlur(data[j], 5)\n",
        "  data.append(res_img)\n",
        "  label.append(label[j])\n",
        "#cv2_imshow(data[250])\n",
        "#print(len(label), len(data))\n",
        "\n",
        "#for j in range(num):\n",
        "  res_img = cv2.bilateralFilter(data[j], 11, 200, 200)\n",
        "  data.append(res_img)\n",
        "  label.append(label[j])\n",
        "#cv2_imshow(data[360])\n",
        "#print(len(label), len(data))\n",
        "#print(len(alphabets))\n",
        "\n",
        "#for j in range(num):\n",
        "  res_img = cv2.erode(data[j], np.ones((3,3)), iterations = 1)\n",
        "  data.append(res_img)\n",
        "  label.append(label[j])\n",
        "#print(len(label), len(data))\n",
        "#cv2_imshow(data[480])\n",
        "#print(len(alphabets))\n",
        "\n",
        "#for j in range(num):\n",
        "  res_img = cv2.dilate(data[j], np.ones((3, 3), np.uint8), iterations = 1)\n",
        "  data.append(res_img)\n",
        "  label.append(label[j])\n",
        "#cv2_imshow(data[600])\n",
        "#print(len(label), len(data))\n",
        "#print(len(alphabets))\n",
        "\n",
        "images = np.array(data).reshape(-1, pixel, pixel, 3)\n",
        "print(images.shape)\n",
        "y = np.array(label)\n",
        "print(y.shape)\n"
      ],
      "execution_count": 44,
      "outputs": [
        {
          "output_type": "stream",
          "text": [
            "(6480, 64, 64, 3)\n",
            "(6480, 18)\n"
          ],
          "name": "stdout"
        }
      ]
    },
    {
      "cell_type": "code",
      "metadata": {
        "id": "CFDVlfpPMCtK",
        "colab_type": "code",
        "colab": {
          "base_uri": "https://localhost:8080/",
          "height": 81
        },
        "outputId": "67bd1db1-19f0-430a-8946-b486fbfe8a01"
      },
      "source": [
        "cv2_imshow(data[5000])"
      ],
      "execution_count": 46,
      "outputs": [
        {
          "output_type": "display_data",
          "data": {
            "image/png": "[encoded data removed]",
            "text/plain": [
              "<PIL.Image.Image image mode=RGB size=64x64 at 0x7FA52C4B0860>"
            ]
          },
          "metadata": {
            "tags": []
          }
        }
      ]
    },
    {
      "cell_type": "code",
      "metadata": {
        "id": "zt702m9OB1Mu",
        "colab_type": "code",
        "colab": {}
      },
      "source": [
        "def res_identity(x, filters):\n",
        "  x_skip = x\n",
        "  f1, f2 = filters\n",
        "  \n",
        "  #first block \n",
        "  x = Conv2D(f1, kernel_size=(1, 1), strides=(1, 1), padding='valid', kernel_regularizer=regularizers.l2(0.001))(x)\n",
        "  x = BatchNormalization()(x)\n",
        "  x = Activation('relu')(x)\n",
        "\n",
        "  #second block # bottleneck (but size kept same with padding)\n",
        "  x = Conv2D(f1, kernel_size=(3, 3), strides=(1, 1), padding='same', kernel_regularizer=regularizers.l2(0.001))(x)\n",
        "  x = BatchNormalization()(x)\n",
        "  x = Activation('relu')(x)\n",
        "\n",
        "  # third block activation used after adding the input\n",
        "  x = Conv2D(f2, kernel_size=(1, 1), strides=(1, 1), padding='valid', kernel_regularizer=regularizers.l2(0.001))(x)\n",
        "  x = BatchNormalization()(x)\n",
        "  # x = Activation('relu')(x)\n",
        "\n",
        "  # add the input \n",
        "  x = Add()([x, x_skip])\n",
        "  x = Activation('relu')(x)\n",
        "\n",
        "  return x"
      ],
      "execution_count": 47,
      "outputs": []
    },
    {
      "cell_type": "code",
      "metadata": {
        "id": "s3brIcO5CXpB",
        "colab_type": "code",
        "colab": {}
      },
      "source": [
        "def res_conv(x, s, filters):\n",
        "  '''\n",
        "  here the input size changes''' \n",
        "  x_skip = x\n",
        "  f1, f2 = filters\n",
        "\n",
        "  # first block\n",
        "  x = Conv2D(f1, kernel_size=(1, 1), strides=(s, s), padding='valid', kernel_regularizer=regularizers.l2(0.001))(x)\n",
        "  # when s = 2 then it is like downsizing the feature map\n",
        "  x = BatchNormalization()(x)\n",
        "  x = Activation('relu')(x)\n",
        "\n",
        "  # second block\n",
        "  x = Conv2D(f1, kernel_size=(3, 3), strides=(1, 1), padding='same', kernel_regularizer=regularizers.l2(0.001))(x)\n",
        "  x = BatchNormalization()(x)\n",
        "  x = Activation('relu')(x)\n",
        "\n",
        "  #third block\n",
        "  x = Conv2D(f2, kernel_size=(1, 1), strides=(1, 1), padding='valid', kernel_regularizer=regularizers.l2(0.001))(x)\n",
        "  x = BatchNormalization()(x)\n",
        "\n",
        "  # shortcut \n",
        "  x_skip = Conv2D(f2, kernel_size=(1, 1), strides=(s, s), padding='valid', kernel_regularizer=regularizers.l2(0.001))(x_skip)\n",
        "  x_skip = BatchNormalization()(x_skip)\n",
        "\n",
        "  # add \n",
        "  x = Add()([x, x_skip])\n",
        "  x = Activation('relu')(x)\n",
        "\n",
        "  return x"
      ],
      "execution_count": 48,
      "outputs": []
    },
    {
      "cell_type": "code",
      "metadata": {
        "id": "wzkTIFkVCh9O",
        "colab_type": "code",
        "colab": {}
      },
      "source": [
        "def resnet50(input_shape = (pixel, pixel, 3), classes = len(alphabets)):\n",
        "\n",
        "  input_im = Input(input_shape) \n",
        "  x = ZeroPadding2D(padding=(3, 3))(input_im)\n",
        "\n",
        "  # 1st stage\n",
        "  # here we perform maxpooling, see the figure above\n",
        "\n",
        "  x = Conv2D(64, kernel_size=(7, 7), strides=(2, 2))(x)\n",
        "  x = BatchNormalization()(x)\n",
        "  x = Activation('relu')(x)\n",
        "  x = MaxPooling2D((3, 3), strides=(2, 2))(x)\n",
        "\n",
        "  #2nd stage \n",
        "  # frm here on only conv block and identity block, no pooling\n",
        "\n",
        "  x = res_conv(x, s=1, filters=(64, 256))\n",
        "  x = res_identity(x, filters=(64, 256))\n",
        "  x = res_identity(x, filters=(64, 256))\n",
        "\n",
        "  # 3rd stage\n",
        "\n",
        "  x = res_conv(x, s=2, filters=(128, 512))\n",
        "  x = res_identity(x, filters=(128, 512))\n",
        "  x = res_identity(x, filters=(128, 512))\n",
        "  x = res_identity(x, filters=(128, 512))\n",
        "\n",
        "  # 4th stage\n",
        "\n",
        "  x = res_conv(x, s=2, filters=(256, 1024))\n",
        "  x = res_identity(x, filters=(256, 1024))\n",
        "  x = res_identity(x, filters=(256, 1024))\n",
        "  x = res_identity(x, filters=(256, 1024))\n",
        "  x = res_identity(x, filters=(256, 1024))\n",
        "  x = res_identity(x, filters=(256, 1024))\n",
        "\n",
        "  # 5th stage\n",
        "\n",
        "  x = res_conv(x, s=2, filters=(512, 2048))\n",
        "  x = res_identity(x, filters=(512, 2048))\n",
        "  x = res_identity(x, filters=(512, 2048))\n",
        "\n",
        "  # ends with average pooling and dense connection\n",
        "\n",
        "  x = AveragePooling2D((2, 2), padding='same')(x)\n",
        "\n",
        "  x = Flatten()(x)\n",
        "  x = Dense(len(alphabets), activation='softmax', kernel_initializer='he_normal')(x) #multi-class\n",
        "\n",
        "  # define the model \n",
        "\n",
        "  model = Model(inputs=input_im, outputs=x, name='Resnet50')\n",
        "\n",
        "  return model"
      ],
      "execution_count": 49,
      "outputs": []
    },
    {
      "cell_type": "code",
      "metadata": {
        "id": "Ll1shnW7rfBY",
        "colab_type": "code",
        "colab": {
          "base_uri": "https://localhost:8080/",
          "height": 1000
        },
        "outputId": "4fd91397-7521-45f8-a819-a93e3ca17491"
      },
      "source": [
        "model = resnet50()\n",
        "\n",
        "model.compile(optimizer='adam', loss='categorical_crossentropy', metrics=['accuracy'])\n",
        "\n",
        "from sklearn.model_selection import train_test_split\n",
        "\n",
        "X_train, X_test, y_train, y_test = train_test_split(images, y, test_size=0.2)\n",
        "\n",
        "history = model.fit(X_train, y_train, epochs = 40, batch_size = 100, validation_data = (X_test, y_test))"
      ],
      "execution_count": 50,
      "outputs": [
        {
          "output_type": "stream",
          "text": [
            "Epoch 1/40\n",
            "52/52 [==============================] - 8s 151ms/step - loss: 19.9019 - accuracy: 0.6182 - val_loss: 20.7503 - val_accuracy: 0.2894\n",
            "Epoch 2/40\n",
            "52/52 [==============================] - 6s 110ms/step - loss: 15.9784 - accuracy: 0.9963 - val_loss: 15.6022 - val_accuracy: 0.6829\n",
            "Epoch 3/40\n",
            "52/52 [==============================] - 6s 111ms/step - loss: 13.4013 - accuracy: 0.9969 - val_loss: 13.7657 - val_accuracy: 0.5031\n",
            "Epoch 4/40\n",
            "52/52 [==============================] - 6s 111ms/step - loss: 11.3984 - accuracy: 0.9593 - val_loss: 39.7265 - val_accuracy: 0.2006\n",
            "Epoch 5/40\n",
            "52/52 [==============================] - 6s 111ms/step - loss: 9.6282 - accuracy: 0.9969 - val_loss: 8.8169 - val_accuracy: 0.9869\n",
            "Epoch 6/40\n",
            "52/52 [==============================] - 6s 111ms/step - loss: 8.0431 - accuracy: 0.9977 - val_loss: 7.5497 - val_accuracy: 0.9360\n",
            "Epoch 7/40\n",
            "52/52 [==============================] - 6s 112ms/step - loss: 6.8139 - accuracy: 0.9929 - val_loss: 6.5402 - val_accuracy: 0.8927\n",
            "Epoch 8/40\n",
            "52/52 [==============================] - 6s 112ms/step - loss: 5.7625 - accuracy: 0.9973 - val_loss: 6.0481 - val_accuracy: 0.8048\n",
            "Epoch 9/40\n",
            "52/52 [==============================] - 6s 113ms/step - loss: 4.9902 - accuracy: 0.9907 - val_loss: 4.8541 - val_accuracy: 0.9105\n",
            "Epoch 10/40\n",
            "52/52 [==============================] - 6s 113ms/step - loss: 4.3857 - accuracy: 0.9902 - val_loss: 7.5380 - val_accuracy: 0.5139\n",
            "Epoch 11/40\n",
            "52/52 [==============================] - 6s 113ms/step - loss: 4.6968 - accuracy: 0.9649 - val_loss: 53.8211 - val_accuracy: 0.1150\n",
            "Epoch 12/40\n",
            "52/52 [==============================] - 6s 113ms/step - loss: 4.3015 - accuracy: 0.9890 - val_loss: 20.7830 - val_accuracy: 0.1821\n",
            "Epoch 13/40\n",
            "52/52 [==============================] - 6s 114ms/step - loss: 3.7327 - accuracy: 0.9936 - val_loss: 3.4939 - val_accuracy: 0.9699\n",
            "Epoch 14/40\n",
            "52/52 [==============================] - 6s 114ms/step - loss: 3.1995 - accuracy: 0.9961 - val_loss: 3.3578 - val_accuracy: 0.9035\n",
            "Epoch 15/40\n",
            "52/52 [==============================] - 6s 114ms/step - loss: 2.7529 - accuracy: 0.9998 - val_loss: 3.6381 - val_accuracy: 0.6790\n",
            "Epoch 16/40\n",
            "52/52 [==============================] - 6s 114ms/step - loss: 2.3963 - accuracy: 1.0000 - val_loss: 4.7671 - val_accuracy: 0.2816\n",
            "Epoch 17/40\n",
            "52/52 [==============================] - 6s 115ms/step - loss: 2.1144 - accuracy: 1.0000 - val_loss: 5.8365 - val_accuracy: 0.1420\n",
            "Epoch 18/40\n",
            "52/52 [==============================] - 6s 115ms/step - loss: 1.8847 - accuracy: 1.0000 - val_loss: 6.4195 - val_accuracy: 0.1049\n",
            "Epoch 19/40\n",
            "52/52 [==============================] - 6s 115ms/step - loss: 1.6929 - accuracy: 1.0000 - val_loss: 6.6789 - val_accuracy: 0.0656\n",
            "Epoch 20/40\n",
            "52/52 [==============================] - 6s 115ms/step - loss: 1.5299 - accuracy: 1.0000 - val_loss: 6.6057 - val_accuracy: 0.0656\n",
            "Epoch 21/40\n",
            "52/52 [==============================] - 6s 116ms/step - loss: 2.2926 - accuracy: 0.9255 - val_loss: 1795915392.0000 - val_accuracy: 0.0509\n",
            "Epoch 22/40\n",
            "52/52 [==============================] - 6s 116ms/step - loss: 5.3956 - accuracy: 0.9923 - val_loss: 1289.7054 - val_accuracy: 0.0579\n",
            "Epoch 23/40\n",
            "52/52 [==============================] - 6s 116ms/step - loss: 3.9891 - accuracy: 0.9956 - val_loss: 13.6391 - val_accuracy: 0.5247\n",
            "Epoch 24/40\n",
            "52/52 [==============================] - 6s 116ms/step - loss: 2.9542 - accuracy: 0.9994 - val_loss: 2.8527 - val_accuracy: 0.9383\n",
            "Epoch 25/40\n",
            "52/52 [==============================] - 6s 116ms/step - loss: 2.2795 - accuracy: 1.0000 - val_loss: 4.5118 - val_accuracy: 0.2361\n",
            "Epoch 26/40\n",
            "52/52 [==============================] - 6s 116ms/step - loss: 1.8276 - accuracy: 1.0000 - val_loss: 6.1463 - val_accuracy: 0.1682\n",
            "Epoch 27/40\n",
            "52/52 [==============================] - 6s 117ms/step - loss: 1.5107 - accuracy: 1.0000 - val_loss: 6.9927 - val_accuracy: 0.1335\n",
            "Epoch 28/40\n",
            "52/52 [==============================] - 6s 117ms/step - loss: 1.2790 - accuracy: 1.0000 - val_loss: 7.1205 - val_accuracy: 0.1204\n",
            "Epoch 29/40\n",
            "52/52 [==============================] - 6s 117ms/step - loss: 1.7756 - accuracy: 0.9514 - val_loss: 511.6756 - val_accuracy: 0.0748\n",
            "Epoch 30/40\n",
            "52/52 [==============================] - 6s 117ms/step - loss: 2.1138 - accuracy: 0.9952 - val_loss: 2.7758 - val_accuracy: 0.8032\n",
            "Epoch 31/40\n",
            "52/52 [==============================] - 6s 118ms/step - loss: 1.4825 - accuracy: 1.0000 - val_loss: 1.4011 - val_accuracy: 0.9784\n",
            "Epoch 32/40\n",
            "52/52 [==============================] - 6s 118ms/step - loss: 1.1327 - accuracy: 1.0000 - val_loss: 2.8682 - val_accuracy: 0.3951\n",
            "Epoch 33/40\n",
            "52/52 [==============================] - 6s 118ms/step - loss: 0.9197 - accuracy: 1.0000 - val_loss: 4.1578 - val_accuracy: 0.2307\n",
            "Epoch 34/40\n",
            "52/52 [==============================] - 6s 118ms/step - loss: 0.7766 - accuracy: 1.0000 - val_loss: 4.8358 - val_accuracy: 0.1690\n",
            "Epoch 35/40\n",
            "52/52 [==============================] - 6s 118ms/step - loss: 0.6734 - accuracy: 1.0000 - val_loss: 5.1605 - val_accuracy: 0.1574\n",
            "Epoch 36/40\n",
            "52/52 [==============================] - 6s 118ms/step - loss: 0.5952 - accuracy: 1.0000 - val_loss: 5.2702 - val_accuracy: 0.1551\n",
            "Epoch 37/40\n",
            "52/52 [==============================] - 6s 118ms/step - loss: 1.3180 - accuracy: 0.9124 - val_loss: 158263607296.0000 - val_accuracy: 0.0509\n",
            "Epoch 38/40\n",
            "52/52 [==============================] - 6s 118ms/step - loss: 8.6687 - accuracy: 0.7332 - val_loss: 11440.1016 - val_accuracy: 0.0509\n",
            "Epoch 39/40\n",
            "52/52 [==============================] - 6s 118ms/step - loss: 6.2522 - accuracy: 0.9986 - val_loss: 8.3315 - val_accuracy: 0.4907\n",
            "Epoch 40/40\n",
            "52/52 [==============================] - 6s 118ms/step - loss: 4.3276 - accuracy: 1.0000 - val_loss: 3.7456 - val_accuracy: 0.9799\n"
          ],
          "name": "stdout"
        }
      ]
    },
    {
      "cell_type": "code",
      "metadata": {
        "id": "Q2aE3s_Fpb5n",
        "colab_type": "code",
        "colab": {
          "base_uri": "https://localhost:8080/",
          "height": 562
        },
        "outputId": "93d90323-e320-4e8a-f6b8-15f7299f3b29"
      },
      "source": [
        "test = []\n",
        "n = 0\n",
        "t = 0\n",
        "img_path = '/content/drive/My Drive/A'\n",
        "for file in os.listdir(img_path):\n",
        "  img = cv2.imread(os.path.join(img_path, file))\n",
        "  #img = cv2.cvtColor(img, cv2.COLOR_BGR2GRAY)\n",
        "  #blur = cv2.GaussianBlur(img,(5,5),0)\n",
        "  #ret3,th3 = cv2.threshold(img, 0, 255, cv2.THRESH_BINARY+cv2.THRESH_OTSU)\n",
        "  #cv2_imshow(th3)\n",
        "  img = cv2.resize(img, (pixel, pixel))\n",
        "  img = np.array(img).reshape(1, pixel, pixel, 3)\n",
        "  #cv2_imshow(th3)\n",
        " # print(th3.shape)\n",
        "  #probability_model = Sequential([model])\n",
        "  predictions = model.predict(img)\n",
        "  #print(len(predictions))\n",
        "  #for i in range(len(predictions)):\n",
        "  t+=1\n",
        "  x = alphabets[np.argmax(predictions[0])]\n",
        "  if x != 'A':\n",
        "      #cv2_imshow(blur)\n",
        "    cv2_imshow(img.reshape(pixel, pixel, 3))\n",
        "      #cv2_imshow(th3.reshape(64, 64, 3))\n",
        "    n+=1\n",
        "\n",
        "print(n)\n",
        "print(t)"
      ],
      "execution_count": 51,
      "outputs": [
        {
          "output_type": "display_data",
          "data": {
            "image/png": "[encoded data removed]",
            "text/plain": [
              "<PIL.Image.Image image mode=RGB size=64x64 at 0x7FA4C824DF60>"
            ]
          },
          "metadata": {
            "tags": []
          }
        },
        {
          "output_type": "display_data",
          "data": {
            "image/png": "[encoded data removed]",
            "text/plain": [
              "<PIL.Image.Image image mode=RGB size=64x64 at 0x7FA4C824DF28>"
            ]
          },
          "metadata": {
            "tags": []
          }
        },
        {
          "output_type": "display_data",
          "data": {
            "image/png": "[encoded data removed]",
            "text/plain": [
              "<PIL.Image.Image image mode=RGB size=64x64 at 0x7FA4C8265F98>"
            ]
          },
          "metadata": {
            "tags": []
          }
        },
        {
          "output_type": "display_data",
          "data": {
            "image/png": "[encoded data removed]",
            "text/plain": [
              "<PIL.Image.Image image mode=RGB size=64x64 at 0x7FA4C8300208>"
            ]
          },
          "metadata": {
            "tags": []
          }
        },
        {
          "output_type": "display_data",
          "data": {
            "image/png": "[encoded data removed]",
            "text/plain": [
              "<PIL.Image.Image image mode=RGB size=64x64 at 0x7FA4C81FF0F0>"
            ]
          },
          "metadata": {
            "tags": []
          }
        },
        {
          "output_type": "display_data",
          "data": {
            "image/png": "[encoded data removed]",
            "text/plain": [
              "<PIL.Image.Image image mode=RGB size=64x64 at 0x7FA4C8305A90>"
            ]
          },
          "metadata": {
            "tags": []
          }
        },
        {
          "output_type": "display_data",
          "data": {
            "image/png": "[encoded data removed]",
            "text/plain": [
              "<PIL.Image.Image image mode=RGB size=64x64 at 0x7FA4C8362048>"
            ]
          },
          "metadata": {
            "tags": []
          }
        },
        {
          "output_type": "display_data",
          "data": {
            "image/png": "[encoded data removed]",
            "text/plain": [
              "<PIL.Image.Image image mode=RGB size=64x64 at 0x7FA4C8361CC0>"
            ]
          },
          "metadata": {
            "tags": []
          }
        },
        {
          "output_type": "stream",
          "text": [
            "8\n",
            "52\n"
          ],
          "name": "stdout"
        }
      ]
    },
    {
      "cell_type": "code",
      "metadata": {
        "id": "FU0MFccE8adj",
        "colab_type": "code",
        "colab": {
          "base_uri": "https://localhost:8080/",
          "height": 242
        },
        "outputId": "d98a4360-99b4-4561-d38b-1ca39cee836d"
      },
      "source": [
        "n = 0\n",
        "t = 0\n",
        "img_path = '/content/drive/My Drive/B'\n",
        "for file in os.listdir(img_path):\n",
        "  img = cv2.imread(os.path.join(img_path, file))\n",
        "  img = cv2.resize(img, (pixel, pixel))\n",
        "  img = np.array(img).reshape(1, pixel, pixel, 3)\n",
        "  predictions = model.predict(img)\n",
        "  t+=1\n",
        "  x = alphabets[np.argmax(predictions[0])]\n",
        "  if x != 'B':\n",
        "    #print(alphabets[np.argmax(predictions)])\n",
        "    #print(max(predictions[0]))\n",
        "    cv2_imshow(img.reshape(pixel, pixel, 3))\n",
        "    n+=1\n",
        "\n",
        "print(n)\n",
        "print(t)"
      ],
      "execution_count": 52,
      "outputs": [
        {
          "output_type": "display_data",
          "data": {
            "image/png": "[encoded data removed]",
            "text/plain": [
              "<PIL.Image.Image image mode=RGB size=64x64 at 0x7FA4C8185CC0>"
            ]
          },
          "metadata": {
            "tags": []
          }
        },
        {
          "output_type": "display_data",
          "data": {
            "image/png": "[encoded data removed]",
            "text/plain": [
              "<PIL.Image.Image image mode=RGB size=64x64 at 0x7FA4C8185C50>"
            ]
          },
          "metadata": {
            "tags": []
          }
        },
        {
          "output_type": "display_data",
          "data": {
            "image/png": "[encoded data removed]",
            "text/plain": [
              "<PIL.Image.Image image mode=RGB size=64x64 at 0x7FA4C83457F0>"
            ]
          },
          "metadata": {
            "tags": []
          }
        },
        {
          "output_type": "stream",
          "text": [
            "3\n",
            "91\n"
          ],
          "name": "stdout"
        }
      ]
    },
    {
      "cell_type": "code",
      "metadata": {
        "id": "YPozMx8sTiHs",
        "colab_type": "code",
        "colab": {
          "base_uri": "https://localhost:8080/",
          "height": 946
        },
        "outputId": "b874cc56-410f-401b-ada4-74262794c205"
      },
      "source": [
        "test = []\n",
        "n = 0\n",
        "t = 0\n",
        "img_path = '/content/drive/My Drive/Y'\n",
        "for file in os.listdir(img_path):\n",
        "  img = cv2.imread(os.path.join(img_path, file))\n",
        "  img = cv2.resize(img, (pixel, pixel))\n",
        "  img = np.array(img).reshape(1, pixel, pixel, 3)\n",
        "  predictions = model.predict(img)\n",
        "  t+=1\n",
        "  x = alphabets[np.argmax(predictions[0])]\n",
        "  if x != 'Y':\n",
        "    #print(alphabets[np.argmax(predictions)])\n",
        "    #print(max(predictions[0]))\n",
        "    cv2_imshow(img.reshape(pixel, pixel, 3))\n",
        "    n+=1\n",
        "\n",
        "print(n)\n",
        "print(t)"
      ],
      "execution_count": 53,
      "outputs": [
        {
          "output_type": "display_data",
          "data": {
            "image/png": "[encoded data removed]",
            "text/plain": [
              "<PIL.Image.Image image mode=RGB size=64x64 at 0x7FA4C81B3550>"
            ]
          },
          "metadata": {
            "tags": []
          }
        },
        {
          "output_type": "display_data",
          "data": {
            "image/png": "[encoded data removed]",
            "text/plain": [
              "<PIL.Image.Image image mode=RGB size=64x64 at 0x7FA4C80FD390>"
            ]
          },
          "metadata": {
            "tags": []
          }
        },
        {
          "output_type": "display_data",
          "data": {
            "image/png": "[encoded data removed]",
            "text/plain": [
              "<PIL.Image.Image image mode=RGB size=64x64 at 0x7FA4C80A27F0>"
            ]
          },
          "metadata": {
            "tags": []
          }
        },
        {
          "output_type": "display_data",
          "data": {
            "image/png": "[encoded data removed]",
            "text/plain": [
              "<PIL.Image.Image image mode=RGB size=64x64 at 0x7FA4C8055D68>"
            ]
          },
          "metadata": {
            "tags": []
          }
        },
        {
          "output_type": "display_data",
          "data": {
            "image/png": "[encoded data removed]",
            "text/plain": [
              "<PIL.Image.Image image mode=RGB size=64x64 at 0x7FA4C8055D68>"
            ]
          },
          "metadata": {
            "tags": []
          }
        },
        {
          "output_type": "display_data",
          "data": {
            "image/png": "[encoded data removed]",
            "text/plain": [
              "<PIL.Image.Image image mode=RGB size=64x64 at 0x7FA4C80FD0F0>"
            ]
          },
          "metadata": {
            "tags": []
          }
        },
        {
          "output_type": "display_data",
          "data": {
            "image/png": "[encoded data removed]",
            "text/plain": [
              "<PIL.Image.Image image mode=RGB size=64x64 at 0x7FA4C8118978>"
            ]
          },
          "metadata": {
            "tags": []
          }
        },
        {
          "output_type": "display_data",
          "data": {
            "image/png": "[encoded data removed]",
            "text/plain": [
              "<PIL.Image.Image image mode=RGB size=64x64 at 0x7FA4C8118C50>"
            ]
          },
          "metadata": {
            "tags": []
          }
        },
        {
          "output_type": "display_data",
          "data": {
            "image/png": "[encoded data removed]",
            "text/plain": [
              "<PIL.Image.Image image mode=RGB size=64x64 at 0x7FA4C8295D30>"
            ]
          },
          "metadata": {
            "tags": []
          }
        },
        {
          "output_type": "display_data",
          "data": {
            "image/png": "[encoded data removed]",
            "text/plain": [
              "<PIL.Image.Image image mode=RGB size=64x64 at 0x7FA4C823CC88>"
            ]
          },
          "metadata": {
            "tags": []
          }
        },
        {
          "output_type": "display_data",
          "data": {
            "image/png": "[encoded data removed]",
            "text/plain": [
              "<PIL.Image.Image image mode=RGB size=64x64 at 0x7FA4C823C400>"
            ]
          },
          "metadata": {
            "tags": []
          }
        },
        {
          "output_type": "display_data",
          "data": {
            "image/png": "[encoded data removed]",
            "text/plain": [
              "<PIL.Image.Image image mode=RGB size=64x64 at 0x7FA4C8118C50>"
            ]
          },
          "metadata": {
            "tags": []
          }
        },
        {
          "output_type": "display_data",
          "data": {
            "image/png": "[encoded data removed]",
            "text/plain": [
              "<PIL.Image.Image image mode=RGB size=64x64 at 0x7FA4C82FBD30>"
            ]
          },
          "metadata": {
            "tags": []
          }
        },
        {
          "output_type": "display_data",
          "data": {
            "image/png": "[encoded data removed]",
            "text/plain": [
              "<PIL.Image.Image image mode=RGB size=64x64 at 0x7FA4C82FBD30>"
            ]
          },
          "metadata": {
            "tags": []
          }
        },
        {
          "output_type": "stream",
          "text": [
            "14\n",
            "25\n"
          ],
          "name": "stdout"
        }
      ]
    },
    {
      "cell_type": "code",
      "metadata": {
        "id": "gDsZqAMH9TAs",
        "colab_type": "code",
        "colab": {
          "base_uri": "https://localhost:8080/",
          "height": 50
        },
        "outputId": "bcd181fb-0117-4bbd-a02c-b520057d85dc"
      },
      "source": [
        "n = 0\n",
        "t = 0\n",
        "img_path = '/content/drive/My Drive/Letters/Y.jpg'\n",
        "img = cv2.imread(img_path)\n",
        "img = cv2.resize(img, (pixel, pixel))\n",
        "img = np.array(img).reshape(1, pixel, pixel, 3)\n",
        "predictions = model.predict(img)\n",
        "print(alphabets[np.argmax(predictions[0])])\n",
        "print(max(predictions[0]))"
      ],
      "execution_count": 73,
      "outputs": [
        {
          "output_type": "stream",
          "text": [
            "B\n",
            "0.61458695\n"
          ],
          "name": "stdout"
        }
      ]
    },
    {
      "cell_type": "code",
      "metadata": {
        "id": "QnDSIW6FduZl",
        "colab_type": "code",
        "colab": {
          "base_uri": "https://localhost:8080/",
          "height": 120
        },
        "outputId": "a2cbed72-563d-46bc-f45b-f4279c47bc5b"
      },
      "source": [
        "\"\"\"\"\"\"\n",
        "\n",
        "\"\"\"X_train = X_train.astype('float32')\n",
        "X_test = X_test.astype('float32')\n",
        "X_train = X_train / 255.0\n",
        "X_test = X_test / 255.0\"\"\"\n",
        "\"\"\"print(X_train.shape)\n",
        "model = Sequential()\n",
        "\n",
        "model.add(Conv2D(64, (3, 3), input_shape=(pixel, pixel, 3), activation='relu', padding = 'same'))\n",
        "\n",
        "model.add(Dropout(0.2))\n",
        "\n",
        "model.add(BatchNormalization())\n",
        "\n",
        "model.add(Conv2D(128, (3,3), activation='relu', padding='same'))\n",
        "model.add(MaxPooling2D(pool_size=(2,2)))\n",
        "model.add(Dropout(0.2))\n",
        "model.add(BatchNormalization())\n",
        "\n",
        "model.add(Conv2D(128, (3, 3), padding='same'))\n",
        "model.add(Activation('relu'))\n",
        "model.add(MaxPooling2D(pool_size=(2, 2)))\n",
        "model.add(Dropout(0.2))\n",
        "model.add(BatchNormalization())\n",
        "    \n",
        "model.add(Conv2D(256, (3, 3), activation='relu', padding='same'))\n",
        "model.add(Dropout(0.2))\n",
        "model.add(BatchNormalization())\n",
        "\n",
        "model.add(Conv2D(256, (3, 3), activation='relu', padding='same'))\n",
        "model.add(Dropout(0.2))\n",
        "model.add(BatchNormalization())\n",
        "\n",
        "model.add(Conv2D(512, (3, 3), activation='relu', padding='same'))\n",
        "model.add(Dropout(0.2))\n",
        "model.add(BatchNormalization())\n",
        "\n",
        "model.add(Conv2D(512, (3, 3), activation='relu', padding='same'))\n",
        "model.add(Dropout(0.2))\n",
        "model.add(BatchNormalization())\n",
        "\n",
        "model.add(Conv2D(1024, (3, 3), activation='relu', padding='same'))\n",
        "model.add(Dropout(0.2))\n",
        "model.add(BatchNormalization())\n",
        "\n",
        "model.add(Conv2D(1024, (3, 3), activation='relu', padding='same'))\n",
        "model.add(Dropout(0.2))\n",
        "model.add(BatchNormalization())\n",
        "\n",
        "model.add(Flatten())\n",
        "model.add(Dropout(0.2))\n",
        "\n",
        "model.add(Dense(2048, kernel_constraint=maxnorm(3)))\n",
        "model.add(Activation('relu'))\n",
        "model.add(Dropout(0.2))\n",
        "model.add(BatchNormalization())\n",
        "    \n",
        "model.add(Dense(1024, kernel_constraint=maxnorm(3)))\n",
        "model.add(Activation('relu'))\n",
        "model.add(Dropout(0.2))\n",
        "model.add(BatchNormalization())\n",
        "\n",
        "model.add(Dense(18))\n",
        "model.add(Activation('softmax'))\n",
        "\n",
        "epochs = 100\n",
        "optimizer='adam'\n",
        "\n",
        "model.compile(loss='categorical_crossentropy', optimizer=optimizer, metrics=['accuracy'])\n",
        "\n",
        "seed = 21\n",
        "np.random.seed(seed)\n",
        "model.fit(X_train, y_train, validation_data=(X_test, y_test), epochs=epochs)\"\"\"\n",
        "\n",
        "\"\"\"epochs = 60\n",
        "model = Sequential()\n",
        "model.add(tf.keras.layers.Conv2D(156, (5, 5), padding='same', activation=tf.nn.relu, input_shape=(64, 64, 3)))\n",
        "model.add(tf.keras.layers.MaxPooling2D((2,2), strides = 2))\n",
        "\n",
        "model.add(tf.keras.layers.Conv2D(156, (5, 5), padding='same', activation=tf.nn.relu))\n",
        "model.add(tf.keras.layers.MaxPooling2D((2,2), strides = 2))\n",
        "\n",
        "model.add(tf.keras.layers.Conv2D(156, (5, 5), padding='same', activation=tf.nn.relu))\n",
        "model.add(tf.keras.layers.MaxPooling2D((2,2), strides = 2))\n",
        "\n",
        "model.add(tf.keras.layers.Conv2D(296, (3, 3), padding='same', activation=tf.nn.relu))\n",
        "model.add(tf.keras.layers.MaxPooling2D((2,2), strides = 2))\n",
        "\n",
        "model.add(tf.keras.layers.Conv2D(296, (3, 3), padding='same', activation=tf.nn.relu))\n",
        "model.add(tf.keras.layers.MaxPooling2D((2,2), strides = 2))\n",
        "\n",
        "model.add(tf.keras.layers.Flatten())\n",
        "\n",
        "model.add(tf.keras.layers.Dense(128, activation=tf.nn.relu))\n",
        "\n",
        "model.add(tf.keras.layers.Dense(18, activation=tf.nn.softmax))\n",
        "\n",
        "model.compile(optimizer='adam', loss=tf.keras.losses.CategoricalCrossentropy(), metrics = ['accuracy'])\n",
        "\n",
        "model.fit(X_train, y_train, epochs = epochs, batch_size=64, validation_data=(X_test, y_test))\n",
        "\"\"\""
      ],
      "execution_count": 15,
      "outputs": [
        {
          "output_type": "execute_result",
          "data": {
            "application/vnd.google.colaboratory.intrinsic+json": {
              "type": "string"
            },
            "text/plain": [
              "\"epochs = 60\\nmodel = Sequential()\\nmodel.add(tf.keras.layers.Conv2D(156, (5, 5), padding='same', activation=tf.nn.relu, input_shape=(64, 64, 3)))\\nmodel.add(tf.keras.layers.MaxPooling2D((2,2), strides = 2))\\n\\nmodel.add(tf.keras.layers.Conv2D(156, (5, 5), padding='same', activation=tf.nn.relu))\\nmodel.add(tf.keras.layers.MaxPooling2D((2,2), strides = 2))\\n\\nmodel.add(tf.keras.layers.Conv2D(156, (5, 5), padding='same', activation=tf.nn.relu))\\nmodel.add(tf.keras.layers.MaxPooling2D((2,2), strides = 2))\\n\\nmodel.add(tf.keras.layers.Conv2D(296, (3, 3), padding='same', activation=tf.nn.relu))\\nmodel.add(tf.keras.layers.MaxPooling2D((2,2), strides = 2))\\n\\nmodel.add(tf.keras.layers.Conv2D(296, (3, 3), padding='same', activation=tf.nn.relu))\\nmodel.add(tf.keras.layers.MaxPooling2D((2,2), strides = 2))\\n\\nmodel.add(tf.keras.layers.Flatten())\\n\\nmodel.add(tf.keras.layers.Dense(128, activation=tf.nn.relu))\\n\\nmodel.add(tf.keras.layers.Dense(18, activation=tf.nn.softmax))\\n\\nmodel.compile(optimizer='adam', loss=tf.keras.losses.CategoricalCrossentropy(), metrics = ['accuracy'])\\n\\nmodel.fit(X_train, y_train, epochs = epochs, batch_size=64, validation_data=(X_test, y_test))\\n\""
            ]
          },
          "metadata": {
            "tags": []
          },
          "execution_count": 15
        }
      ]
    }
  ]
}