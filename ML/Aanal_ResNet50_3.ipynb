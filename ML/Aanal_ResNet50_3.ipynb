{
  "nbformat": 4,
  "nbformat_minor": 0,
  "metadata": {
    "colab": {
      "name": "Aanal_ResNet50_3",
      "provenance": [],
      "authorship_tag": "ABX9TyO/q/u6Vy8VldtVj8U/7VwO",
      "include_colab_link": true
    },
    "kernelspec": {
      "name": "python3",
      "display_name": "Python 3"
    },
    "accelerator": "GPU"
  },
  "cells": [
    {
      "cell_type": "markdown",
      "metadata": {
        "id": "view-in-github",
        "colab_type": "text"
      },
      "source": [
        "<a href=\"https://colab.research.google.com/github/Dikshuy/hail_UMICaana/blob/master/Aanal_ResNet50_3.ipynb\" target=\"_parent\"><img src=\"https://colab.research.google.com/assets/colab-badge.svg\" alt=\"Open In Colab\"/></a>"
      ]
    },
    {
      "cell_type": "code",
      "metadata": {
        "id": "ZsqTdLU-txVh",
        "colab_type": "code",
        "colab": {
          "base_uri": "https://localhost:8080/",
          "height": 50
        },
        "outputId": "11460068-d107-4bca-ceb7-0d3527ddfdd7"
      },
      "source": [
        "import numpy as np\n",
        "import cv2\n",
        "import os\n",
        "from google.colab import drive\n",
        "from tensorflow.keras.preprocessing.image import img_to_array\n",
        "from sklearn.preprocessing import LabelEncoder\n",
        "from keras.utils import to_categorical\n",
        "from google.colab.patches import cv2_imshow\n",
        "drive.mount('/content/drive')\n",
        "%cd '/content/drive/My Drive/Letters'"
      ],
      "execution_count": 7,
      "outputs": [
        {
          "output_type": "stream",
          "text": [
            "Drive already mounted at /content/drive; to attempt to forcibly remount, call drive.mount(\"/content/drive\", force_remount=True).\n",
            "/content/drive/My Drive/Letters\n"
          ],
          "name": "stdout"
        }
      ]
    },
    {
      "cell_type": "code",
      "metadata": {
        "id": "hMsblP79uA-k",
        "colab_type": "code",
        "colab": {
          "base_uri": "https://localhost:8080/",
          "height": 169
        },
        "outputId": "09558fb6-8952-4368-c69c-7b6d2be5f2ee"
      },
      "source": [
        "\n",
        "symbols = []\n",
        "alphabets = []\n",
        "#X_img = []\n",
        "img_path = '/content/drive/My Drive/Letters'\n",
        "for file in os.listdir('/content/drive/My Drive/Letters'):\n",
        "  thresh = cv2.imread(os.path.join(img_path, file), 0)\n",
        "#  thresh = cv2.cvtColor(thresh, cv2.COLOR_BGR2HSV)\n",
        "#  _, thresh = cv2.threshold(img, 155, 255, cv2.THRESH_BINARY)\n",
        "#  canny = cv2.Canny(thresh, 155, 255)\n",
        "#  cv2_imshow(canny)\n",
        "  symbols.append(thresh)\n",
        "\n",
        "  if file == \"C2.jpg\":\n",
        "    alphabets.append(\"C\")\n",
        "  else:\n",
        "    alphabets.append(file[0])\n",
        "\n",
        "#  if file == \"a2.jpg\":\n",
        "#    a_img = thresh \n",
        "cv2_imshow(symbols[7])\n",
        "\n"
      ],
      "execution_count": 8,
      "outputs": [
        {
          "output_type": "display_data",
          "data": {
            "image/png": "[encoded data removed]",
            "text/plain": [
              "<PIL.Image.Image image mode=L size=151x152 at 0x7F61C36A6908>"
            ]
          },
          "metadata": {
            "tags": []
          }
        }
      ]
    },
    {
      "cell_type": "code",
      "metadata": {
        "id": "oVLToNexH1Ry",
        "colab_type": "code",
        "colab": {
          "base_uri": "https://localhost:8080/",
          "height": 35
        },
        "outputId": "77bc6a66-6349-4a28-f335-bf6bd1085683"
      },
      "source": [
        "\n",
        "encoder = np.array(alphabets)\n",
        "\n",
        "label_encoder = LabelEncoder()\n",
        "integer_encoder = label_encoder.fit_transform(encoder)\n",
        "#print(alphabets)\n",
        "\n",
        "one_hot = to_categorical(integer_encoder)\n",
        "#print(one_hot)\n",
        "data = []\n",
        "label = []\n",
        "\n",
        "#for j in range(len(one_hot)):\n",
        "\"\"\"print(len(one_hot))\n",
        "print(one_hot[:])\n",
        "for i in range(18):\n",
        "  cv2_imshow(symbols[i])\"\"\""
      ],
      "execution_count": 9,
      "outputs": [
        {
          "output_type": "execute_result",
          "data": {
            "application/vnd.google.colaboratory.intrinsic+json": {
              "type": "string"
            },
            "text/plain": [
              "'print(len(one_hot))\\nprint(one_hot[:])\\nfor i in range(18):\\n  cv2_imshow(symbols[i])'"
            ]
          },
          "metadata": {
            "tags": []
          },
          "execution_count": 9
        }
      ]
    },
    {
      "cell_type": "code",
      "metadata": {
        "id": "l55yHwsDH2aW",
        "colab_type": "code",
        "colab": {
          "base_uri": "https://localhost:8080/",
          "height": 34
        },
        "outputId": "681afbef-9164-49a5-87d0-0bf4459abc73"
      },
      "source": [
        "for j in range(len(symbols)):\n",
        "  for i in range(-4, 5):\n",
        "    rows, cols = symbols[j].shape[:2]\n",
        "    M = cv2.getRotationMatrix2D((cols/2, rows/2), 5*i, 1)\n",
        "    res = cv2.warpAffine(symbols[j], M, (rows, cols))\n",
        "    label.append(one_hot[j])\n",
        "    #print(one_hot[0][j])\n",
        "    data.append(res)\n",
        "    \n",
        "#print(label[70])\n",
        "#cv2_imshow(data[70]) \n",
        "print(len(label), len(data))\n",
        "\n",
        "num = len(label)\n"
      ],
      "execution_count": 10,
      "outputs": [
        {
          "output_type": "stream",
          "text": [
            "162 162\n"
          ],
          "name": "stdout"
        }
      ]
    },
    {
      "cell_type": "code",
      "metadata": {
        "id": "o0dgD0_vH0Zz",
        "colab_type": "code",
        "colab": {
          "base_uri": "https://localhost:8080/",
          "height": 170
        },
        "outputId": "650f7f84-bf2c-46b7-d841-871d692feb4c"
      },
      "source": [
        "for j in range(num):\n",
        "  height, width = data[j].shape[:2]\n",
        "\n",
        "  dis_y, dis_x = height//7, width//7\n",
        "  T = np.float32([[1, 0, dis_x], [0, 1, dis_y]])\n",
        "\n",
        "  img_trans = cv2.warpAffine(data[j], T, ( width, height))\n",
        "  data.append(img_trans)\n",
        "  label.append(label[j])\n",
        "\n",
        "  T = np.float32([[1, 0, -dis_x], [0, 1, -dis_y]])\n",
        "\n",
        "  img_trans = cv2.warpAffine(data[j], T, ( width, height))\n",
        "  data.append(img_trans)\n",
        "  label.append(label[j])\n",
        "\n",
        "cv2_imshow(data[-1])\n",
        "#print(label[-1])\n",
        "#cv2_imshow(data[170])\n",
        "#print(label[170])"
      ],
      "execution_count": 11,
      "outputs": [
        {
          "output_type": "display_data",
          "data": {
            "image/png": "[encoded data removed]",
            "text/plain": [
              "<PIL.Image.Image image mode=L size=154x153 at 0x7F61C3612710>"
            ]
          },
          "metadata": {
            "tags": []
          }
        }
      ]
    },
    {
      "cell_type": "code",
      "metadata": {
        "id": "tThItVrGuE-O",
        "colab_type": "code",
        "colab": {
          "base_uri": "https://localhost:8080/",
          "height": 50
        },
        "outputId": "d4b8c9be-028d-4692-ec55-4066ea5ec7cd"
      },
      "source": [
        "for j in range(num):\n",
        "  for i in range(7, 13, 2):\n",
        "    res_img = cv2.GaussianBlur(data[j], (i, i), 0)\n",
        "    data.append(res_img)\n",
        "    label.append(label[j])\n",
        "    \n",
        "print(len(label), len(data))\n",
        "\n",
        "for j in range(num):\n",
        "  res_img = cv2.medianBlur(data[j], 11)\n",
        "  data.append(res_img)\n",
        "  label.append(label[j])\n",
        "\n",
        "print(len(label), len(data))\n",
        "\n",
        "#print(len(label), len(data))\n",
        "#cv2_imshow(data[650])\n",
        "#print(label[650]) \n",
        "#cv2_imshow(data[15])\n",
        "\n",
        "\n",
        "#print(len(label), len(data))\n",
        "#print(label[1500])\n",
        "#cv2_imshow(data[1500])"
      ],
      "execution_count": 12,
      "outputs": [
        {
          "output_type": "stream",
          "text": [
            "972 972\n",
            "1134 1134\n"
          ],
          "name": "stdout"
        }
      ]
    },
    {
      "cell_type": "code",
      "metadata": {
        "id": "0i-OQhU4uaxa",
        "colab_type": "code",
        "colab": {
          "base_uri": "https://localhost:8080/",
          "height": 34
        },
        "outputId": "dc689765-013f-437b-8732-c06fa3bd6409"
      },
      "source": [
        "for j in range(num):\n",
        "  for i in range(9, 13, 2):\n",
        "    res_img = cv2.bilateralFilter(data[j], i, 200, 200)\n",
        "    data.append(res_img)\n",
        "    label.append(label[j])\n",
        "\n",
        "print(len(label), len(data))"
      ],
      "execution_count": 13,
      "outputs": [
        {
          "output_type": "stream",
          "text": [
            "1458 1458\n"
          ],
          "name": "stdout"
        }
      ]
    },
    {
      "cell_type": "code",
      "metadata": {
        "id": "EIwYlDwXucwx",
        "colab_type": "code",
        "colab": {
          "base_uri": "https://localhost:8080/",
          "height": 34
        },
        "outputId": "4a87c0ff-8c18-40c8-895c-a25e99b8e83a"
      },
      "source": [
        "for j in range(num):\n",
        "  res_img = cv2.erode(data[j], np.ones((3,3)), iterations = 1)\n",
        "  data.append(res_img)\n",
        "  label.append(label[j])\n",
        "  #cv2_imshow(res_img)\n",
        "print(len(label), len(data))"
      ],
      "execution_count": 14,
      "outputs": [
        {
          "output_type": "stream",
          "text": [
            "1620 1620\n"
          ],
          "name": "stdout"
        }
      ]
    },
    {
      "cell_type": "code",
      "metadata": {
        "id": "dEDRDmSyuecn",
        "colab_type": "code",
        "colab": {
          "base_uri": "https://localhost:8080/",
          "height": 34
        },
        "outputId": "ce86c98c-7abc-4b4e-f397-d21301c89686"
      },
      "source": [
        "for j in range(num):\n",
        "  res_img = cv2.dilate(data[j], np.ones((5, 5), np.uint8), iterations = 1)\n",
        "  data.append(res_img)\n",
        "  label.append(label[j])\n",
        "\n",
        "print(len(label), len(data))"
      ],
      "execution_count": 15,
      "outputs": [
        {
          "output_type": "stream",
          "text": [
            "1782 1782\n"
          ],
          "name": "stdout"
        }
      ]
    },
    {
      "cell_type": "code",
      "metadata": {
        "id": "kTeK_s15rXio",
        "colab_type": "code",
        "colab": {
          "base_uri": "https://localhost:8080/",
          "height": 69
        },
        "outputId": "17aa6253-a8f9-44d7-ad2a-239134729c3e"
      },
      "source": [
        "\"\"\"for j in range(num):\n",
        "  \n",
        "  for i in range(1,7,2):\n",
        "    img7 = cv2.dilate(img7, np.ones((i, i), np.uint8), iterations =1)\n",
        "    img7 = cv2.erode(data[j], np.ones((i, i), np.uint8), iterations =1)\n",
        "    data.append(img7)\n",
        "    cv2_imshow(img7)\n",
        "    label.append(label[j])\n",
        "#  cv2_imshow(data[j])\n",
        "#cv2_imshow(data[4112])\n",
        "#print(label[4112])\n",
        "#print(len(label), len(data))\"\"\""
      ],
      "execution_count": 16,
      "outputs": [
        {
          "output_type": "execute_result",
          "data": {
            "application/vnd.google.colaboratory.intrinsic+json": {
              "type": "string"
            },
            "text/plain": [
              "'for j in range(num):\\n  \\n  for i in range(1,7,2):\\n    img7 = cv2.dilate(img7, np.ones((i, i), np.uint8), iterations =1)\\n    img7 = cv2.erode(data[j], np.ones((i, i), np.uint8), iterations =1)\\n    data.append(img7)\\n    cv2_imshow(img7)\\n    label.append(label[j])\\n#  cv2_imshow(data[j])\\n#cv2_imshow(data[4112])\\n#print(label[4112])\\n#print(len(label), len(data))'"
            ]
          },
          "metadata": {
            "tags": []
          },
          "execution_count": 16
        }
      ]
    },
    {
      "cell_type": "code",
      "metadata": {
        "id": "xmapnE7RraOd",
        "colab_type": "code",
        "colab": {
          "base_uri": "https://localhost:8080/",
          "height": 52
        },
        "outputId": "8fcd92ed-b354-47f4-d4e6-e3ee3c40d967"
      },
      "source": [
        "\"\"\"for j in range(num):\n",
        "  data.append(cv2.pyrDown(data[j]))\n",
        "  label.append(label[j])\n",
        "  data.append(cv2.pyrUp(data[j]))\n",
        "  label.append(label[j])\n",
        "#  cv2_imshow(cv2.pyrDown(data[j]))\n",
        "#print(len(label), len(data))\"\"\"\n"
      ],
      "execution_count": 17,
      "outputs": [
        {
          "output_type": "execute_result",
          "data": {
            "application/vnd.google.colaboratory.intrinsic+json": {
              "type": "string"
            },
            "text/plain": [
              "'for j in range(num):\\n  data.append(cv2.pyrDown(data[j]))\\n  label.append(label[j])\\n  data.append(cv2.pyrUp(data[j]))\\n  label.append(label[j])\\n#  cv2_imshow(cv2.pyrDown(data[j]))\\n#print(len(label), len(data))'"
            ]
          },
          "metadata": {
            "tags": []
          },
          "execution_count": 17
        }
      ]
    },
    {
      "cell_type": "code",
      "metadata": {
        "id": "nkry0eVjDxcU",
        "colab_type": "code",
        "colab": {
          "base_uri": "https://localhost:8080/",
          "height": 52
        },
        "outputId": "9282160b-e097-4dc1-e146-8375ab08fc33"
      },
      "source": [
        "\"\"\"for j in range(num):\n",
        "  img  = cv2.pyrDown(data[j])\n",
        "  img = cv2.pyrDown(img)\n",
        "  img = cv2.pyrUp(img)\n",
        "  img = cv2.dilate(img, np.ones((3, 3), np.uint8), iterations = 1 )\n",
        "  data.append(img)\n",
        "  label.append(label[j])\n",
        "\n",
        "data[-5] = cv2.resize(data[-5], (224, 224))\n",
        "\n",
        "cv2_imshow(data[-5])\n",
        "\n",
        "print(label[-5])\"\"\""
      ],
      "execution_count": 18,
      "outputs": [
        {
          "output_type": "execute_result",
          "data": {
            "application/vnd.google.colaboratory.intrinsic+json": {
              "type": "string"
            },
            "text/plain": [
              "'for j in range(num):\\n  img  = cv2.pyrDown(data[j])\\n  img = cv2.pyrDown(img)\\n  img = cv2.pyrUp(img)\\n  img = cv2.dilate(img, np.ones((3, 3), np.uint8), iterations = 1 )\\n  data.append(img)\\n  label.append(label[j])\\n\\ndata[-5] = cv2.resize(data[-5], (224, 224))\\n\\ncv2_imshow(data[-5])\\n\\nprint(label[-5])'"
            ]
          },
          "metadata": {
            "tags": []
          },
          "execution_count": 18
        }
      ]
    },
    {
      "cell_type": "code",
      "metadata": {
        "id": "K1ISG6QouglA",
        "colab_type": "code",
        "colab": {
          "base_uri": "https://localhost:8080/",
          "height": 50
        },
        "outputId": "9e66115d-6455-4633-d1f5-65c9db9e1568"
      },
      "source": [
        "import numpy as np\n",
        "for i in range(len(data)):\n",
        "  data[i] = cv2.resize(data[i], (128, 128))\n",
        "data = np.array(data)\n",
        "data = np.reshape(data, (data.shape[0], 128, 128, 1))\n",
        "label = np.array(label)\n",
        "print(label.shape)\n",
        "print(data.shape)"
      ],
      "execution_count": 19,
      "outputs": [
        {
          "output_type": "stream",
          "text": [
            "(1782, 17)\n",
            "(1782, 128, 128, 1)\n"
          ],
          "name": "stdout"
        }
      ]
    },
    {
      "cell_type": "code",
      "metadata": {
        "id": "rmEx6LNjeJVu",
        "colab_type": "code",
        "colab": {}
      },
      "source": [
        "from tensorflow.keras.layers import AveragePooling2D\n",
        "from tensorflow.keras.layers import Dropout\n",
        "from tensorflow.keras.layers import Flatten\n",
        "from tensorflow.keras.layers import Dense\n",
        "from tensorflow.keras.layers import Input, ZeroPadding2D, BatchNormalization, Add\n",
        "from keras.models import Model\n",
        "from tensorflow.keras.losses import MAE\n",
        "from tensorflow.keras.optimizers import Adam\n",
        "from sklearn.model_selection import train_test_split\n",
        "from tensorflow.keras.layers import Conv2D\n",
        "from tensorflow.keras import Input\n",
        "from tensorflow.keras.utils import plot_model\n",
        "from keras.models import Sequential\n",
        "from keras.layers import Conv2D, MaxPooling2D \n",
        "from keras.layers import Activation, Dropout, Flatten, Dense \n",
        "from keras import backend as K \n",
        "import keras\n",
        "from keras.initializers import glorot_uniform\n"
      ],
      "execution_count": 20,
      "outputs": []
    },
    {
      "cell_type": "code",
      "metadata": {
        "id": "Bo4cDUfyq9xX",
        "colab_type": "code",
        "colab": {}
      },
      "source": [
        "def identity_block(X, f, filters, stage, block):\n",
        "    \n",
        "    conv_name_base = 'res' + str(stage) + block + '_branch'\n",
        "    bn_name_base = 'bn' + str(stage) + block + '_branch'\n",
        "\n",
        "    # Retrieve Filters\n",
        "    F1, F2, F3 = filters\n",
        "\n",
        "    # Save the input value. You'll need this later to add back to the main path. \n",
        "    X_shortcut = X\n",
        "\n",
        "    X = Conv2D(filters=F1, kernel_size=(1, 1), strides=(1, 1), padding='valid', name=conv_name_base + '2a', kernel_initializer=glorot_uniform(seed=0))(X)\n",
        "    X = BatchNormalization(axis=3, name=bn_name_base + '2a')(X)\n",
        "    X = Activation('relu')(X)\n",
        "\n",
        "    \n",
        "    # Second component of main path (≈3 lines)\n",
        "    X = Conv2D(filters=F2, kernel_size=(f, f), strides=(1, 1), padding='same', name=conv_name_base + '2b', kernel_initializer=glorot_uniform(seed=0))(X)\n",
        "    X = BatchNormalization(axis=3, name=bn_name_base + '2b')(X)\n",
        "    X = Activation('relu')(X)\n",
        "\n",
        "    # Third component of main path (≈2 lines)\n",
        "    X = Conv2D(filters=F3, kernel_size=(1, 1), strides=(1, 1), padding='valid', name=conv_name_base + '2c', kernel_initializer=glorot_uniform(seed=0))(X)\n",
        "    X = BatchNormalization(axis=3, name=bn_name_base + '2c')(X)\n",
        "\n",
        "    # Final step: Add shortcut value to main path, and pass it through a RELU activation (≈2 lines)\n",
        "    X = Add()([X, X_shortcut])\n",
        "    X = Activation('relu')(X)\n",
        "\n",
        "    \n",
        "    return X"
      ],
      "execution_count": 21,
      "outputs": []
    },
    {
      "cell_type": "code",
      "metadata": {
        "id": "_9vyXU8brCeY",
        "colab_type": "code",
        "colab": {}
      },
      "source": [
        "\n",
        "# GRADED FUNCTION: convolutional_block\n",
        "\n",
        "def convolutional_block(X, f, filters, stage, block, s = 2):\n",
        "    \n",
        "    # defining name basis\n",
        "    conv_name_base = 'res' + str(stage) + block + '_branch'\n",
        "    bn_name_base = 'bn' + str(stage) + block + '_branch'\n",
        "\n",
        "    # Retrieve Filters\n",
        "    F1, F2, F3 = filters\n",
        "\n",
        "    # Save the input value\n",
        "    X_shortcut = X\n",
        "\n",
        "    # First component of main path \n",
        "    X = Conv2D(filters=F1, kernel_size=(1, 1), strides=(s, s), padding='valid', name=conv_name_base + '2a', kernel_initializer=glorot_uniform(seed=0))(X)\n",
        "    X = BatchNormalization(axis=3, name=bn_name_base + '2a')(X)\n",
        "    X = Activation('relu')(X)\n",
        "\n",
        "    \n",
        "    # Second component of main path (≈3 lines)\n",
        "    X = Conv2D(filters=F2, kernel_size=(f, f), strides=(1, 1), padding='same', name=conv_name_base + '2b', kernel_initializer=glorot_uniform(seed=0))(X)\n",
        "    X = BatchNormalization(axis=3, name=bn_name_base + '2b')(X)\n",
        "    X = Activation('relu')(X)\n",
        "\n",
        "    # Third component of main path (≈2 lines)\n",
        "    X = Conv2D(filters=F3, kernel_size=(1, 1), strides=(1, 1), padding='valid', name=conv_name_base + '2c', kernel_initializer=glorot_uniform(seed=0))(X)\n",
        "    X = BatchNormalization(axis=3, name=bn_name_base + '2c')(X)\n",
        "\n",
        "    ##### SHORTCUT PATH #### (≈2 lines)\n",
        "    X_shortcut = Conv2D(filters=F3, kernel_size=(1, 1), strides=(s, s), padding='valid', name=conv_name_base + '1', kernel_initializer=glorot_uniform(seed=0))(X_shortcut)\n",
        "    X_shortcut = BatchNormalization(axis=3, name=bn_name_base + '1')(X_shortcut)\n",
        "\n",
        "    # Final step: Add shortcut value to main path, and pass it through a RELU activation (≈2 lines)\n",
        "    X = Add()([X, X_shortcut])\n",
        "    X = Activation('relu')(X)\n",
        "\n",
        "    return X\n",
        "    "
      ],
      "execution_count": 22,
      "outputs": []
    },
    {
      "cell_type": "code",
      "metadata": {
        "id": "C7uFA-CzrRBF",
        "colab_type": "code",
        "colab": {}
      },
      "source": [
        "# GRADED FUNCTION: ResNet50\n",
        "\n",
        "def ResNet50(input_shape = (128, 128, 1), classes = 17):\n",
        "    \n",
        "    X_input = Input(input_shape)\n",
        "\n",
        "    # Zero-Padding\n",
        "    X = ZeroPadding2D((3, 3))(X_input)\n",
        "\n",
        "    # Stage 1\n",
        "    X = Conv2D(64, (5, 5), strides=(2, 2), name='conv1', kernel_initializer=glorot_uniform(seed=0))(X)\n",
        "    X = BatchNormalization(axis=3, name='bn_conv1')(X)\n",
        "    X = Activation('relu')(X)\n",
        "    X = MaxPooling2D((3, 3), strides=(2, 2))(X)\n",
        "\n",
        "    \n",
        "    # Stage 2\n",
        "    X = convolutional_block(X, f=3, filters=[64, 64, 128], stage=2, block='a', s=1)\n",
        "    X = identity_block(X, 3, [64, 64, 128], stage=2, block='b')\n",
        "    X = identity_block(X, 3, [64, 64, 128], stage=2, block='c')\n",
        "    X = identity_block(X, 3, [64, 64, 128], stage=2, block='d')\n",
        "    X = identity_block(X, 3, [64, 64, 128], stage=2, block='e')\n",
        "\n",
        "    \n",
        "    # Stage 3 (≈4 lines)\n",
        "    X = convolutional_block(X, f=3, filters=[128, 128, 256], stage=3, block='a', s=2)\n",
        "    X = identity_block(X, 3, [128, 128, 256], stage=3, block='b')\n",
        "    X = identity_block(X, 3, [128, 128, 256], stage=3, block='c')\n",
        "    X = identity_block(X, 3, [128, 128, 256], stage=3, block='d')\n",
        "\n",
        "\n",
        "    # Stage 4 (≈6 lines)\n",
        "    X = convolutional_block(X, f=3, filters=[256, 256, 512], stage=4, block='a', s=2)\n",
        "    X = identity_block(X, 3, [256, 256, 512], stage=4, block='b')\n",
        "    X = identity_block(X, 3, [256, 256, 512], stage=4, block='c')\n",
        "    X = identity_block(X, 3, [256, 256, 512], stage=4, block='d')\n",
        "    X = identity_block(X, 3, [256, 256, 512], stage=4, block='e')\n",
        "    X = identity_block(X, 3, [256, 256, 512], stage=4, block='f')\n",
        "    \n",
        "    # Stage 5 (≈3 lines)\n",
        "    X =  convolutional_block(X, f=3, filters=[512, 512, 1024], stage=5, block='a', s=2)\n",
        "    X = identity_block(X, 3, [512, 512, 1024], stage=5, block='b')\n",
        "    X = identity_block(X, 3, [512, 512, 1024], stage=5, block='c')\n",
        "    X = identity_block(X, 3, [512, 512, 1024], stage=5, block='d')\n",
        "\n",
        "    \n",
        "    \n",
        "    # AVGPOOL (≈1 line). Use \"X = AveragePooling2D(...)(X)\"\n",
        "    X = AveragePooling2D(pool_size=(2, 2), padding='same')(X)\n",
        "\n",
        "    \n",
        "    # output layer\n",
        "    X = Flatten()(X)\n",
        "    X = Dense(100, activation = 'relu')(X)\n",
        "    X = BatchNormalization()(X)\n",
        "    X = Dense(classes, activation='softmax', name='fc' + str(classes), kernel_initializer=glorot_uniform(seed=0))(X)\n",
        "\n",
        "    # Create model\n",
        "    model = Model(inputs=X_input, outputs=X, name='ResNet50')\n",
        "\n",
        "    return model"
      ],
      "execution_count": 38,
      "outputs": []
    },
    {
      "cell_type": "code",
      "metadata": {
        "id": "wJGv68ErrYqW",
        "colab_type": "code",
        "colab": {}
      },
      "source": [
        "model = ResNet50(input_shape = (128, 128, 1), classes = 17)"
      ],
      "execution_count": 39,
      "outputs": []
    },
    {
      "cell_type": "code",
      "metadata": {
        "id": "xXif3k8W9QCV",
        "colab_type": "code",
        "colab": {}
      },
      "source": [
        "model.compile(optimizer='adam', loss='categorical_crossentropy', metrics=['accuracy'])"
      ],
      "execution_count": 40,
      "outputs": []
    },
    {
      "cell_type": "code",
      "metadata": {
        "id": "A3oxazvD-bXv",
        "colab_type": "code",
        "colab": {
          "base_uri": "https://localhost:8080/",
          "height": 1000
        },
        "outputId": "9990bfcc-41a9-48e9-d31b-9f3a31db2e71"
      },
      "source": [
        "from sklearn .model_selection import train_test_split\n",
        "from sklearn.utils import shuffle\n",
        "X_train, X_test, Y_train, Y_test = train_test_split(data, label, random_state= 29, test_size = 0.2)\n",
        "#X_train, Y_train = shuffle(data, label)\n",
        "history = model.fit(X_train, Y_train, epochs = 40, batch_size = 100)"
      ],
      "execution_count": 41,
      "outputs": [
        {
          "output_type": "stream",
          "text": [
            "Epoch 1/40\n",
            "15/15 [==============================] - 7s 497ms/step - loss: 2.7616 - accuracy: 0.1460\n",
            "Epoch 2/40\n",
            "15/15 [==============================] - 7s 500ms/step - loss: 1.9252 - accuracy: 0.4351\n",
            "Epoch 3/40\n",
            "15/15 [==============================] - 7s 498ms/step - loss: 0.6341 - accuracy: 0.8800\n",
            "Epoch 4/40\n",
            "15/15 [==============================] - 7s 500ms/step - loss: 0.1242 - accuracy: 0.9937\n",
            "Epoch 5/40\n",
            "15/15 [==============================] - 8s 501ms/step - loss: 0.0354 - accuracy: 1.0000\n",
            "Epoch 6/40\n",
            "15/15 [==============================] - 8s 502ms/step - loss: 0.0190 - accuracy: 1.0000\n",
            "Epoch 7/40\n",
            "15/15 [==============================] - 8s 502ms/step - loss: 0.0135 - accuracy: 1.0000\n",
            "Epoch 8/40\n",
            "15/15 [==============================] - 8s 502ms/step - loss: 0.0106 - accuracy: 1.0000\n",
            "Epoch 9/40\n",
            "15/15 [==============================] - 8s 503ms/step - loss: 0.0092 - accuracy: 1.0000\n",
            "Epoch 10/40\n",
            "15/15 [==============================] - 8s 503ms/step - loss: 0.0084 - accuracy: 1.0000\n",
            "Epoch 11/40\n",
            "15/15 [==============================] - 8s 503ms/step - loss: 0.0074 - accuracy: 1.0000\n",
            "Epoch 12/40\n",
            "15/15 [==============================] - 8s 502ms/step - loss: 0.0070 - accuracy: 1.0000\n",
            "Epoch 13/40\n",
            "15/15 [==============================] - 8s 503ms/step - loss: 0.0063 - accuracy: 1.0000\n",
            "Epoch 14/40\n",
            "15/15 [==============================] - 8s 505ms/step - loss: 0.0061 - accuracy: 1.0000\n",
            "Epoch 15/40\n",
            "15/15 [==============================] - 8s 504ms/step - loss: 0.0056 - accuracy: 1.0000\n",
            "Epoch 16/40\n",
            "15/15 [==============================] - 8s 505ms/step - loss: 0.0054 - accuracy: 1.0000\n",
            "Epoch 17/40\n",
            "15/15 [==============================] - 8s 503ms/step - loss: 0.0050 - accuracy: 1.0000\n",
            "Epoch 18/40\n",
            "15/15 [==============================] - 8s 504ms/step - loss: 0.0047 - accuracy: 1.0000\n",
            "Epoch 19/40\n",
            "15/15 [==============================] - 8s 503ms/step - loss: 0.0045 - accuracy: 1.0000\n",
            "Epoch 20/40\n",
            "15/15 [==============================] - 8s 503ms/step - loss: 0.0043 - accuracy: 1.0000\n",
            "Epoch 21/40\n",
            "15/15 [==============================] - 8s 503ms/step - loss: 0.0041 - accuracy: 1.0000\n",
            "Epoch 22/40\n",
            "15/15 [==============================] - 8s 504ms/step - loss: 0.0039 - accuracy: 1.0000\n",
            "Epoch 23/40\n",
            "15/15 [==============================] - 8s 504ms/step - loss: 0.0038 - accuracy: 1.0000\n",
            "Epoch 24/40\n",
            "15/15 [==============================] - 8s 504ms/step - loss: 0.0036 - accuracy: 1.0000\n",
            "Epoch 25/40\n",
            "15/15 [==============================] - 8s 503ms/step - loss: 0.0034 - accuracy: 1.0000\n",
            "Epoch 26/40\n",
            "15/15 [==============================] - 8s 504ms/step - loss: 0.0033 - accuracy: 1.0000\n",
            "Epoch 27/40\n",
            "15/15 [==============================] - 8s 504ms/step - loss: 0.0033 - accuracy: 1.0000\n",
            "Epoch 28/40\n",
            "15/15 [==============================] - 8s 504ms/step - loss: 0.0032 - accuracy: 1.0000\n",
            "Epoch 29/40\n",
            "15/15 [==============================] - 8s 504ms/step - loss: 0.0030 - accuracy: 1.0000\n",
            "Epoch 30/40\n",
            "15/15 [==============================] - 8s 504ms/step - loss: 0.0028 - accuracy: 1.0000\n",
            "Epoch 31/40\n",
            "15/15 [==============================] - 8s 503ms/step - loss: 0.0027 - accuracy: 1.0000\n",
            "Epoch 32/40\n",
            "15/15 [==============================] - 8s 504ms/step - loss: 0.0026 - accuracy: 1.0000\n",
            "Epoch 33/40\n",
            "15/15 [==============================] - 8s 503ms/step - loss: 0.0024 - accuracy: 1.0000\n",
            "Epoch 34/40\n",
            "15/15 [==============================] - 8s 503ms/step - loss: 0.0023 - accuracy: 1.0000\n",
            "Epoch 35/40\n",
            "15/15 [==============================] - 8s 503ms/step - loss: 0.0024 - accuracy: 1.0000\n",
            "Epoch 36/40\n",
            "15/15 [==============================] - 8s 503ms/step - loss: 0.0022 - accuracy: 1.0000\n",
            "Epoch 37/40\n",
            "15/15 [==============================] - 8s 503ms/step - loss: 0.0021 - accuracy: 1.0000\n",
            "Epoch 38/40\n",
            "15/15 [==============================] - 8s 502ms/step - loss: 0.0021 - accuracy: 1.0000\n",
            "Epoch 39/40\n",
            "15/15 [==============================] - 8s 502ms/step - loss: 0.0020 - accuracy: 1.0000\n",
            "Epoch 40/40\n",
            "15/15 [==============================] - 8s 503ms/step - loss: 0.0019 - accuracy: 1.0000\n"
          ],
          "name": "stdout"
        }
      ]
    },
    {
      "cell_type": "code",
      "metadata": {
        "id": "PyY_H6ox1GXG",
        "colab_type": "code",
        "colab": {
          "base_uri": "https://localhost:8080/",
          "height": 295
        },
        "outputId": "9c97b07c-be59-491f-ea4c-03df7d9bd72e"
      },
      "source": [
        "import matplotlib.pyplot as plt\n",
        "plt.plot(history.history['accuracy'])\n",
        "#plt.plot(history.history['val_accuracy'])\n",
        "plt.title('model accuracy')\n",
        "plt.ylabel('accuracy')\n",
        "plt.xlabel('epoch')\n",
        "plt.legend(['train', 'test'], loc='upper left')\n",
        "plt.show()\n"
      ],
      "execution_count": 42,
      "outputs": [
        {
          "output_type": "display_data",
          "data": {
            "image/png": "[encoded data removed]",
            "text/plain": [
              "<Figure size 432x288 with 1 Axes>"
            ]
          },
          "metadata": {
            "tags": [],
            "needs_background": "light"
          }
        }
      ]
    },
    {
      "cell_type": "code",
      "metadata": {
        "id": "CuQy48B1CH-a",
        "colab_type": "code",
        "colab": {
          "base_uri": "https://localhost:8080/",
          "height": 50
        },
        "outputId": "b0000eb0-002d-4c8e-901f-9738cee524b5"
      },
      "source": [
        "\n",
        "\n",
        "#img = cv2.imread('/content/drive/My Drive/a2.png', 0)\n",
        "#X_test = preprocess(img)\n",
        "preds = model.evaluate(X_test, Y_test)\n",
        "print(preds)\n"
      ],
      "execution_count": 43,
      "outputs": [
        {
          "output_type": "stream",
          "text": [
            "12/12 [==============================] - 1s 59ms/step - loss: 0.0033 - accuracy: 1.0000\n",
            "[0.0032504291739314795, 1.0]\n"
          ],
          "name": "stdout"
        }
      ]
    },
    {
      "cell_type": "code",
      "metadata": {
        "id": "1d6cKdo_khX0",
        "colab_type": "code",
        "colab": {}
      },
      "source": [
        "def preprocess(img, alpha, beta):\n",
        "  img = cv2.resize(img, (128, 128))\n",
        "  new_img = np.zeros(img.shape, img.dtype)\n",
        "#  alpha = 0.8\n",
        "#  beta = 20\n",
        "  print(img.shape)\n",
        "  for i in range(img.shape[0]):\n",
        "    for j in range(img.shape[1]):\n",
        "      new_img[i, j] = np.clip(img[i, j]*alpha+ beta, 0,255)\n",
        "#  thresh = np.array(img)\n",
        "  cv2_imshow(new_img)\n",
        "  thresh = np.reshape(new_img, (1, 128, 128, 1))\n",
        "  print(thresh.shape)\n",
        "#  X_test = np.reshape(thresh, (1, 128, 128, 1))\n",
        "  return thresh\n",
        "\n"
      ],
      "execution_count": 44,
      "outputs": []
    },
    {
      "cell_type": "code",
      "metadata": {
        "id": "TX8nmABbPOw0",
        "colab_type": "code",
        "colab": {
          "base_uri": "https://localhost:8080/",
          "height": 246
        },
        "outputId": "943542ca-4bfb-46c5-c014-c6eb01d44571"
      },
      "source": [
        "\n",
        "img1 = cv2.imread('/content/drive/My Drive/b1.png', 0)\n",
        "#cv2_imshow(img1)\n",
        "X_test = preprocess(img1, 1.5, 40)\n",
        "preds = model.predict(X_test)\n",
        "print(preds)\n"
      ],
      "execution_count": 45,
      "outputs": [
        {
          "output_type": "stream",
          "text": [
            "(128, 128)\n"
          ],
          "name": "stdout"
        },
        {
          "output_type": "display_data",
          "data": {
            "image/png": "[encoded data removed]",
            "text/plain": [
              "<PIL.Image.Image image mode=L size=128x128 at 0x7F6169430F60>"
            ]
          },
          "metadata": {
            "tags": []
          }
        },
        {
          "output_type": "stream",
          "text": [
            "(1, 128, 128, 1)\n",
            "[[4.4119549e-03 8.2200184e-02 7.9015183e-01 1.6448773e-02 5.6945940e-04\n",
            "  7.6096896e-03 7.5112605e-03 9.7182579e-03 7.5278981e-03 7.3409718e-03\n",
            "  3.1578909e-03 1.4026226e-02 5.0531668e-03 2.9459674e-02 4.7453842e-03\n",
            "  1.3784440e-03 8.6888773e-03]]\n"
          ],
          "name": "stdout"
        }
      ]
    },
    {
      "cell_type": "code",
      "metadata": {
        "id": "H9ms9iDB55aC",
        "colab_type": "code",
        "colab": {
          "base_uri": "https://localhost:8080/",
          "height": 34
        },
        "outputId": "901bc6f0-7d72-434b-e117-1cf1ebf038d0"
      },
      "source": [
        "model_json = model.to_json()\n",
        "with open(\"model.json\", \"w\") as json_file:\n",
        "    json_file.write(model_json)\n",
        "# serialize weights to HDF5\n",
        "model.save_weights(\"model.h5\")\n",
        "print(\"Saved model to disk\")\n",
        "\n"
      ],
      "execution_count": 46,
      "outputs": [
        {
          "output_type": "stream",
          "text": [
            "Saved model to disk\n"
          ],
          "name": "stdout"
        }
      ]
    },
    {
      "cell_type": "code",
      "metadata": {
        "id": "9qwIM4Kqu9Yr",
        "colab_type": "code",
        "colab": {}
      },
      "source": [
        ""
      ],
      "execution_count": null,
      "outputs": []
    },
    {
      "cell_type": "code",
      "metadata": {
        "id": "ggcp9-cbz_ny",
        "colab_type": "code",
        "colab": {}
      },
      "source": [
        ""
      ],
      "execution_count": null,
      "outputs": []
    }
  ]
}