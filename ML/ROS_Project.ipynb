{
  "nbformat": 4,
  "nbformat_minor": 0,
  "metadata": {
    "colab": {
      "name": "ROS Project",
      "provenance": [],
      "collapsed_sections": [],
      "authorship_tag": "ABX9TyMA6DojTPbBxNBEr5Yo6sBq",
      "include_colab_link": true
    },
    "kernelspec": {
      "name": "python3",
      "display_name": "Python 3"
    }
  },
  "cells": [
    {
      "cell_type": "markdown",
      "metadata": {
        "id": "view-in-github",
        "colab_type": "text"
      },
      "source": [
        "<a href=\"https://colab.research.google.com/github/Dikshuy/hail_UMICaana/blob/master/ROS_Project.ipynb\" target=\"_parent\"><img src=\"https://colab.research.google.com/assets/colab-badge.svg\" alt=\"Open In Colab\"/></a>"
      ]
    },
    {
      "cell_type": "code",
      "metadata": {
        "id": "esYklfmO7o1L",
        "colab_type": "code",
        "colab": {
          "base_uri": "https://localhost:8080/",
          "height": 50
        },
        "outputId": "6dd59134-aedf-4358-96c4-7204ebbbdfd2"
      },
      "source": [
        "import numpy as np\n",
        "import cv2\n",
        "import os\n",
        "from google.colab import drive\n",
        "from tensorflow.keras.preprocessing.image import img_to_array\n",
        "from google.colab.patches import cv2_imshow\n",
        "drive.mount('/content/drive')\n",
        "%cd '/content/drive/My Drive/Intermediate_Assignment_Dataset'"
      ],
      "execution_count": null,
      "outputs": [
        {
          "output_type": "stream",
          "text": [
            "Drive already mounted at /content/drive; to attempt to forcibly remount, call drive.mount(\"/content/drive\", force_remount=True).\n",
            "/content/drive/.shortcut-targets-by-id/1_64vI7EEzsc9vTTE_FctsOaltUeWw9_V/Intermediate_Assignment_Dataset\n"
          ],
          "name": "stdout"
        }
      ]
    },
    {
      "cell_type": "code",
      "metadata": {
        "id": "wwTyIWMl8AJO",
        "colab_type": "code",
        "colab": {
          "base_uri": "https://localhost:8080/",
          "height": 34
        },
        "outputId": "38bb22a9-5596-4173-9fa8-a2dfdbec8a9e"
      },
      "source": [
        "label = []\n",
        "data = []\n",
        "i=0\n",
        "img_path = '/content/drive/My Drive/Letters'\n",
        "for file in os.listdir('/content/drive/My Drive/Letters'):\n",
        "  img = cv2.imread(os.path.join(img_path, file))\n",
        "#  print(img.shape)\n",
        "#  img = img_to_array(img)\n",
        "  data.append(img)\n",
        "#  print(img.shape)\n",
        "  if file == \"C2.jpg\":\n",
        "    label.append(\"C\")\n",
        "  else:\n",
        "    label.append(file[0])\n",
        "#  print(file[0], file)\n",
        "#print(len(label), len(data), len(data[0]), len(data[0][0]))\n",
        "#cv2_imshow( img)\n",
        "\n",
        "for j in range(19):\n",
        "  for i in range(-3, 4):\n",
        "    if i!=0:\n",
        "      rows, cols = data[j].shape[:2]\n",
        "      M = cv2.getRotationMatrix2D((cols/2, rows/2), 5*i, 1)\n",
        "      res = cv2.warpAffine(data[j],M, (rows, cols))\n",
        "\n",
        "      data.append(res)\n",
        "      label.append(label)\n",
        "\n",
        "print(len(label), len(data))"
      ],
      "execution_count": null,
      "outputs": [
        {
          "output_type": "stream",
          "text": [
            "132 132\n"
          ],
          "name": "stdout"
        }
      ]
    },
    {
      "cell_type": "markdown",
      "metadata": {
        "id": "931XWAehkk2X",
        "colab_type": "text"
      },
      "source": [
        "I will add guassian, median and bilateral blur. "
      ]
    },
    {
      "cell_type": "code",
      "metadata": {
        "id": "Uqcs_Wx9hh2A",
        "colab_type": "code",
        "colab": {
          "base_uri": "https://localhost:8080/",
          "height": 34
        },
        "outputId": "1ec722e4-48e0-42e7-a26e-10dc636c5004"
      },
      "source": [
        "for j in range(152):\n",
        "  for i in range(1, 11, 2):\n",
        "    img = data[j]\n",
        "#    cv2_imshow(img)\n",
        "#    print(img)\n",
        "    img1 = cv2.GaussianBlur(img, (i,i), 0)\n",
        "#    cv2_imshow(img1)\n",
        "\n",
        "    data.append(img1)\n",
        "    label.append(label[j])\n",
        "#  cv2_imshow(data[j])\n",
        "    \n",
        "print(len(label), len(data))\n",
        "#cv2_imshow(data[650])\n",
        "#print(label[650]) \n",
        "#cv2_imshow(data[15])"
      ],
      "execution_count": null,
      "outputs": [
        {
          "output_type": "stream",
          "text": [
            "892 892\n"
          ],
          "name": "stdout"
        }
      ]
    },
    {
      "cell_type": "code",
      "metadata": {
        "id": "5ct6fuQxuFO4",
        "colab_type": "code",
        "colab": {
          "base_uri": "https://localhost:8080/",
          "height": 34
        },
        "outputId": "b5aa037b-c529-4132-f784-2ae0a6ed4ea7"
      },
      "source": [
        "for j in range(152):\n",
        "  for i in range(1, 11, 2):\n",
        "    img2 = cv2.medianBlur(data[j], i)\n",
        "    data.append(img2)\n",
        "#    cv2_imshow(img2)\n",
        "    label.append(label[j])\n",
        "#  cv2_imshow(data[j])\n",
        "\n",
        "print(len(label), len(data))\n"
      ],
      "execution_count": null,
      "outputs": [
        {
          "output_type": "stream",
          "text": [
            "1652 1652\n"
          ],
          "name": "stdout"
        }
      ]
    },
    {
      "cell_type": "code",
      "metadata": {
        "id": "TEhylshiukM9",
        "colab_type": "code",
        "colab": {
          "base_uri": "https://localhost:8080/",
          "height": 34
        },
        "outputId": "a11437cf-7fff-4ad7-c7a0-d7d339ff8249"
      },
      "source": [
        "for j in range(152):\n",
        "  for i in range(1, 11, 2):\n",
        "    img3 = cv2.bilateralFilter(data[j], i, 75, 75)\n",
        "    data.append(img3)\n",
        "#    cv2_imshow(img3)\n",
        "    label.append(label[j])\n",
        "#  cv2_imshow(data[j])\n",
        "print(len(label), len(data))\n"
      ],
      "execution_count": null,
      "outputs": [
        {
          "output_type": "stream",
          "text": [
            "2412 2412\n"
          ],
          "name": "stdout"
        }
      ]
    },
    {
      "cell_type": "code",
      "metadata": {
        "id": "-QcIOkH3u0Bt",
        "colab_type": "code",
        "colab": {
          "base_uri": "https://localhost:8080/",
          "height": 34
        },
        "outputId": "7b2a77c0-9ca5-44ba-dc0e-3e1a3fe4e753"
      },
      "source": [
        "for j in range(152):\n",
        "  img4 = cv2.cvtColor(data[j], cv2.COLOR_BGR2GRAY)\n",
        "  for i in range(1, 7, 2):\n",
        "    img5 = cv2.erode(img4, np.ones((i,i)), iterations = 1)\n",
        "    data.append(img5)\n",
        "#    cv2_imshow(img5)\n",
        "    label.append(label[j])\n",
        "#  cv2_imshow(img4)\n",
        "print(len(label), len(data))"
      ],
      "execution_count": null,
      "outputs": [
        {
          "output_type": "stream",
          "text": [
            "2868 2868\n"
          ],
          "name": "stdout"
        }
      ]
    },
    {
      "cell_type": "code",
      "metadata": {
        "id": "wt8nuwjWoDK-",
        "colab_type": "code",
        "colab": {
          "base_uri": "https://localhost:8080/",
          "height": 34
        },
        "outputId": "5453c3ca-5b2b-4eae-a25e-c2f282eeb176"
      },
      "source": [
        "for j in range(152):\n",
        "  img4 = cv2.cvtColor(data[j], cv2.COLOR_BGR2GRAY)\n",
        "\n",
        "  for i in range(1, 7, 2):\n",
        "    img6 = cv2.dilate(data[4], np.ones((i, i), np.uint8), iterations = 1)\n",
        "    data.append(img6)\n",
        "#    cv2_imshow(img6)\n",
        "    label.append(label[j])\n",
        "#  cv2_imshow(data[j])\n",
        "print(len(label), len(data))"
      ],
      "execution_count": null,
      "outputs": [
        {
          "output_type": "stream",
          "text": [
            "3324 3324\n"
          ],
          "name": "stdout"
        }
      ]
    },
    {
      "cell_type": "code",
      "metadata": {
        "id": "z5MSBoBWyEDm",
        "colab_type": "code",
        "colab": {
          "base_uri": "https://localhost:8080/",
          "height": 34
        },
        "outputId": "f6d15c5c-5d09-49a5-9399-d0ce56d0e3d5"
      },
      "source": [
        "for j in range(152):\n",
        "  img4 = cv2.cvtColor(data[j], cv2.COLOR_BGR2GRAY)\n",
        "\n",
        "  for i in range(1,7,2):\n",
        "    img7 = cv2.erode(img4, np.ones((i, i), np.uint8), iterations =1)\n",
        "    img7 = cv2.dilate(img7, np.ones((i, i), np.uint8), iterations =1)\n",
        "    data.append(img7)\n",
        "#    cv2_imshow(img7)\n",
        "    label.append(label)\n",
        "#  cv2_imshow(data[j])\n",
        "print(len(label), len(data))"
      ],
      "execution_count": null,
      "outputs": [
        {
          "output_type": "stream",
          "text": [
            "3780 3780\n"
          ],
          "name": "stdout"
        }
      ]
    },
    {
      "cell_type": "code",
      "metadata": {
        "id": "F5ox1aZkzCEN",
        "colab_type": "code",
        "colab": {
          "base_uri": "https://localhost:8080/",
          "height": 34
        },
        "outputId": "97ba8368-0692-4724-b022-2c785aac2831"
      },
      "source": [
        "for j in range(152):\n",
        "  data.append(cv2.pyrDown(data[j]))\n",
        "  label.append(label[j])\n",
        "  data.append(cv2.pyrUp(data[j]))\n",
        "  label.append(label[j])\n",
        "\n",
        "print(len(label), len(data))"
      ],
      "execution_count": null,
      "outputs": [
        {
          "output_type": "stream",
          "text": [
            "4084 4084\n"
          ],
          "name": "stdout"
        }
      ]
    },
    {
      "cell_type": "code",
      "metadata": {
        "id": "oRaMZCRU94BH",
        "colab_type": "code",
        "colab": {}
      },
      "source": [
        "for img in data:\n",
        "  img = cv2.resize(img, (664, 664))\n"
      ],
      "execution_count": null,
      "outputs": []
    },
    {
      "cell_type": "code",
      "metadata": {
        "id": "GI7ogzsDf2JY",
        "colab_type": "code",
        "colab": {}
      },
      "source": [
        ""
      ],
      "execution_count": null,
      "outputs": []
    },
    {
      "cell_type": "code",
      "metadata": {
        "id": "e2MUhN7zYQ_7",
        "colab_type": "code",
        "colab": {}
      },
      "source": [
        ""
      ],
      "execution_count": null,
      "outputs": []
    }
  ]
}